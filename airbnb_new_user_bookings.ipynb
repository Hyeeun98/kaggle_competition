{
  "nbformat": 4,
  "nbformat_minor": 0,
  "metadata": {
    "accelerator": "GPU",
    "colab": {
      "name": "airbnb new user bookings.ipynb",
      "provenance": [],
      "collapsed_sections": [],
      "authorship_tag": "ABX9TyPnc7PIFKtQRyyTqYzrWNsB",
      "include_colab_link": true
    },
    "kernelspec": {
      "display_name": "Python 3",
      "name": "python3"
    },
    "language_info": {
      "name": "python"
    }
  },
  "cells": [
    {
      "cell_type": "markdown",
      "metadata": {
        "id": "view-in-github",
        "colab_type": "text"
      },
      "source": [
        "<a href=\"https://colab.research.google.com/github/Hyeeun98/kaggle_competition/blob/main/airbnb_new_user_bookings.ipynb\" target=\"_parent\"><img src=\"https://colab.research.google.com/assets/colab-badge.svg\" alt=\"Open In Colab\"/></a>"
      ]
    },
    {
      "cell_type": "markdown",
      "metadata": {
        "id": "fFqcAQNPny0l"
      },
      "source": [
        "#데이터 불러오기 "
      ]
    },
    {
      "cell_type": "code",
      "metadata": {
        "colab": {
          "base_uri": "https://localhost:8080/"
        },
        "id": "6FavZ0dEm28j",
        "outputId": "9d1a7082-f22e-4a1d-ecff-8045a684fea1"
      },
      "source": [
        "!pip install kaggle --upgrade"
      ],
      "execution_count": null,
      "outputs": [
        {
          "output_type": "stream",
          "text": [
            "Requirement already satisfied: kaggle in /usr/local/lib/python3.7/dist-packages (1.5.12)\n",
            "Requirement already satisfied: python-dateutil in /usr/local/lib/python3.7/dist-packages (from kaggle) (2.8.1)\n",
            "Requirement already satisfied: requests in /usr/local/lib/python3.7/dist-packages (from kaggle) (2.23.0)\n",
            "Requirement already satisfied: python-slugify in /usr/local/lib/python3.7/dist-packages (from kaggle) (5.0.2)\n",
            "Requirement already satisfied: certifi in /usr/local/lib/python3.7/dist-packages (from kaggle) (2021.5.30)\n",
            "Requirement already satisfied: six>=1.10 in /usr/local/lib/python3.7/dist-packages (from kaggle) (1.15.0)\n",
            "Requirement already satisfied: tqdm in /usr/local/lib/python3.7/dist-packages (from kaggle) (4.41.1)\n",
            "Requirement already satisfied: urllib3 in /usr/local/lib/python3.7/dist-packages (from kaggle) (1.24.3)\n",
            "Requirement already satisfied: text-unidecode>=1.3 in /usr/local/lib/python3.7/dist-packages (from python-slugify->kaggle) (1.3)\n",
            "Requirement already satisfied: chardet<4,>=3.0.2 in /usr/local/lib/python3.7/dist-packages (from requests->kaggle) (3.0.4)\n",
            "Requirement already satisfied: idna<3,>=2.5 in /usr/local/lib/python3.7/dist-packages (from requests->kaggle) (2.10)\n"
          ],
          "name": "stdout"
        }
      ]
    },
    {
      "cell_type": "code",
      "metadata": {
        "id": "5-1PeoOKnRrK"
      },
      "source": [
        "import os\n",
        "\n",
        "os.environ['KAGGLE_USERNAME'] = 'hyeyoo'\n",
        "os.environ['KAGGLE_KEY'] = '2f07fbc1e1299092a94ce3a59c547201'"
      ],
      "execution_count": null,
      "outputs": []
    },
    {
      "cell_type": "code",
      "metadata": {
        "colab": {
          "base_uri": "https://localhost:8080/"
        },
        "id": "srqyOaBxnS6q",
        "outputId": "ca87de2f-6218-4eeb-aa56-ec269677571a"
      },
      "source": [
        "!kaggle -h"
      ],
      "execution_count": null,
      "outputs": [
        {
          "output_type": "stream",
          "text": [
            "usage: kaggle [-h] [-v] {competitions,c,datasets,d,kernels,k,config} ...\n",
            "\n",
            "optional arguments:\n",
            "  -h, --help            show this help message and exit\n",
            "  -v, --version         show program's version number and exit\n",
            "\n",
            "commands:\n",
            "  {competitions,c,datasets,d,kernels,k,config}\n",
            "                        Use one of:\n",
            "                        competitions {list, files, download, submit, submissions, leaderboard}\n",
            "                        datasets {list, files, download, create, version, init, metadata, status}\n",
            "                        config {view, set, unset}\n",
            "    competitions        Commands related to Kaggle competitions\n",
            "    datasets            Commands related to Kaggle datasets\n",
            "    kernels             Commands related to Kaggle kernels\n",
            "    config              Configuration settings\n"
          ],
          "name": "stdout"
        }
      ]
    },
    {
      "cell_type": "code",
      "metadata": {
        "colab": {
          "base_uri": "https://localhost:8080/"
        },
        "id": "zeo4wTAbnTxa",
        "outputId": "1e2eb699-afe4-49f2-ac11-7c2fd78085f0"
      },
      "source": [
        "!kaggle competitions download -c airbnb-recruiting-new-user-bookings"
      ],
      "execution_count": null,
      "outputs": [
        {
          "output_type": "stream",
          "text": [
            "Warning: Looks like you're using an outdated API Version, please consider updating (server 1.5.12 / client 1.5.4)\n",
            "sessions.csv.zip: Skipping, found more recently modified local copy (use --force to force download)\n",
            "sample_submission_NDF.csv.zip: Skipping, found more recently modified local copy (use --force to force download)\n",
            "train_users_2.csv.zip: Skipping, found more recently modified local copy (use --force to force download)\n",
            "countries.csv.zip: Skipping, found more recently modified local copy (use --force to force download)\n",
            "test_users.csv.zip: Skipping, found more recently modified local copy (use --force to force download)\n",
            "age_gender_bkts.csv.zip: Skipping, found more recently modified local copy (use --force to force download)\n"
          ],
          "name": "stdout"
        }
      ]
    },
    {
      "cell_type": "code",
      "metadata": {
        "colab": {
          "background_save": true,
          "base_uri": "https://localhost:8080/"
        },
        "id": "uareJN9EncdW",
        "outputId": "ef6767d4-0742-4623-a3e1-5a988ef6e030"
      },
      "source": [
        "!unzip '*zip'"
      ],
      "execution_count": null,
      "outputs": [
        {
          "output_type": "stream",
          "text": [
            "Archive:  sample_submission_NDF.csv.zip\n",
            "replace sample_submission_NDF.csv? [y]es, [n]o, [A]ll, [N]one, [r]ename: "
          ],
          "name": "stdout"
        }
      ]
    },
    {
      "cell_type": "code",
      "metadata": {
        "colab": {
          "base_uri": "https://localhost:8080/"
        },
        "id": "0lE38T7tnu0E",
        "outputId": "72aba00f-a6c7-4b41-f184-5a0767fff817"
      },
      "source": [
        "! ls"
      ],
      "execution_count": null,
      "outputs": [
        {
          "output_type": "stream",
          "text": [
            "age_gender_bkts.csv.zip  sample_submission_NDF.csv.zip\ttrain_users_2.csv.zip\n",
            "countries.csv.zip\t sessions.csv.zip\n",
            "sample_data\t\t test_users.csv.zip\n"
          ],
          "name": "stdout"
        }
      ]
    },
    {
      "cell_type": "markdown",
      "metadata": {
        "id": "1Rs2fVFSoAgN"
      },
      "source": [
        "#Airbnb new user bookings\n",
        "\n",
        "![image.png](data:image/png;base64,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)"
      ]
    },
    {
      "cell_type": "markdown",
      "metadata": {
        "id": "qj486cccoNcF"
      },
      "source": [
        "![image.png](data:image/png;base64,iVBORw0KGgoAAAANSUhEUgAABKIAAAFuCAYAAACydrDiAAAgAElEQVR4Aeydu8tdR5a3v79GiQIlijpRqsCBFTmQwODAAkMHEwha0B2MEiXCgaBhDO1EgZnGAwpGiQUzgTAKxjRYkRjhwEhgRoE6aRAGB+djnfbveGmpLqv25Vze9xGIvXftqnV5alXtqnX2Oe//2/APAhCAAAQgAAEIQAACEIAABCAAAQhAAAJ7IPD/9qADFRCAAAQgAAEIQAACEIAABCAAAQhAAAIQ2JCIIgggAAEIQAACEIAABCAAAQhAAAIQgAAE9kKARNReMKMEAhCAAAQgAAEIQAACEIAABCAAAQhAgEQUMQABCEAAAhCAAAQgAAEIQAACEIAABCCwFwIkovaCGSUQgAAEIAABCEAAAhCAAAQgAAEIQAACJKKIAQhAAAIQgAAEIAABCEAAAhCAAAQgAIG9ECARtRfMKIEABCAAAQhAAAIQgAAEIAABCEAAAhAgEUUMQAACEIAABCAAAQhAAAIQgAAEIAABCOyFAImovWBGCQQgAAEIQAACEIAABCAAAQhAAAIQgACJKGIAAhCAAAQgAAEIQAACEIAABCAAAQhAYC8ESETtBTNKIAABCEAAAhCAAAQgAAEIQAACEIAABM5FIurrr7/eXLhwYXP//v1dj9+9e3db9ujRo13ZGicvX77cXL58efPhhx9u3r59u4aKnczvvvtu69Nnn322K+MEAhCAAAQgAAEIQAACEIAABCAAAQgcCwESUSSijiUWsQMCEIAABCAAAQhAAAIQgAAEIACBM07g5BJResPI3nBq/fdvOi3xRtRPP/20uXPnzvbtJum9fv365vHjx80Qkb29N6J+/vnnzZUrV5o+Sa8dL168uHn27Nk7unkj6h0cXEAAAhCAAAQgAAEIQAACEIAABCBwZARIRCXeiLIEj329zieC/Pnt27er3UoiqoqGGxCAAAQgAAEIQAACEIAABCAAAQicMwInm4jqvWHk+3HOG1FKJFni6datW5sXL15sRf/yyy+bBw8e7JJT/venvG6179mrN6IuXbq0efPmjReRPueNqDQqKkIAAhCAAAQgAAEIQAACEIAABCBwAAIkojpvROlHzWs/AK7kTy2BRCLqAFGNSghAAAIQgAAEIAABCEAAAhCAAASOkgCJqEYiSkmkWpJJPapkVemtKMngjSjR4ggBCEAAAhCAAAQgAAEIQAACEIDAeSVAIqqRiNJX+mpvQylo9FZUKdlEIkqUOEIAAhCAAAQgAAEIQAACEIAABCBw3gmQiGokovSmk/8LfKWAaf2+E4moEjHKIAABCEAAAhCAAAQgAAEIQAACEDiPBM5UIsp+QPzmzZu7HxD3f9nOzv1X53pJJsm6ePHi5tmzZ83YaNUlEdVEx00IQAACEIAABCAAAQhAAAIQgAAEzhGBRRJRlmy5cePGNgFkiZuHDx+uhrCV2FFCKCagdH0KiSjZWjt6HyJkfUWw91XC2I5rCEAAAhCAAAQgAAEIQAACEIAABCCwDwKzE1FKDMXESe/rbFOdk77S7zHVZOq3nnwS51jfiIoc47V8UNIp3rdrElG1SKAcAhCAAAQgAAEIQAACEIAABCAAgUMSmJ2IUkInJkRGEkUjAPaViDKbzLdj/WoeiaiRqKEuBCAAAQhAAAIQgAAEIAABCEAAAsdAgEQUP1Z+DHGIDRCAAAQgAAEIQAACEIAABCAAAQicAwIkohqJKH2lr/dVN72dVHoLLPsGV+sv72XjUHb07M3Kox4EIAABCEAAAhCAAAQgAAEIQAACEFiSwOxElBIt8at5p/4bUQZZvl26dGnz5s2bInf/A+n6/SZfUTJKSSpfj0SUp8E5BCAAAQhAAAIQgAAEIAABCEAAAmeRwOxElEGxZMsx/NW8WgfpzSafKNJvW/USZqpXe8voyZMn278WWEtWkYiq9QrlEIAABCAAAQhAAAIQgAAEIAABCJw3AoskovYJTYmd+AZWvPY/Mj4nEaU3lUy+vdX04sWLrbv2JtSDBw+2SSi755Ncnofs5Y0oT4VzCEAAAhCAAAQgAAEIQAACEIAABM4jARJRjd+IUkAomRSTXbquJaGsvdpmE1GSmT163fxGlHqMIwQgAAEIQAACEIAABCAAAQhAAALHSODkElFTIM55I0r6Xr9+vbl3797m8uXLu7egrl+/vnn8+LGqFI9rJ6L8VwZJRBW7gEIIQAACEIAABCAAAQhAAAIQgAAEjoQAiajEG1Fz+iqbiJqjQ21JRIkERwhAAAIQgAAEIAABCEAAAhCAAASOkQCJKBJRxxiX2AQBCEAAAhCAAAQgAAEIQAACEIDAGSRAIopE1BkMa1yCAAQgAAEIQAACEIAABCAAAQhA4BgJkIgiEXWMcYlNEIAABCAAAQhAAAIQgAAEIAABCJxBAiSiSESdwbDGJQhAAAIQgAAEIAABCEAAAhCAAASOkcC5SESVwN+9e3f71+8ekYgq4aEMAhCAAAQgAAEIQAACEIAABCAAAQgsTuDcJqIWJ4lACEAAAhCAAAQgAAEIQAACEIAABCAAgSYBElFNPNyEAAQgAAEIQAACEIAABCAAAQhAAAIQWIoAiailSCIHAhCAAAQgAAEIQAACEIAABCAAAQhAoEmARFQTDzchAAEIQAACEIAABCAAAQhAAAIQgAAEliJAImopksiBAAQgAAEIQAACEIAABCAAAQhAAAIQaBIgEdXEw00IQAACEIAABCAAAQhAAAIQgAAEIACBpQiQiFqKJHIgAAEIQAACEIAABCAAAQhAAAIQgAAEmgRIRDXxcBMCEIAABCAAAQhAAAIQgAAEIAABCEBgKQIkopYiiRwIQAACEIAABCAAAQhAAAIQgAAEIACBJgESUU083IQABCAAAQhAAAIQgAAEIAABCEAAAhBYigCJqKVIIgcCEIAABCAAAQhAAAIQgAAEIAABCECgSYBEVBPPcje//vrrzYULFzaPHj1aTugZlvTy5cvN5cuXN/fv3996+fPPP2+uXLmy+eyzz1bx+qefftrcuXNnq9P6yf5fvXp188UXX2zevn270xnt+O6777Z1Zeeu4oonkY2u12Jz9+7dzaVLlzZv3rxZ0au66EPrr1u23J0l54dffvll89VXX22uXbu2jU2L5YsXL25u3779Tix765fU7+Wel/OzyE/ziua2OPct2bdrzqPZvrF6Nk6ePXu2pGubOH/F60WVNYSZ3jX8a6hc9Nap278oDIRBAAIQgAAEzgABElETOtE2ek+ePClu9F69elWUmF0Ma7GvZEj2uNQCc6r+pRMV+9wESVeN9QcffLBLwoiPkj5rbqCKgbTZbGSvNoi6lk21dr5cdmcSo4faOMnerH71Ta0fa+VLxa76oabHl0fu2flBTGpHY3Djxo1dAsrrtPPaPJHVLx8VezU7fHm2/3ybQ54fOpF36DgW+9jXsmtknpGs3lHz0Uhc9WTqfja2rV5tfEjWlGOM/3g9ReaUNqZ3in9Pnz7dfkjjE9uaV+zDmlu3bm2eP38+xaShNlPtrylRPMuX7DH7vFhbfs0vyiEAAQhAAAKnQoBE1GBP2Sbl5s2bq230pi5epiwwS65P1d9bnGXk+k3IvjZBvj8///zzd94Ysbek1NeyTX5oM7bGBkoyY7JC/RXZ6Fo2qV7r2NPh287dOHnGvcV+yYesfvVNT0e834tdz6J1rn6I8kvXsW+zm+WWfs/ZNocvXrzYVX/9+vXm3r1723mr5G9Wv3zUeNgpaJxk+68hYm+3LIbWTORlHFkrjjNyfb/Gvlb70hiNftXeMH348GGsur3WfOT1FytOKMzGdiYRJVl+TP/Hf/zH9m1dX+YZxfiP1xNceqeJbIpzyjuVNpvtm1kj64TeWPD+2rn/wCbq1rVsjW1L19FW4xbLJHfKUfFc0t0qK82fJf1ryy/ppAwCEIAABCBwSgRIRA30lt/o2aLLfwpo97TRKy2WtADrLRYHzNlVNdklnbsKAydaPPmF9EDzalXJbS3wPJs5m6CqEYUb0lPzV3Z/+OGH2ySVrlV/jQ2UZHoe3nTZrE2brmWTr1s7r+mQf7Gfsovvkj4/bqLceF3yYemNm7dxSdnqB/WL16Pz2jxQK1e7zFF9WmKo9tITbVR5LebUPuOj6uq4JGPJ1NESbPY1xI8++ui9DweszL5aW3tLVTJ09HFq4z0m8uyruxavpbEgfj6eW/0gnaWjxuDU9iWZVia53sZ47vs/9rXa9+yyt4Xta9VRtq41l3o7FbsxLn2d3rlkSE/m6PvS+rD3HC3181lMRPmxYEntb7/9tjiObPzZG1OffPLJtr9Lfev7rcSv1k+xL9ZKRPVs9vavOZeZnrXle184hwAEIAABCByaAImogR7QQre1cLFFuC2s4mJdCzC/0B9Q3ayaWUA3Bbib2mzUFoe18uivE9k9Na5x0Tl1E9RVFipIT81+8VCf61r1FRNzNlDBpI1k1mJFNkunrmVTlFe6rumQf7Gf/YatJG9umXyQT15ednFesz36Eq+X8q3lg/ypzQO1crXLHDPzgBjFWMnql4+RYe96Kcbi4BP/Pd12vxRXkqWjxkRko/t2FKcoT+XelpYcLzOeq4+8rMz5VH2m33xfYg4WQ5MVf1/PEhZ62yzaqnaRa2TTupaMDCvV8XGZGT9ev/T5eVp95/2L81e89jKnnCv2vB0lOaY39nGpnpVpnHs/anVVPtWvNeyXTa2j+krP9lZd3RvxUfIVa9mjj0np5QgBCEAAAhA4iwRIRA30amYhp08S4+Imu9gaMGdXdXQBvWtYOJm6eBpZsEa1YlNaqGljIrvm6Il67Vr9ZbrP01fzxDzDc2TxXWKcKStt6tQuq18xUoqjVtlSC39t3hSzst8fxT1uGmvlvm3vPDM/idHU+Uk+tniW7i3FWAzMV9NjG+vSb9TYuP7hhx+2v20je3qxPsIvylqi/+Sb+kh2Z4/RJsnLHGV/SZfiWXbV9GgutT6J8S0bJCMmRDT+pUv193k0BtGuln6zOdaXf96POH/F65aOzD31XY25ZGTiW3U1zmt9rXr+ONWvNez3dtXO1VdxLqzVt/IRHyW/NKZaZUvPlS1/uAcBCEAAAhA4JAESUQP0s4uQUr3sYmvAnF3V0QX0rmHhRIunkQVoQcxQkfGqLcy0oF/TLi26azb4376IdqyxgZLM2sZC9oqNrrN9pg2j+ZtZ9JbieaiDE5Uthmu2ZPWrb0Y2FgnT0lXUD+qXUsPaPFArL8molWVkiFGMlUxb05vxMdqX7b/Yrnat8WHx4r8+V6tvv1dkf3EzJg1i/Yyd4hdjLMsv6ixdS0fso1LdpcrM99r8p3ju2aXY6Nmt/pNc86FUNsc3m+PiX440/+zrmvY7Vf4voUqP9WEvRlTXjqX6YuB9i3EVr73MKefZ2DO9Wf/8M+L69eubx48fN7+apzfd4rjI+LOG/Rm9iucRm0f6bor8jN3UgQAEIAABCJwVAiSiBnoyuwgp1csutgbM2VUtLYh3NwdPtHjqbSYGxVar1/TFBX2tXlXw4I3aj+vGr5dEO5beQJnZvViJbHSd7TPZ/Mc//vG9r5HKv7gprSWJBjEXq2vTU7O/NJ5KgmT7yMaiJGdqmfrBb0KjrFrf1spj+9a1+rXG0dpKT7RR5bXkp/RmfFRdHbP9p/q9Y9ZWL0dsot++jtnZ26grxiLjKTZ53f68psPXWfK8pi/2da2ebMkwtrqS6xlm20pX6yj5cQ7z1/7DBclSH/p63kbV09HiJc410u3HUYz/eC15U48mz2xuxbbJtnq9+PY2WH8rweSZ1M5LTL282rm4e2aluqP2l2T4MsVzzZ9aefZZKPkxRrwNnEMAAhCAAATOMwESUQO9n1kIaVMdFx/ZxdaAObuqGbt2lTsnWjzVFmGt8t5CsqRaG5DYVgt6La5lV2tjUJK/dFm0Q/bLziX0KVYkUywi+3g/wybGp8WOydVfs5J/UVd28T3FfzGMMSBZZmNGf8326EvpWiylc8pR/dSSpb6NvtbKR+xQ35p/Nv/4t4XO0l/NmzLfZfpGcdgaR+qn2Mcq97HVktPq1zlxHOOqpUf35HdsG5nJrppfkhPZSI+OkuvlZNtKRu3ox8Dt27ffe4vHf13T6zd5I31YYyE/fBzYuZ+/svNZzUdf7v2N/vh6dj5l3Hj5pT8IcPXq1e3zI653ou7WtdlljHpxM8X+ll71Yeyr3rXvyzXkZ1i09HIPAhCAAAQgcCoESEQN9JQWma1FlxazcVGo8rjYH1Bfrbrkwnbq4swWT1N8M9tLPLVZ0eJUdkWuVSiJG+qT3sJT983Ov//979uv+cgOxYTsTKhtVvELf+kQC9mho3Tqvuq3FGjRr74SV5OpZFRsv2R8RdnytxQDqpvV730Ro+xRLKVzylH9kNEp/tKjWIzlup89GoPWWwy1NyKy+kd89Byym7eMn1lbvazMOFUsmt0Wj1MSed7nzHj0Nup8ThxPiZ+l5mDFRs/vUl+ozPOrxao4lY4ZG9TPMSYtrrI6ZW/krfnV+2HnXld2Piv5F8vkb9QR69l1yTZvV6mNWNXm5979kkxf5mO9Fzdmf7Z/vI7R87k+SZ/3LcZD73qJ55Hs4AgBCEAAAhA4VgIkogZ7Ros5ew39+fPnu9ZLvXGwEzhwsuTCtqZ2qcWZl6/FfGnRpQW27mlR11usevm9c+n3i0L/qa992uuv95GIkp+tjUVko+seG23gYz21N532FkH8/ZQ140t9EDd0vu/m6l8jdr19OvccfUyVzqO/6ptYLtkjR/M3/j6ObeBKfSu5Wf0jPnq/exte2ZE5KmZMpk8W1dpmfyPK2tv4WzORV7MxU75GHIul5llvh/pa9zQ3xflDbWSf9XstjiUjJhRkh4+ZWEd6WkfZXLPR2srOGJMjiajSnCS5MWkT68brlj+9e5L1zTffdN8qsrqer51HBlFfzSfV691XvdpR/W7P2Z4tU+yv6W2Vz/WpJdvurS2/p5/7EIAABCAAgWMhQCJqsCe0iIgLOl3XFs+tjZ7uScYSR20eBt2rVpffcZFdbdC5IXm2+Py///u/zc2bN99bJBsH+aENTGuD0VGZvq3F/Zs3b95rE+3QQlp2vtdgsECbof/8z//cXL58ubih02ZLOnVdY2Os7927t+Vb6z/JMOaxTovHoHvvVJfOmt2qPFe/Yi36JfnHcNQcUNvAr23jofWP+qdNqc23pb+aZ/L0NSwbRxbXvTiTDRYvayXypGPKcek4lrwl52DNh9Yv8ff1nj59ukvyxb5QO81pU/hYG/lk/T3lq3m157e3pzZv1crj/BWvveyRc89MfrfsN72t+5oDjN1S/1v9KZst/r7//vvt865VX2Pe29ZLXkWe+/Yx6rdr+X3Mz6OS3ZRBAAIQgAAEliZAImoCUVtIPHnyZHPt2rXdgs0WeFPfODj04ugQ+rWotI23FmZ+galzLUxjAmhCt6Wb+I1CzTZtpPxmIK2gUtH7KL3S45towyM2ui7VlUzj2Vv4ms7f//73m2fPnnl1Q3+y+p2GjQvZldlI+P6IIg8Ru9GGkWvzpbQZlB+HSkSN+HAMdS1WlVzVXNE6tubmJfyZ239q3/Jh9J7mh5p/a83BPV9K89CS86jmwxav0g9rm92lsen5aV4u1ZPfcQzH+Stee/nZc/no589SmZdXm3tUR/a3uI3ea8Vg7PMel5798qN1XNvHteW3fOMeBCAAAQhA4NQIkIjaU49pgRIXqVn12riXkg1ZGbV6sm10kdmq31qAWhLP2rZ80aJactb0P3LxC2JtPKKvsj0upqOskWvrB7/BideSFdnoWjapno5mo701Er9yp/u9o+fRq5u5b31pX3/yvrbatfTvO3ZbdmbuLbGZyuiZyqU0P02VFceMv9a4zvhSq6M5IX6FVnrs6z72YYHfrNdkHbp834zXnoPt65CffPLJ7oMa6xPrp9rv0C05j1pf2rwd32ozGywmzIbSXGh90JuT1E8xfhWLpSRbnL/i9Wjsab4v2SqOlmiLX1vd19yT8afES2W159gx2V/zUfGhOWiJY4y1mm7KIQABCEAAAqdG4GQSUVqkjDzYj2kDogVKaaOXCRr5X1ukZWQcQx1tgEoLdm+fFttahJ0V/72P/lz++v5VEsyXWRvVFRtdx3pe/pzzuRsnr1u2ljZRvp4/X1K/l7vWucb6yFylukvNWVNtKM1PU2XJp9JRsTunDzJzwpTY0Wa+ZHevrMRvjo9rtN3nHKzx3pubxHyJuFiDmcmUjaVnl8ZIqf9jDMbrrL32PHjw4MEuuVdjpTcFbY71iT/TOzLvyi77SuWdO3feeQNc48CSi7Wvxqp96VizRYxrHKfYX9JPGQQgAAEIQAAChydAImpCH2gDVFqQ1sS1Fqq1Nr5cOnsLet9mzrktev/6179uP9X2X0H0C9Dr169vHj9+XPx0uaRbDEpfi4j1tYHRYntt/5X0GU0EaOEsO6MfmeuWbsn3C/PIRteZ2JCukdidunHyvptee0PBfq9ndDOxhH5vy9rninONlZHjaPwt5UspzkZkT4mrEfmlupk5YUrsiMVIv6muH6clm0fKjOmpz8HZuUnM58yjka31vfole2zNTebLp59+uom/HSgfa3NqjMF4He2uXYuR+dLjJN/9fGJlLf+iXnurrfXD/ZFp5rluOpQoq/kgO+NYUnn86ni0O3s9dZ72TLO6qAcBCEAAAhCAwPsETiYR9b7phyvRBqi28FzDMunMJBvm6rdPzPUDv3GxWbq2xW1cNHob/II2y0yLey1W1/ZfG+nRRaY2B7LT+505Nzb6ofYaw7gAj2x0nYkN+Znth4wPvTo+nqboNf8z/XLsGwvFcGYj2WPauz+VRS0Ge/oOEVfi2Yr7bOz0/OvdF++p/KJ8P2ZKc24sO9Y5ODs3zZ1HIz+7tr6PnHrXI4ka02Hz95UrV5oJnhiD8bpke63M4sy/5VSrZ+WW8PHxaHqz/mk8Gy994PTq1av31NlfC7Y3pvQ1zNb87mXab7bV/qme2ep9HbG/JtuXa8z2YiLezzyLTM/a8r0vnEMAAhCAAAROkQCJqAm9pg1Qa9E1QWyziXS2Nl1NAcmb2jjYItD+6tGPP/5YfOPJFot2L/uWiy0oR34wWHYowbO2/1r8xkVn9lp2JjHvqple2zD4Bffu5q8nVsd+RPzLL7/clkQ2us7Ehvzcd+zaRqXlY/TZX2c3bse+8Pf2ZTeEnsPIudeVjWGr5zeuI/oOFVeWBGjFfTZ2Rnwt1RXvqfy8TI3nU5mD1fcjcWa+6U1bY7ZWIiqbNDD+1oej49J8t/m7Nf/HGIzXvu/XPDe9Wf8Ug62xFW3NyDfGrSSUZBpX+zqgf2Zk5Kv9WseRvtOcMDIurO5IzK7lJ3IhAAEIQAAC+yBAImoCZSVF9r2Z7226JrjyXhNtCEY2VFpwjbR5T3Eo0EJYC3wxLy2Ml9A/ZTPlF5iyM7ixymVko+sSm2iA/Nxn7EYbRq9HFv/HJNvbohi1Pvrf//3fSV9R9PJ656Yvu+nsycrcXzuuxM+PubnnS45Z2bfEHHiKc7CN0an9ccqJqMzYiPNXvM7IWKKO6c3OCSPPFNk2Il9tRo5ry8/YsnbfrS0/4yN1IAABCEAAAvsiQCJqAmklRfa5mZfOTLJhgku7JlqA2oJ1yTeidgqSJ7JDm8WW/0ss3rSRHv00UptG2Zl0b1a1yEbXmdiQn/uM3VnO/voVm9F+yepcInZaumpfS1WfaZyV/opXS27vHomoC93EyJJjdslEVIyNpd5K7cVMvC87xKk1B8e2o9drzKOjY3utMRPtiNejrKbWN73ZRJSeE5ZcXOqreVPtVrsR+9Vm6ePafbe2/KV5IA8CEIAABCAwhwCJqAn0tCCf8gnw1A21dGaSDRNceqfJ0r9P8o7w5EV2E6QF81wukjOlT62NNmtJ92ZVi2x0nWEwx8+M/FmOVRqvuThfS7b/3RSLj9LXUn2SSgmp0u+wVLA0i5UYGY3nqfOT4uqUEpxNgIM3xXuJN6JM9SnNwYOoitXXSkSNxn82UVN0olIY55h4XWm2eLHpHfHPz08ZjtkfK5/q2Kj9U/W02q3dd2vLb/nGPQhAAAIQgMC+CZCImkBcSaHM4izWmbrRk859JQNsY7n0X2waQa3kihI8Nf9VrnojOnxdbaRjf2Wv5+r3tvTOIxtdZ2Jjjp8Z+T3bp9xfc3G+tGxtqBU3tjmzvyxZ+2f9ob8ipTZT5wivQ4kRycwep+pWXJGIeuS7Yda5MT2FOXiWk7821rhZch61sZ2Ne9UbSdRk/Y5zTLzOyplbz/RO8c+S6vZ7TfpNL7Gy49WrVze3bt3aPH/+fK553fZT7e8KHqiwdt+tLX/AVapCAAIQgAAEVidAImp1xMsoUMLlUMmAZbyYLqXmv21gpiyup1tyfC1HElHHZ33fojUX50vLVkJGX2fpe/fPGvbXp/TD/0tuxrP659aT3ySilktEze2TpdvX5uAl9KyRiFrCriVkxDkmXi+hIyPD9J7ys/IY7F+779aWn4kT6kAAAhCAAAT2RYBE1L5Io2cVAvbmx3nd/K4CFKEQgAAEIAABCEAAAhCAAAQgAIEVCZCIWhEuoiEAAQhAAAIQgAAEIAABCEAAAhCAAAR+I0Ai6jcWnEEAAhCAAAQgAAEIQAACEIAABCAAAQisSIBE1IpwEQ0BCEAAAhCAAAQgAAEIQAACEIAABCDwGwESUb+x4AwCEIAABCAAAQhAAAIQgAAEIAABCEBgRQIkolaEi2gIQAACEIAABCAAAQhAAAIQgAAEIACB3wiQiPqNBWcQgAAEIAABCEAAAhCAAAQgAAEIQAACKxIgEbUiXERDAAIQgAAEIAABCEAAAhCAAAQgAAEI/EaARNRvLDiDAAQgAAEIQAACEIAABCAAAQhAAAIQWJEAiagV4SIaAhCAAAQgAAEIQAACEIAABCAAAQhA4DcCJKJ+Y8EZBJQytBUAACAASURBVCAAAQhAAAIQgAAEIAABCEAAAhCAwIoESEStCBfREIAABCAAAQhAAAIQgAAEIAABCEAAAr8RIBH1G4tVz+7evbu5dOnS5s2bN6vqOYRw8+3ixYubZ8+eHUL9bJ37sP/ly5eby5cvb+7fvz/bXi/gu+++21y4cCEl99Ax+PXXX29tffTokXdh8nn0/eeff95cuXJl8+GHH27evn07We5IQ+n87LPPts10vYYNS/Mb8XNfddeO0TXl72MeyfTDsdiRsfXY6qzNbm35WZ5mx5rrkbXlRz817y41D//yyy+bmzdv7vVZEn3iGgIQgAAEIHDWCZCImtHD2ghnNtbZhZkWVJZcGPl/yETQ1MX106dPN3fu3Nlcu3btPV+vXr26uXXr1ub58+czeijXdKr9Oen/rHVWElEZP2oJk1r5CEdfV+NPyT2NnSWSQLYRuXfv3i4uP/jgg83jx4+9+u25dI5ugEz+V1999U7s2xi+fft2NYm2JD/ZPTLHWN3e5lU2ZuSW5qzsPPleRyQL1pS/xjyiOLQktjHtxYhhWMOOJN6halNjsBQ3Q4oblddmt6R8JUsyYy3OiWZHbyw3MHVvLSVf8S8fl56Ha46IbeRWq085BCAAAQhAAALjBEhEjTPbtdBG+KwmorSp7Pk3uri2DciNGzd2m3wtMmtHW3z23iSTrTUZvjxuZEbtt0XqkydP3ksiWOLsxYsXu/jwJ5kEjq+fPVcMKhnTarfE5iDjh/oixk2t3GyWXN9PrXOTHX3Xxnbu5kGbkJL+6JN0jiSievEf41N92uKnOtmj7C752CrrbV5lY0uG7pX87MWo+lwyesc4LnryR7iUZJd8yvZJrPfTTz9t3/Ar+djSMzqfRb37uh5h7Rm0fDfbR+RO6cO15Wf5t+Ypz8vO45zYGwdrj7OMjy3/lpqH7Q3ayCp73ZsLMz5SBwIQgAAEIHCeCZCImtH7WqzFRVFJZG/hV2qTLbPNX29xnpXl62lT2fNvZOPjF5eWuPn22283r1698mq3569fv97YG1OffPLJdqEYF9KxgWzNLCIjqxH7bRPSSqKZ7BIvJVrixif60boe8dE4KDkimUvEYMYP2Rk51MrNPsnN9J/VMdkaf2KqDWIvVsSjdpSdJkeJRYtFeyslbj6kU6x1XbPBx7+Xb7ZYzNsbguZf1GP3ZZdnJL01X2rlPTtL7abGj+yO8TBFh/rcM2idKzakq+eDuLRk6l70Z2QekT21Yy1OLDllXxkyG2oxlrVDY25qDNVsX7M849vafbi2/Cw/xUhprujJ6I2DtcdZzz67r3nDz5NLzcMmf6QfNeb9cQr3jN/UgQAEIAABCJwXAiSiZvS0Fkpxs1MS2Vv4ldpky8yOmFzJtm3Vk39xwxXbZDYHajNl8zOV3dL2a+Fvi1F7S8t/bdDu2VetLFlR6gv5nYkVsYpH+eMXw63zuMGcytHbkfFDdsa4qZV7+XZu9fwiX9zjxlubJTHVxiLWi/Jb19Ll9au+9Hm/pFOsdV2zQTJUX7L9UZzkl+6p3Pd5S47alY49O0ttpsaP7PbcSvKtbIoOMY28SjqmyI9yTF9pjJvsUnlsn7mWT6U4UoxaHJR8ztqhsTw1hjJ+LF1nif4zm9buw7Xlmw+Kg9Jc1eM+haNishRzUd8U+V5GyzfZ4ecTzWeKZV2Xxo/XUzvXnFUbY7V2lEMAAhCAAAQgkCdAIirP6r2attiyhUpmsTN3Yfaecldgi6alNkBO7O4TSb/g8/d1br5l9U/Z/Exlp8XkUvZrAazFrvz3R9WJMSG/M4t4L693Ln0ZuVM5ehvkh0+G1M4j92x/WD2/udKmJDKNvs/dfJif8q/Ux5Jf8lf1VSfaKoaZsSIZkqm2WX6q3zpKR83OUtup8WPtjJmPUekvsfR9X7IjlsU4iPf99VQfvIwYn7qX6VvV7R17shSnpf7rtZVuyYhxpvvHeFyi/8yvtftwbfnmg+bF0fFibadw3Oc4a8Vma+5QLKtOaXy04treONRbqfZhk95+bn3tviWPexCAAAQgAAEI1AmQiKqzad7RQkcbqbjpjo2nLPyijNq1LXqziaCajFK5yTX/Mr5l9WvxbHKvX7++/QHo1lfztBAcXVCaP0vbn9ngyb+4OdDC2m/GS8xHy2qbA/mu+NQx2jWqT35I3pRjJp68nWIaYyD6rjEZ6434KJk1Gy0GSj5nN0CZeaDmh/q0ZtuInzUdLRkZ22N7Hy++T6W/xNLXi/JK1+qzzNia4oPXWYtFq2Oys/OglxnPxaYVx7KjxCprh/pGsRvtOMbruf1nPoldiW+WXYvN2vKlW3pKYyiWRV+ncNznOJOu2lxn9kcf7VqxnBlDioUffvjhvT8coT8aYYz1prPJtz+i8sUXX2zfht7XX2ZVf3OEAAQgAAEInDUCJKIm9qgWQn/+85+rX8fyoqcs/Hz71rltUJfYAEUd8rG3wbN6I/ptkagEU2kxGcsyP1Yebbfr7MY9a3+2D0vytOnrsSz50SozXcYrbkjle2QZ67Vkl+5l/Kjpli21zYX0RX7acMXNlDYrYprdfEhP6dgbSzEGpDO7AYq+lWyIMlVHXHv8VL91lA71SfY4Ej/qN5P90UcfbeNUfVWzLfKt1fPligP1gb8Xz6fI9zJa8Z/pWy+rdi4dPX9q+mrlUV9WT2x3yOu5/We2y+9SLGbZtRisLV+6/fjqjd84d07huM9xtvY8rD6K3GpvPtnv9/m/oqp2I+se9RtHCEAAAhCAAAT+SYBE1IRIsL+YZgsRbRS0QGstSqYs/LKmLbF4jrr8Ild+xjq6nqLfy9cmVYs7O9onj3aMC2jpzBzNLpNR2nD49ln7M/XkV9ywa+Hbs8Xb1TtX3Ilbj5XZH+3q6Yj3M37UEia18qhD/aaEi5Im0Xb5L6aq1+MQ9fnr3gYo3pdOjRFd12yQzarvdetcnORXLFd/27ElR+1KR9npZWXOYx+UZKtMGzdj8fe//333F+DUr6rnj1NiVPFSYz5Xvm8f+9/fMztazwBft3WeGWPWXnFS6reMHdIzNYZaPqxxT3Nrpp9b+tfuw7Xlt3xTn8a5I7Y55XFmvkTGms8Uy7puxYrGq97Mzr7hZD+Y/oc//GH7AaT0Rb5cQwACEIAABCDQJ0Aiqs/onRpKQsUNmd8UfP7555u4qJmy8HtHceNCC6pnz541ao3d0oLWNjnR1yjJ9MfNUK9Nb1PRux9tiNdaiJpdvcVill8miaA6cQEsnr0NQvSjdi15tuH829/+tvtLWvb2mP7SW2y7RAxKb8sPjYWYcKiVezvV79Zv0iGdcXMt1qqnPo/svfzeedzgxPrxvnQqxnRds8H7Z3V8X/lP3UvjR/z8WJPeaOfUa9lXsz8j12QoCeX9UD+a/Q8fPiyKGo1R8TaZMT5KCkblexnSVWNusn3fZG3yOuxcnBTX8b6uS/Eg/RkW0lPzR3qWPLZslu2jxx4nb//afbi2fO9L6Vx92mMyOg7kVzamR+VHX+I827sv+xTLup4zj0WdXEMAAhCAAAQgsCwBElFJnnFz5TeQEmFJKvurabZYiwuguQsz6Sgd15Atmd988033rSKrGzcPfgNasrm34e3dL8n0ZUpS2NtWPVuy9ssm87X0V/MePHiw5VDaBGY3CN6H2rmPM23ovW1mX+krBurTN2/e1ER3yzN+aLM5JREl+faJs8aQ+tL88jJ9uY8/tes6U6iwjw2QbZJaX00txY+ZWuNacGNykeJoKkN7W0C+lfzwfbZEjIrJv/zLv2zn3qU34B6kjZ+ST6pTmkda9dUuHjUGer7UYrVnp/RJjx872XNt+CUre1R/ZfVk6vU4edt6bOb24dryzRclWTJsYh31m9nZey56buq3fYwz01uLbdkU74uJ/NP11HlMejhCAAIQgAAEILAeARJRCbZa1NiirrexsL+68sknn2zi20mthZ8WeXHROOd6ZHEeEWizaDK0MW353Vt879s/2WwL7e+//767QTX7I+vaIt1iQRvt2MaujZOSQ56rNn1z+sV+VNXrjrLMb72JYrZEH1ox6G1tncuPku+xzCeNTKbiIJZ7fRZ7vt+srrXTXzDSRsPaKE6j3jmbD9PVi3XPVXOD7NJ1zwbrK/sR3GvXru1iz/TqR3I9E51n+Klu6aj2kdecax+DGncmr8XQ+k0Je9/ebB6JUbFWf2TaZuqU2CnWor2+rslu+e3rts41xhRTtbo1X7J2SM+U/u/ZVrM5U65+XVrH2n24tnyx8+NstO80L9ViRzr8Uf2xj3EmvWvOw2vPg/KBIwQgAAEIQAACbQIkotp8dndtkfnxxx+/95W7XYXOSWvhd0wLI21OtOg0t0pl3t3exmff/sUNQYu9+dGz3/tq57YRsLeSYhKh9IaH2ophayOruqWj33zYZreU7FI7JUOjrh4HtW8d5UdmAxQTToqDWO71mY1+s2S+GmfblFp7H5exn7VhUnsvN3sumTUbzb6S79o0L2FDzdYMv1pbK1f7kv1Ty2KMGb/WOJB9FqOffvrpJr6dNxKj6gv1lWJTfSFd/jgiX+0ktxdXJnuJRFQmhjQflGxayg75v++j/G/146hNa/fh2vIz/v7444+b0v9S25FxYHVtflh7nHk715yH9zEPel84hwAEIAABCECgTIBEVJnL4qUjCz9TrsV4aaNh97UR8RvzuUZrMV3aTGlhWPoNomPa+JS4qay2sdmH/WIbN+4jfWYy7IdVS18LzcgZjcGMzJE62gBoQxPbqp/ESMy0CdK17ismda32tTET9ZWupaMUK5JfStqovurMsaFk13kpy8aoYkncxUcxUYuxrHzJUzzYvBeTZqqj45LzSE+W7Ir+my29trL3WI8aQyXfptgsVmv14dryp/i8VJt9jbNor5iWYkDxwTwcqXENAQhAAAIQOC0CJ5OIai0+SgsSK1sySeO7VUmgkc3m6AZI/tZ0yIYlfDRZ+n0j46aNvffZzvW1r/hGztSNj/2ezJ07d955s0h9aX81z96seP78eTSjeV2zpbVBrbVpKhq8qYV1je2guEnVR2NwkpJGI21qakkCux+ToGazHwPeB/WpmPbGTMO03a3WuJI+b790asOka2/zTrg7kSzF+8jR63ciz82p4qjGuBRHguPjR2W1o36LLZPAMBkmO8ZvTXavXPFR8lExajFTioUl7ejZucZ9jSGNqTk61u7DteVnfFesjMwhVre3dtjXOCv5qBgv2Sh/fezHmNF1afyU9FEGAQhAAAIQgMD+CZCImsBci6SRRc7IBshM6i2kZENpoTbqkhZ2tjjVpr4mw/yIi9jRjY99Lcf/1lFvAZ3dCCpRVvNBdvoFrPmp8vi7XjUGU8r3lYhqxY35uUS8yH/FTeSp+/GojU2pvuz2m0+V+f4URxt7tgn0Mav6I+My2mjXstPk6O0zS5ra7xpFftIpu3Xds0HserFful/iV/KjVSYfS/JbZdH/lg6Lt5as2r2aDpvzNMZ7fK1eTJibrZkxYPOTJcjNvp4e7/+S84jmd9mgODTbbt68ubVNMedtkI9LJcSi7CWvp46BWnx429buw7Xle19650tz3Nc46/mlOWrNeVg6anNRrTwTgz3/uA8BCEAAAhA47wROJhF1TB2lTcLIJmXU/t6GVjYstSCyBVnrd4e8/bbJ85vhkQ2Y7LYFnn3N7PHjx5tXr1558dtz+1P2tvm3H37XZuzt27fv1bMCL9N+7Ln2T/XiBnXE/prsXrkSKD6p0msz5b70LBUXLRu0AfKx0KqvRX+pvv2ovP2FQ58MrCUNLE6//PLL3Y+Vi2lvzLRs8/cUJ6VNSLRdOpUU0PUac0OLn7c/cy5ZJR9bZSNxZf3XklW719Jhdmd/q8/qxq+y1mLKmFm/25uh+iH11g/HlxgvPY8olkqcWsn5pe0o+bpEmeaPkn+tslZ8rN2Ha8tfgmtGRmscWPs1x1nGPquzj3l4H/Ng1l/qQQACEIAABM4bARJRE3pcC6Q1NpsyR5uQmg7Z0FqUS9bax5GNjxIl2rhnbMvItwVlKwklPcbN3nbwSbee/NqGyRInvf+/+93vtskV+a2kiexZ8qiY0CZuhPEUO8QlJmemyIptzBdLeLZ4Sb/q9MZM1NG6ln6xtI2/JU3jP+kUa13Xxm1sP3KtTdMavDN29DavGRm9Omvr6Mm3caoEec/WeL83j8T6mWvFoZJjlkTvJcjWsCNj69p1NL/1nnlr9+Ha8kc5ah7UXJU99jiO2uHr98aZr9s6V/zLp2OYh5fyreU39yAAAQhAAALngQCJqAm9rAXxGptNmdPb0MqGNReTsqV3HNn4KCGjjXtPtt0fkZ+RF+v05E9d6GvxbIkD+a2kSbRh7rXiwXTaYl1ffVwzRsXlUIkR6RfT3piZy7jUXjoVz7pegzuJqFIPjJWtuYnszSNjlk6v3bJDMaS5aYmjxt90i3MtNcet+cxrsctZ2a61hnzNg6N9uTbHNeVHypp39zEPWx/u07foK9cQgAAEIACBs0KARNSEntSCeI3NpszRwqqmQzYcw4JoZHEtu23RrDcP5n41T8ymHkfsn6pjzUSUfjDXmOorOxY/SkbVPkWe6ovaaQNEIurKZh8bICURDsV7HxuwtXWsKX8f84jGXuvYskMxNJq0aNUnEdXqjXfvtfrm3Zr5K83D++qHjGVrjrOSfq2X9jEP79u3kr+UQQACEIAABM4CARJRE3rRJ1NaC/TSPS2Uemq1sDpriSjz237oVUmSEqNYpuRKj9nU+2tsDqItSyeifvjhh81f/vKX3e/ZGDP7K4P+d7QsTvWjy3bfvtbzxRdfbH788cdo3qRrbYBif/Wul/ohZenXBqw3ZiY52WkknRrXuq6N24645m0lEUhENTE1b665idzHPNJ07tebx2JHxtaROnrurvnhy9rs1pCvebA375bua94a6YdMXfNzzX6KNmjelT+6XmMe3rdv0VeuIQABCEAAAmeFAImoCT2pBXFpYdcr00Kpp7a3kJIN+1zs1Wyeuri2HyO3RMm1a9fe+1Hjq1evbhMrz58/r6ldrHyq/SMGLJmIMnt9nPXeeDLOMfGXjcOWj1M3QCSiWlTr90hE1dlk76y5idzHPJLx81jsyNg6Umcfz7y12a0hf+o8bM+QJZ4DpT40P/e5NtF6Sf7omkRUqXcogwAEIAABCBwHARJRx9EP71nRW0jtY1H+nlGVgjUW1xVVqxTvw/4lE1GSZW9AjSTq7C0qS/zpB9RXgXlAob0xs4Zp0rmPDRCJqPk9uOYGeR/zSIbAsdiRsXWkzj6eeWuzW1v+CM8165qfJKLWJIxsCEAAAhCAwOkTIBF1+n2IBxCAAAQgAAEIQAACEIAABCAAAQhA4CQIkIg6iW7CSAhAAAIQgAAEIAABCEAAAhCAAAQgcPoESESdfh/iAQQgAAEIQAACEIAABCAAAQhAAAIQOAkCJKJOopswEgIQgAAEIAABCEAAAhCAAAQgAAEInD4BElGn34d4AAEIQAACEIAABCAAAQhAAAIQgAAEToIAiaiT6CaMhAAEIAABCEAAAhCAAAQgAAEIQAACp0+ARNTp9yEeQAACEIAABCAAAQhAAAIQgAAEIACBkyBAIuokugkjIQABCEAAAhCAAAQgAAEIQAACEIDA6RMgEXX6fYgHEIAABCAAAQhAAAIQgAAEIAABCEDgJAiQiDqJbsJICEAAAhCAAAQgAAEIQAACEIAABCBw+gRIRJ1+H+IBBCAAAQhAAAIQgAAEIAABCEAAAhA4CQIkolbqpu+++25z4cKFzaNHj7Yafv75582VK1c2n3322Soav/7663f0La3k7t27m4sXL26ePXu2tOiivMhL1x9++OHm7du3xTZzCl++fLm5fPny5v79+3PETG67b76TDa00PHX7K269U2w+Xrp0afPmzZt3yk/p4pdfftncvHlzs9Y46rE4Cwx7PnIfAhCAAAQgAAEIQAACEGgTIBHV5jP5LomoNrpe4kyJJyXudL3WBvpUE1FPnz7d3LlzZ3Pt2rVtItKSn/p/9erVza1btzbPnz9vd8YCd0cTUaeYkMjarFhVP2SP+0j0rpGIinNdK5yyDFsyuAcBCEAAAhCAAAQgAAEInDYBElED/afkSW1j6ZMkcXOmzakSKy21tlm8d+/e9g0d6bKEwosXL6rNZJvewCpVVB3JbB3jm0GjiYaSfl8mW2r2Rl669oy9PH9u/J48efJOcsY2+S2GayWien7K7lG+xuPGjRu7pFOrL+3eBx980H2TR7b2ZNn9mDQZtf8QCQnFUMa/UpxlbR7R422JTBUbo8ep+mXL6Ftfca5r2Ztl2JLBPQhAAAIQgAAEIAABCEDgtAmQiBrov95G3W9e4+ZMm8NeIkoJEW0K/bG1UZVttcSOuak6Xmbt/FQTUca5laAxhiVG4h79HgiPYlUxL+n0DUYSOXqrxfrOkmvffvvt5tWrV17c9vz169cbe2Pqk08+2SasfHy+V3kwPmIsjthvug+RkNAYrMW8Ly+xWtPmUX6l/lPZiJ/eZ52TiBJJjhCAAAQgAAEIQAACEIDAGgRIRA1QtaRC3IDXmk9JRPkEg22E9QaU3pCyjWJtk5hJeGTq1PxZcqNsOnq2aDOtxJ2uSwkC2ez52RtA/itpdu+rr77avmVW6sNTSkTJVrGR/63j1CRKr5+kczQ+ptojfVOOmRhq1VnT5jVle1b2pqASTkslXRUjGXn78tP7zDkEIAABCEAAAhCAAAQgcFwESEQN9IdtuEpJjJKIKYkotaklGGwTZ5vI0oZPm8HWmzeZOiVfrMx0Z32vyfDl0RefRNJG2Y5i0UoQSG6Pn9VTnZjQUnKnxFbypxyzzEf4ylaxydhl8mtJzFb7New3fVPtadnau5eJoVadNW1eU7Zx8clsG8f6TbHbt28X36brsfT3zXYbq3FM+To6X9tP6eEIAQhAAAIQgAAEIAABCBwvARJRA31jm/JsMkYJDyWGtMFtJQ9sk9aSLxmlhEImYZCpU8PRs63WrlQuP2zzKl+WSERlbJQe6ZV9Su6cQiJKPhi/69evbx4/flxMJuirefqqYiZRIB46ZmMmw14y7Wj1Yx/4+2ucK+5aHFp11rR5Ddk//vjj5r/+6792X820eNH8Yn4qLqzc3iD84osvtm8RjvxVSvEyGfZf812t/9bws6aLcghAAAIQgAAEIAABCEDgOAmQiBrolzUTUdrQtTbJZqpt5LSZ9KZnEgaZOl6mP6/p9XWy50rSffTRR9vNayk5Jx66p+sWn+wmt+TLWoko02Ub9F6Cq2RTi6fx8IkEJQJqx8yPlZf0ZWNm1H5xqdlbK+8lOko+qCwTQ606ZvNaybOlZMv+yM/mDHv7ySeZLKGpr6uW6j979kzoqkf145///Ofq115946X89DI5hwAEIAABCEAAAhCAAAROiwCJqIH+qiWiaps/29xp46w6SqxEtUqE1O6rfi0xUCtXOztm6vj6/tw2kKUEmK+TORcHSyj94x//2Ny8ebOYqFE98dB1LxHVs1FvE8WEgvj3EkYZH1VHuiwO5IfuxeMUvl6+kno+oXD16tUt2xazaEe8VqKhx2XUfsn19mbONZ6inZnrTAy16pjNMW4yent11I9z+snrUF9YTFiCyP9Wmq/nz3/66adtUsp+2P7y5cvdeLW2+r0pxbYSzK0xuBZD7wvnEIAABCAAAQhAAAIQgMBxEyARNdA/+0hE9Tb82uzFDXkmyaQ6tQ1/a5OtzW3mLYkaUm24Tb/s18bfyj7//PPdGxsq1yZX163NutioTckO1Yly1khESab51mJrdhrf2C+9NuIZfZHfvfuqVzuKudnVYir7WwmImo59lsufGi+zpVWnlUTpja3Yt5nr3lywT3ZRl5JQMUY9Bz+e1b7FUHU4QgACEIAABCAAAQhAAAJnmwCJqIH+tU1WdrOthEdMuNQ29Epa9DafUa7M1wZQ+lTuj6pT2wRrU6nNeKyX9d3r1Lm9caGvkkUf7d6VK1feeXtHNoiXrltJBCVezO7SX8178ODBVkfJjyx/+ZM5atP9zTffbPVGv72MY0xEKdbszRrFhrfZn0+x37ffx3kmhlp11J9v3rx5z9ze2IpjKXPdipf3DHBvPGZkZ+tEG2yM3bt3bxvPFhP6y57eHktS2VtVpiOO1xZDL4NzCEAAAhCAAAQgAAEIQODsEiARNdC3+0hEKfFSM0sb3phwqpV7OZk6Vl+b8bhZLSVwvPzauU801fyzDe7vf//7jd64kg2qr+u4sY06rZ4SXtF+uzYfHj58GJttlk5EKYljG3klyFr8bIPeuq++K/k0tSwmGTwU2WzJhu+//36bWGjVP++JKM+udq4YVkzX6k0tXztGZL/GkcZqyV4b8/Y1v1iHRFSJFmUQgAAEIAABCEAAAhA4XwRIRA30t230WskCL0qJCCWMtImrbUJ1v5doqSUstAmVPm+LzjN1VDcea3pjvdq16Y4/llyra+XiIV667vGxtpZEsbcy9CfqtXG+detW8Q0Oa7NkIkqy/FtEpTLvf4+v+m5q0qnUrpVYUvyqTi+BcGz2e7Y6z8RQq06PgfTUjpKtmK7VW7NcCcbMOCrZYXHx8ccf775CW6rTKpvLsCWbexCAAAQgAAEIQAACEIDAaRAgETXQT5YMWCsRZWb0NvPayPoEh8xXouJYE1GyM3uUr9q063rqBrqnV4kiJV569Wv3JacUJ0ru2NcG41eaen1f07dGeYm1ytQfUW/PfsVnKSE2tWy0r+RDK4ZadeYmUSS7xjAynXMtXaNsS3PLHDti27kMozyuIQABCEAAAhCAAAQgAIHTI3AyiagpG6ulN1VrJ6KUqKhtlG0TZxvL0gZcG/1TTkSpj0v+t+4tMeyUQCqxzci3N030G1S1PjI5+n0dS1T5rwj2Ejk1G54+fbq5c+fOO29/KflgfzXP3gLL/NU0UjcX+wAAIABJREFUL79mi+KzFGO1Nl7uoc8zMdSqYz7OmVMk+6wkoqa8XTWX4aFjCP0QgAAEIAABCEAAAhCAwHwCJKIGGCrZo41+6ahERty0Zzah2tiZXEvG6K0ZK1cCo7YRlm2lJIFczNRR3XjcR6JBjGo+RpuWvJ6biFJ/W98pBmr2GUur5/0c5et//L0Uh7HM3sIq/ch2tFFxVvNBdsY4U3n8TaAo/5DXiq/IpnRdSoaaj77Par74WCjJrpVlZNd0LlGe9U+6NF+VWKlOPI7qiO25hgAEIAABCEAAAhCAAAROn8DJJKKOAbUSObWNpJXrbQdtRrVh1yZY92v+qF5JR+nrXpIj26RP5f6oOiXZpTJv6z4SDd6+lh/ep6XO5yaizA6z37/l1LLNEj7exxG+SgBYn12/fn3z+PHjzatXr95T9/r16429MWU/Gm11WwkDL9N+y6v2T/XmvNElGftOvLTGVoz/EqtsEkVjP8rsXS/JY8RXb9eIDerHEqta/FAOAQhAAAIQgAAEIAABCECARNRKMaDNqJIN2hj65E5NtW3wLFGhP4FuG8XWD22bHCVxpK8kW3X8xrN17m0dSZSUdPfKlAiyr5OZ3yMbYrGOvnz00Ueb3v/f/e5327/sJf21N4F69s+9P8JXtvr+6enPyLf4aCWhpMPi074O6JNuGfm+/c2bN4f6WG0PeTQfR+Iya6sSOkvK1nwTx0TvesQG2U0iKtvT1IMABCAAAQhAAAIQgAAEjACJqJXiQMkRJYa0MRxJHoyYpiST9I20zdQdSTRk5Pk6SqzojS+xK/2ot2+nc9XvbbJr942ZbDjPiSjxnHIciQ8lMEaSHlNsWrrNKSai1ppvjK36kUTU0pGGPAhAAAIQgAAEIAABCJxtAiSiVupfJUeUGCIRVQb95MmT7RtQloQSK6upxJqV21fP1v53SokoJQAssbbUV/Pm8iURNZ2g+nPJxNza8415K7tJRE3ve1pCAAIQgAAEIAABCEDgPBIgEbVSr5OIqoO1Daz9dtGNGze2v12kN6FiCyWpLOFib0etmZA6pUSUcVrrx8pjH2SvpySiam+otcoP9caacTjFN6JaLGv3sm9RKRFVk9Mqz+rIxh/1IAABCEAAAhCAAAQgAIHTIUAiaqW+IhH1PljbuP7pT3/aJp+0SbXfJHr79u37lX8tsYSL/R6R6tsx8ztGVYGVG6eWiJIbltAzPteuXXuHkXGy39uy3xZ7/vy5qq92JBE1Ha0SOmu8EeXHTfY8mySS3Vm5vl5Wx3SqtIQABCAAAQhAAAIQgAAEjpUAiag99czaX5XRV9n819uWdG0k0dDSawkf+4FwSyaV/tJbra39BTj7AXf9uHit3tTyU01ETfV36XZLxcfSdi0p75TeiFrSb2RBAAIQgAAEIAABCEAAAhBYkgCJqCVpIgsCEIAABCAAAQhAAAIQgAAEIAABCECgSoBEVBUNNyAAAQhAAAIQgAAEIAABCEAAAhCAAASWJEAiakmayIIABCAAAQhAAAIQgAAEIAABCEAAAhCoEiARVUXDDQhAAAIQgAAEIAABCEAAAhCAAAQgAIElCZCIWpImsiAAAQhAAAIQgAAEIAABCEAAAhCAAASqBEhEVdFwAwIQgAAEIAABCEAAAhCAAAQgAAEIQGBJAiSilqSJLAhAAAIQgAAEIAABCEAAAhCAAAQgAIEqARJRVTTcgAAEIAABCEAAAhCAAAQgAAEIQAACEFiSAImoJWkiCwIQgAAEIAABCEAAAhCAAAQgAAEIQKBKgERUFQ03IAABCEAAAhCAAAQgAAEIQAACEIAABJYkQCJqSZrIggAEIAABCEAAAhCAAAQgAAEIQAACEKgSIBFVRcMNCEAAAhCAAAQgAAEIQAACEIAABCAAgSUJkIhakqaT9d13320uXLiwefTo0bb0559/3ly5cmXz2WefuVqc1ghEXrr+8MMPN2/fvq01S5dHefE6LShZ8euvv34nHpLNqNYgcPfu3c2lS5c2b968adRa99Yvv/yy+eqrrzYfffTRtn9tzNv/ixcvbm7durV5/vz5ewZobrh///579/ZVILuvXbu2s9tsvn37dnV8HTqG5+o3n2/evLlZag7J9tVIfx86pucyjkyi72vNs1m5L1++3Fy+fHlzyLEXGY1eL91Hp6Z/1F7qv0/g0PPM+xYtW2L+2fPs2bNnywrek7RTt7+ESXO09kC6nvo8PtTzvOQbZRCAwHQCJKKms2u21AKcRFQZU28xrYfUUg+taIXk6yEYr2P9udc9f+fKP9X2c7gfejGtTa2ST7WjJXf8P80Nh9oMG/MbN27sElDR7toC/tAxPFf/oRauI/29REwrLlvxVWNZK/fxO3IefZ8z3lt6s3IzbKRHMuP46F2vnRxfso9ev369uXfv3jY5J7+uXr26+eKLLxZJSC8Rz+qPYzweU4xorGnN2eKV7Zep/tWeIS2blrxn/k2x4enTp5s7d+5s/Ac0flzUPlxa0naTNWL/1D5aap6y56rNIeL0wQcfbB4/fvweEtm51Jr+UM/z9xyjAAIQmEWARFQSnyY9Tbalo1/4x0VBnISTas9std5iOvLStRJHNTDxoWiLkdJbHlFevK7J9+Wxj/29eN7zN9Y/L9dTuItNdjGt+ksfTb/NAxZfP/744zviLQ5tUWtvX8QFseLGzxfvNF7xws9jtqh+8eLFTps2peZTaZG6ZAxrnBofzaXRnp1hv57M1S/fe3NI1Dv3eqS/l4jpTLKlxrJWbgwkV/3VO9qGOPo+Z7ybDerDnu54X5sf+ZAZe7I1yupdl8ZOLYYOMQ5ki1jU/LENZelt01aMSLaOS8SzZB3jcR8xkvVbY+0sJ6KysWdxF5+7LY7Wj60PZ+IYqY0Nr0O2xral62jriP2HjMHWfBzjUHZqLtZ163msOiVmmbKRudj3HecQgMD+CJCISrJuTbiaEP3iNi4KNKFqEk6q3VVT+9akvavcOOktPuVL6RgfLA013Vt6SNdkyl/x0nXL/1YfxXZRXrzuOrDZ7DZZNR+8jJ6/vu55Ou9x1/1SPFrZoRYairUYV7Hv4jxg91Xm54vYbq1r6da4KulRrEb7VJ6J95JclbXmoLggVxs7ZvSrTi1eMuXRb29D73xUf+yHJTbu4tvyQ3bGvqyVm9+Sm2FodUy24k22aDz3xk2Ns8Zd1gbVE2f5IHtqeqxctqptq+6Ue7JFNvrj3HHQs0e+mU5LpL969WrX5Kefftptykv91IqRnZBfT5aI5yhz5Nr76fn2zrPPFckvcRqxc4m6GmtxTJdkr9kvFh+t+C3Zky3Lxt5IIsfPKfZhyLfffvvOeJBt9kGNfbj0ySefbD886fW5bO3Fmt2PvEbsl30jx6X6Xz4aC32opQ/g4hjSWNF8qusWR9XJMCzViTaMMKIuBCCwHwIkopKc9bDKTmxxUaAJVZNwUu2umtq3Ju1d5cZJa/Fbmsh9WWaB01D9zi09wGoy5a946brlv2T6h6Itqu23ucwPv/mI8uL1O8ZWLmIfV6pti2Vbzd9WW3/P/NFCyHyyBUzvTRKL3fj1i+vXr+8WDl5+6Vwbk1HbFWutMdPjrvs+Dv15S3bJF5X15HodtZizxZzVO4Y3orJ9ZHEYF71ioqPYaOypfIkY1jxq3Pw4VYxaea1PM/pVx/ff6LmfJ+R79jiqPzJeYoOgcdfyQ3bGMV0rj/5bPd9P6tc4VjRHyhbFVqwX5a91nWEj3bI19pHuzzmK11rjoGeb+ln9EuvLvtJcobYxdqIMu14inktys2Xqw9E5wMd2S5fkHyqevW3ql1qf+rpr9ovZUYobr3/quXzsxZ75l7VBc8LIOJ/Kbw37FYNrxXitrzRHlMaK5n3fT7JTnHU9deyIpfmdifmaH5RDAAKHJUAiKsm/NemWRMSJWJOuJuFSm1aZHpbZh2tNluQceuK2B7l/gIhvfJiKl/jVHlq6X3ooymffVvVVFq9r/Hx57GN/L57roekfzLFO71oyIiO7rsWF+VV75bzWRnZYn9gPcevrU6O2q49LfSIdU7ir7dTFoLWX3hLLWKYYkV4dFVexfry2RJX/p7hZYgyO9pEx6/W72ES/FX+jcVDyXePa37NzxUyJzRL6o759XI/095yYli/ZuLQ4jX2ZZWz1/LjW/B1jJvpeiy3ZPnK0NxRKfyjA/LI/HlD6nSOxKcVX1C1ba7Ea649ci0tN9prjQH3l+69ku2yMrLIxYjKXiOeSbdky9WGMy1r7LBu1H5WvdmscFTMZX9fsF4uP3jNmqv/Z2DP/sjZoTqiNxZKtU/mtYb9iMK47ete98V/y25e1uLVsEmfVycSr12sfutnveJl/9hVJrW97H8h6GZxDAALHQ4BEVLIvRhcoWsRpoa9JV5NwUu22mnTrwTJFhvTp4REXl7q/j6NYmD96GEYfo69qU3totfySbL8wifLidYaD+jjDMrsAqemVffbg9X+JzR7K9pfAjFeJjV+c6tVp4+HL418htPs+AaW+UCzXbPTlYuP72N/Xufwq2a46tePUxWBNXiw3+T5m4n27Fqt9/9U86VWSMNtHmThUn8R5JtO2xMiX9ZhKt+YF33aK/mP48VmNhThPyB/1nY4l3z2H3rnmQsmbcuyN9Tj2LB5Lf5Ew+q7+nTLevd8mN8Z+yc84fsUm9oWXrXPZWpLbK8vwi7ZJrx2luxQLipueDi/Pn9f6ytex8xqrEf0xTqKOta/FMRtvYlPiXrJ1VH5JxhJlskNx2YuNNfvF4qMV23P8zcZe7znjbVCfGzt7U9x+aNt/VVV19dU8JT6yMaX2dlzDfvV9fF57vWuca26vxZr1geLRH2Wn7O5xtP754YcftmtS/yPy9gGfrV3tvl+v6o8t2Do5rm3X4IBMCEBgHgESUUl+elhlFyhxktakq0k4qXZbTQ+vTz/9dJd0yCykSzpqi8tS3bXKxEab9xKTyEvXtYeWZNYeimKo+1FevM74LpmZvlBd6c/I93XMvn//93/3RbtzxWZc/KmvSzGrNrZAiDb5BYQ97P/0pz9tFxSx3s6AcCKW+rSqpF9NVLfWr7rvFzL+vCVbOqYcxa4Um1Pk+TaK1Uzc+Hb+fGofSXfLL8VqtE/l2Tjw9tq5+rLW16pf20SM6NdXFX2stM4zPz4r+0aP6qsYq/In2hXrjepT7Mb+83JqumVLr49jH2k+iX2reJMt2RjwtpbOpf/hw4fFzYbZY/fMH+k2OWIjP+1Y4y1bfd3seYuf5EZW0U/5GP8EvfqupSPK8tfqq5rfqhv7TuUj+hX7WW6qN9U32ahjlrXqZ9movuTL7uwxPqslb+pRnP/85z8X/0BGlGv1e/0f22SvLT6W9k+65acf07rnj1ZvxAbrRyWYMn049XmRHTsj9isGW890z2ap814/xxiLduq6Ng+W5mrrm9qbT/6Prfg+HImDpdggBwIQyBMgEZVkNbpA0SJOCypNuqMPCz24tGiQHJtoew/jkmu1yd1P3KXzUbtLuq1M9tvD5x//+Ec1saZ60qvr2kOr91AUx+ib5PXkl/zRokgyVEflUZddKx5Ud6ljaeEin2txohgVY9lisvzDXv5kbVd92wjaWxKKXcn3xx533S+xtLKWbK9n9LzEUzLkX82mUrklXT/++OPtplnca/0iPa2j2TCljzSPmY0Wt3pLznT5hVyJq+IpGwfRfs09Md5ivZqeWnls72Nm7U+4o+54rb5WTMS5Ita3fi2xj/Va1+Lciq8ay1p51KcxoFgQ82i7/JctqtfjEPXFa5M7540o9Ycdo81RV7zWGJrqg/pn7XEQ7fbX6mf1i79n5/KxtIlTW/V9bOuvFSeed+Y8I9vrqZ2Pxpv8zsaE5Gd88nVKXGs+9MqfPHmyTbgqnjTmWjqWmGdqdpnslu5au165+sY4ytdamyk2ePn6kNT3mb1pY9dTx73ZqvFQG3fyZ8T+qTFovvTskD2lo80DrX6O92Wn+k7XLZ7ioOd49g0nexP6D3/4w/YZIX0lHyiDAAQOT4BEVLIP/EPKP5xqk7kWA1pQadLNTor+E3379MVvGFv3eu5oERx96F1n7W7p9wwjF9P/+eef7z7djrx0XXtoxYdetEP9Ef2UvJ78KE/1TV58GGuxEXXZtfyO8uZe64HtPz0vlXk9igUx8Pf8ufzJ2C7OFi/q79aiXhx7Nnh7dG52tWSr3uhRXGoxLx7qe1u02n+9Nm7jVWV21IZZtorRnEVg9Ek2ZfrImLc+/Y3xLF0jG1C18Udx7fktPtGXrH617+nxthm/mt++3si5/DW5f/vb33ZJ9zife5lLxLT0tvyvsayVexs1ri3+pUM6I8PYF3PGu7fBzu05aL8VonHn51sbd/YbUfErNrJTdkeZmWv5P2XOMvlZG8Ru6jho+aJ+MGb21qvn5NcXpTkwEyMt3fu8Jz+zfaW+1Vy9T1un6FISKtqrPrL+9esq6VhinpGseFxjLjUdGjfmU/S3ZIOfDzJt1Pe1WOndjzbEa8Wi2VIaV77+CEMvN/rcu54zD1qMxfne+xDvy075rusaby+LcwhA4OwSIBGV7Fs9hEoTu03mtftaRGrS1SRcU2vfhfZ/Fc3eeih9CmD67C+hyR59YlCTq3I9zOc8gCRr5OgXt1G33dNfttNDKfLSte5H3fGhF+/HRX2UF69j+3ithd4f//jHdz6NjPV0rfqKB5UvcSzZrnhsLdjUrlXH7LNFkcVZz3bJUx+N2KA2IzzWWkyPLAK9vdmxpViM48DLGj3P9pHkWt/Y7yr4TbwtKvW7C6rnj3NjeJRPjLes/il8p/a55+PPbYOoBKS9GWj/NB40Z/s32tR2iZjOcK6xrJXLPjtKvn3irHEr5nGe8OXy245q5+XOOY9zT02WbJ8z9tSPU33I2iB2U8dBjYHKZYfvF39e8y8TI9Jx6GM2LmSn+rb3TFT9Qx3NTq3/zFb/QaVs8nNQ7Msl5hnpice1ZEvuN998s12PtMaw1fWxbOe9PlXfR1byr3df9WpHjWdLkvdsmWJ/Te9a5TYPkIhaiy5yIXB+CJCISva1HkK1B4jux4efFpFaENUSUfpkS+3tU3P70cTeP3sFNb7doI1Pqa0Wn62HeKndnDKfaKr5b/x+//vfb/RGT+Sl69oiYepDUfJ68r3/vq6+Xth6IFvbtRbvxk2LFsWa6ZONtXi1OorZVh2rV5Jv5f6fZHkOKmvJl52K+97Rx4/Z1ZLt7cuea3x4PaNt/dhq+efrZXXU6mX6qNY2Wz43hrNsa3pq5dF+z1wJev/Gh+ov8eOzkqWjfZDg5+PYxzYmtIG0WI/xu0RMi3NvLNl9P2eYDxnGtqEyu7///vttss1kWDt7Zpnvfuxo8xVt0bwrbtljTV6UH681L4lN7Bfpl/+x/ZzrqEs2eE7S74+yZUofeTmtc30dV0lT89O+gmRriNIHYCarZldLz6Hu+blgpA/juDyU/SW93ifFdameldnayz7Y1LpK9VrzjPp3hFevbhwDsiN71Lg3OVpXtHw3/1r39+2jbPbzZouJnueeq4/Jfdtf6iezocU4xpjiVvOerkvPgmPwr+QzZRCAwPIESEQlmfoHyZs3b7qt9ODUIlKTribhKEDyswmo2F5vUtXkq74Wwa2HoOouebQHS+tti6gr8tJ16aFlbSPvKM/0+wd5lBevY3t/rYek+lZMa7ZZ29jGy5t6rpixxYqx9f8y/qi95+Jl6FyLIvmrcn8s+ZeRLzv9gqt17hnHhY63Z+p5xteabMWBH1st/3y9msxs+Ry7szrm1hML34clmeZLaYFbirFSeyuzvvAJoVZM2T2bdzPzek2flSveTZ7Z3/pAQBvEGANLxLTisOez3Y9jOsPYbFQfqq/szTp79lh7P59oXpaf2RiocZa8jG+xjvkqNrIn6pH/se2c66gry0BsYxJBNsa+i76sdd3Sr3tzeMW2kd+IX2IdZfaufQxHfcfgo40D/eZgtC9z3ZpnjsE/74PGrO+TUplvUxs7qrNvHzVvKZZb/M3GY7Nf3PxRPtXmIfOhNM60R9HY1LPEy953/3jdnEMAAvslQCIqyVubDP8wbDWNk7QmXU3CrbZr3tMDvPSA6JXt0/bIS9elh5bxkl960HuG6jvfNsqL1769P1e/ell2Xw/OGiPdrz20vY7MufmrjXbJZ/nTildxadUxW7SgqNkuJtH3rPyMv6U6vcVcqU2rTMxi37baHMu9Xh+V7FRM9sZ9vF+Lg5KOWGZ2lpJMqqc+KMWk7B3Rrx8t9V9BlD/25od9PS7z5qns6x1tXNpbWKWvyvTa2v2lYzqj09fpMVb/aM7RvGtMrV90rfuaG3St9qc4xjynuef7Hgdz7c22V/xojC1xVOxkbcjU07NpShyeio8tDqPzTG/cimdp3m7Z0bun+aT0zNDcYh8ixPm2N756epe8X2Knsrhmkt5jsl82xaP6puSD/CuNf9VXnSljMNrCNQQgcLoETiYRpUmrNLHVypZ8KI4+aPWQ1KZJ9msSPlTI6OFRY9YqX9t2MSo9mFr3jKXul/pcPvsFrepLV7wu9Y/klBZFVl9fuTFO8WsNWrwqHkrys2WSZQuw+Gm5ZGTiNeOzybNFkcVFyXaLc/tahzhKvx0zNvj6o+eji+mefHH1cdJro5hojZvavRE9PTtafVRrK39r9tXKS3FQ0xHLNS+W4sXqyo8SG9k7R3+059iul47pUf96jO1+nP/MZt+f3gf1t/ozO+dk7Za9tVitlcuerJ6lE5ri4rl5Ww4xDkp9622SzaPsvIxjOdezqcb/WOzM2DHFFz9GMzp641Y2lNZfGfmxjsl78ODB7o2aWsxpzWVzkn8D1fyL81TUUbq2cV77Awj64OL58+elptWymi0aT6XnWa1NScnUNcgUPl5/q89LvimGtI/Q9VkYg54L5xCAwBgBElFJXq1JtyQiTsSadDUJl9qc9zIxmrqY0abEHmz6hEy/TxUfutKlh2C8jn3hH/alhYPqa2EUP6WTba22ktE6Sn7va46K1+i3ly2fxMDf8+e2KLINXbRdOmqbvVJ5lCE9kjXS92bXSH3pKh2lv8Wr1E4MS772ymqL65KeXlmtj3rtRu7HOW2kreqKs7Hx49TKFdu1Pm2NId3rMR+5v2T/yH87tuaaJWPadI32mTiWxqns9s8wlXlWGhPWv/rtQ91X/d6c43m1zmXvSL9aXdnTkm33zBe9eZrREef9mvy1xkFNX6bcWLbmP8VSll1G56HqiP9ScXgoP0zvFF9G55neuJUNtbl7lI9iLTNW9ezzuq2sFcvRHlsnjo7zzFe59UyrjRnZGedbldc+aPT2a77NzE++zggfr8+fa/71z3JL5tmHk74/rI1iSM8PXffGoHR42zPnUb+3m3MIQOB4CJxMIurQyPSg7U2AeqDoQaprTbqahA/tzzHq9w8ccRuxs9VHcSGg/tBDMF57vdaX+jHXKMfX07n5EX+zSb5N8cvLtfjL2GBtejoVoz15WuhF21u8a+MkypBvkjWyeDC7RupLV+moxZzioVRnqbIs9xF9tT5qyVB81PqqVl7rw5Yuf09jrSS/tTiWvSX9uleSObWsNy68TyPnirWlYrelW7FWYlZqJ46l+vbj5PYXn/zmqDYG7e2EL7/8cpcIE0v1/T7GWck/sZc9pToqk60WP/YVzm+//XbT+tF7/bXbbL96+TFGp44D2T7l2JtDFBvZNcyUOX2K3VPayLa5cag+zDKZYmuvzVK+tPTIzxov2ZCN/ZYu3bN48285qbx0tISPn7MslltjyMuQ7TYGM3/cQuO8xsJke5lxLVjSbbZ6X0fs9/Ky58Y2y6cl0/sZ5zDfHyZDMaSxousWR2uneSfK710vGYstBtyDAATmESARleTXmnD9hKjJN24ANOlqEk6qPTfVtEGw159Ln6ZkQVg/6VMo65f4gJcc9YcegvFa9XQ0mbaxmvpPD1PFx6gc8RmJH8WgfPQ6Fc+ZxUhvg+Ll+nPpyCwIRup6HUudq38yG1SvU/3i54Ds+agurzeeT+kj+Zy1V/WmxrC3WeNUCV6TbZt9vcno6+pc9k7VrxgrjQfpWPsoG8RyZDxPsU1zwFRmLZ3qw1YcS7/q9ObZlr7SPcWEeGaPsqckU2XRdpW3jrIny1sM9zkOSvarX4xfaXz4uC3dL8lUm8z8X2q/Zplsy/pSs0Xc1h7HNf1WvpQvLR3ys8ZLNhxLX48kcvQMH+nDjHybC1pJKPE2dvZ1wKmJKNmfnftUL7P2k42to9nv19z2VmjpdxcVQ+Ks61pMtXT27ln/HEss9mzlPgTOOwESUStFgBaxWpBq0tUk7NVq8aoHxBJHv9BeW773Zcq5HqR6MIpd9msOU3SqP/QQjNdTZLbaqA8UD626pXtT2mtxaPFkfmqTb+VKXJTiMepX3VHbpT+zIBipG+1b4nqqj4rdKWPWj9G5Pkyx32JKY26u/n20nzIGvF2KMY15f28f59JvsWJzm74KsqY9mktHx+5SPKRfsb70PKuYGB1/sqflZ7S9VVf3ZM+avNfQYTJtLvjDH/6w/Rp25CMW4pzxT/Gemf/Fb4mj+MjWJY6Rh+xUPGeeo2qz9FGc15xH5GdNh2zYd1/XWNrzMPts0zN8pA9H5NdsbJWPyJf9o3Ge5dOyc+SeYkicdV2LqRHZsa7xO5ZYjLZxDQEIvEuARNS7PBa70sJNCzZNupqEvaK1F05ry/e+jJ7bb4jYp8H2UBQrkyGbrbz06cqonlhf/aGHYLyO9edeyx/v44hMe7BmFhoxvlqLFNsMZ37nQLpHbR9ZnI7UHeGWqau+n7JwEd/aRiWjf4k6U/rIYnLfi9E5vs4dQ4oxjfk5toy21TxnY1jjzuJOySgrW2Oei8+hUbvn1pd+jQ+NtaX6YM0Ylq3WZyNf2Zkyj4xwnjsOoq7YR5pL7G0O+yqiONhc8T//8z+bK1eupDZ5Gm+jopfDAAAgAElEQVRr84j+iE/meZmto/iNusQmPndjvTWvxXmpMVWyVX7WdMiGffd1yVYrsxjOPttk++g4r7Go2TRSPmL/saxBev4phjRWdL0GR+N3LLHY48J9CJx3AiSiVooALe60edekq0l4JbUnIdYe/PaDhtqE1RYMcfO25EZN/aGHYLxeGqQWx4qHUfnaHPQWzqX4sh/itFe/1dZ42yYj/mW/mk3SPWq7FniZBYHqysaRY0Z+zTcr10JOsdCqG++p7Yi9qluL+6gjcz2ljxSTsid7nMs740+pjuwdjUPJUoxN6WfJGDn+8MMPm7/85S+735czvvb1Qz/uzKY4Nr/44ovNjz/+OKKqWlfPoWzfqt5SsSn92sgvPc8qJmR39pj1z8a3nlMZ2ZZQ1Jun1U6ZeUM+Tx0HXr31j30QFMeE6fj444+3cXjz5s13/liF5jwlVL08f67xluEW6yhevLxjPFc8R/sz10v5OIdzab1Q4iw/Y5yormw41LNBduhoz8PsGLc2a/1YuewZPY7Yr/GYiblYJ9v/o/aX6iuGpFPXtZgqyciWGb9jicWszdSDwHklQCJqpZ7XAlyLRU26moRXUnvUYm2x8qc//WmXELGHYi8hEpMoajPXUfWHHoLxeq782H7JzUOUfRautZCNC6XM9SEXHHMWgSML5TX6WDGZYezrHIq37NWcOspEMaYxP9p+pL4Sg+LWe+PJJ+bVZolnhZ5Dkpk9LhWb0q9N99LzrGIi65fqjfpn/WNfW7t27do7zy+Tpz/rvuQHJa1Yk89Tx4HJtrGg33WpJZT016/MR/Wf7FICyzj637bRfelQEkvcs8eoz8s9pnPFc9YvX28pHzWvednZ8+wcIz9rc6dsONSzIcbESCLHt7WYtw8GWuP8+fPnvskq5yP2z1mDZPt/CScVQ9Kp61pMzdFJImoOPdpCYL8ESETtibcmXU3Ce1J7dGrsofm73/1um4Aq/QWimsGvX7/eLpytrf+rTbX6o+XqnzUeimbLEpuHUZ+oD4GzRGDuGNJmaa0x7llrc2BvQI1sXOwtKtsIrTXPeRsPcb72PHsIn/atc+44kL0mJ76hp3t2tBi2v5JYS7DZffsLYms8j70dnB+eQG/cam499UTU4Un/04KRRNSx2NyzQzGkPZCu13gek4jq9Qb3IXA8BEhEHU9fYAkEIAABCEAAAhCAAAQgAAEIQAACEDjTBEhEnenuxTkIQAACEIAABCAAAQhAAAIQgAAEIHA8BEhEHU9fYAkEIAABCEAAAhCAAAQgAAEIQAACEDjTBEhEnenuxTkIQAACEIAABCAAAQhAAAIQgAAEIHA8BEhEHU9fYAkEIAABCEAAAhCAAAQgAAEIQAACEDjTBEhEnenuxTkIQAACEIAABCAAAQhAAAIQgAAEIHA8BEhEHU9fYAkEIAABCEAAAhCAAAQgAAEIQAACEDjTBEhEnenuxTkIQAACEIAABCAAAQhAAAIQgAAEIHA8BEhEHU9fYAkEIAABCEAAAhCAAAQgAAEIQAACEDjTBEhEnenuxTkIQAACEIAABCAAAQhAAAIQgAAEIHA8BEhEHU9fYAkEIAABCEAAAhCAAAQgAAEIQAACEDjTBEhEnenuxTkIQAACEIAABCAAAQhAAAIQgAAEIHA8BM5FIurrr7/eXLhwYXP//v0d+bt3727LHj16tCtb4+Tly5eby5cvbz788MPN27dv11Cxk/ndd99tffrss892ZYc6kd+XLl3avHnz5lBmoBcCEIAABCAAAQhAAAIQgAAEIACBIyJAIopE1HvhqCSdJe9G/vtkG4mo97BSAAEIQAACEIAABCAAAQhAAAIQOPcETi4RpQRHL0Hi33Ra4o2on376aXPnzp3t203Sff369c3jx4+bQSR7fZKm1ODnn3/eXLlyJZ34uXjx4ubZs2fviFrqjSgSUe9g5QICEIAABCAAAQhAAAIQgAAEIACBhQiQiEq8EWUJHvt6nRJQ8Xj79u1qd5xiIqrqzMAN+Z39ap6SaJFt9tonHgfMpCoEIAABCEAAAhCAAAQgAAEIQAACeyRwsomo3htGnuGcN6KUULGEyK1btzYvXrzYiv7ll182Dx482CWn/O9Ped1q37NXb0RlEzdeh86VzFnqN6JkU+ntK/P/5s2bW/9LSSD5nfVHtmcTT7FeyQZx4QgBCEAAAhCAAAQgAAEIQAACEIDAcRAgEdV5I0pfU6sld5RAqSVclJA5a4moVpLKQlt+17jE8BfHGudYn2sIQAACEIAABCAAAQhAAAIQgAAETo8AiahGIiqbTFGyqvRWlGScYiJKbz2V3ogiEXV6gx2LIQABCEAAAhCAAAQgAAEIQAAChyZAIqqRiNJX+npv6ehtnlKy6awnompvPMnv2v0Y+GLYYx3bcQ0BCEAAAhCAAAQgAAEIQAACEIDA6RAgEdVIROlNp97vD+ntoFLSRQmZUpLKh0lLhq/XOl8jmVNj0LNXfpeYlHxYw/aSHsogAAEIQAACEIAABCAAAQhAAAIQOByBM5WI0lfJ4g9Z69p/da6WYFFXSFbpa2mqo2OrrhIyZy0R1fNL90lEKUo4QgACEIAABCAAAQhAAAIQgAAEILBIIsqSDjdu3Nj+BTVL3Dx8+HA1skpwlBI7Sggp8RSPp5CIijbHa+9DhLzEW0WSEfVmr5V4Uj/pOtoar6WXr+ZFMlxDAAIQgAAEIAABCEAAAhCAAATODoHZiSglHGKiovd1tqkIpa+UiKrJ1G89+STOsb4RFTnGa/mgxE28b9dzkjktuSVdsUyJJ/WTrmt9o3LpnWO7ZHGEAAQgAAEIQAACEIAABCAAAQhA4DgJzE5EKaETExIjiaIRNEpwjMifkogym8y3Y/1qnhI3kbtdH0MyR/1EImokuqkLAQhAAAIQgAAEIAABCEAAAhA42wRIRPFj5atE+NREVCmxlikbSUyu4jBCIQABCEAAAhCAAAQgAAEIQAACEOgSIBHVSETpTareG0Z6O6mUDFFCpnTP907vr9D5urVz2dGzt9b+kOWyPZN0KtXp8T2kb+iGAAQgAAEIQAACEIAABCAAAQhA4J8EZieilGiJyYFT/40owyPfWl8v8z+Qrt9v8sElGb1EybEmomRX7N/sdYud58Q5BCAAAQhAAAIQgAAEIAABCEAAAmefwOxElCGyZMsx/NW8WnfpzSafKNJvW/USZqpXe8voyZMn278WWEu4kIi6tHnz5k2tayiHAAQgAAEIQAACEIAABCAAAQhA4BwRWCQRtU9eSuz03sjxPzI+JxHl3wiyt5pevHixddfehHrw4ME2CWW2+CSX5yF7T/WNKO/LyLm41RJ0I7KoCwEIQAACEIAABCAAAQhAAAIQgMDZIEAiqvEbUepiJZNqya9aEsraq202EVXTUSv3uvU7S7W3t+TPPo4kovZBGR0QgAAEIAABCEAAAhCAAAQgAIHTInByiagpeOe8ESV9r1+/3ty7d29z+fLl3VtQ169f3zx+/FhVise1E1E+6bRGIkoJpVoirFfOG1HFsKAQAhCAAAQgAAEIQAACEIAABCBwLgmQiEq8ETUnMrKJqDk61PaUElGytZfImnq/99tfYsYRAhCAAAQgAAEIQAACEIAABCAAgf0RIBFFIqoZbXojauk3m0hENbFzEwIQgAAEIAABCEAAAhCAAAQgcCYJkIgiEdUM7LUSUU2l3IQABCAAAQhAAAIQgAAEIAABCEDgTBIgEUUiqhnYSkRN/YqctfO/Y9VUxk0IQAACEIAABCAAAQhAAAIQgAAEzjQBElEkopoBTiKqiYebEIAABCAAAQhAAAIQgAAEIAABCAwQOBeJqBKPu3fvbv/63do/an3qP1ZeYkcZBCAAAQhAAAIQgAAEIAABCEAAAhCYQuDcJqKmwKINBCAAAQhAAAIQgAAEIAABCEAAAhCAwHQCJKKms6MlBCAAAQhAAAIQgAAEIAABCEAAAhCAwAABElEDsKgKAQhAAAIQgAAEIAABCEAAAhCAAAQgMJ0Aiajp7GgJAQhAAAIQgAAEIAABCEAAAhCAAAQgMECARNQALKpCAAIQgAAEIAABCEAAAhCAAAQgAAEITCdAImo6O1pCAAIQgAAEIAABCEAAAhCAAAQgAAEIDBAgETUAi6oQgAAEIAABCEAAAhCAAAQgAAEIQAAC0wmQiJrOjpYQgAAEIAABCEAAAhCAAAQgAAEIQAACAwRIRA3AoioEIAABCEAAAhCAAAQgAAEIQAACEIDAdAIkoqazoyUEIAABCEAAAhCAAAQgAAEIQAACEIDAAAESUQOwqAoBCEAAAhCAAAQgAAEIQAACEIAABCAwnQCJqOnsjrLl3bt3NxcvXtw8e/bsKO3rGXXq9vf84z4EIHB+CLx8+XJz+fLlzf3797dO//zzz5srV65sPvvss1UgfP3115sLFy5sHj16tIr8ntA4f3/33Xer2nNof03/ms/btfn1+pP7EIDA4QnEeXVpizTP6Dm1tPyzLi8+58+6v/v2b434j322j7XZmmuFfffJkvpIRC1J8whkTR2wT58+3dy5c2dz7dq17cbBNjP6f/Xq1c2tW7c2z58/X93DqfavbhgKIAABCAwSGF3sKLGiubd1LC1q1H6tRFQv8RLnb21wRuzp6fBdsJS/ZvelS5c2b9688eK75yO2doUVKkzhVxBDEQQgcCQEfvnll829e/e2H1DY/G7z+O3btzdv376tWhjn1VhR80R8XtgHHnoGxXsffvjhTqfaz0lE1fREvbXr0vMs+qlkQU1GrXzK3B51t67l+xx+Uf7r1683X3311eajjz7a7cXkn5V98cUXu/6Lbc/adS/+p/gb+0yx1fqQ0MbuzZs33+sP9Ys/xphbe60gBvLD25I5j/ZK3j6OJKL2QXkBHdkF9+iAtaC9ceNGamBZMH/wwQfdxbpszQR/fPiM2r8AWkRAAAIQSBHIPOT9YnR0sTNn7jQH1H4k8ZNy/NdKJj/O2b59nL+1wRmxp6fD61vKX7N7ykKsZ6v6P/MsVB3Pdwo/z4dzCEDgeAj89NNP2zdiNdb90Y/7aHGcV+N9zRNenp2TiPrnB+ojc7slG548efLOh/LWN/Zh/IsXLyL67bXmef/sL1ZMFuq5FvszXptdX375ZVLqYatl1k7yLyaDevFvnmXk+/6Jfab2UbenRiLK01junERUgqUFqCVrWg+KkhgF7Wi7kixNTL0FfWbASr7ss8Fvk+y33367efXqlW7vjpaZtzemPvnkk23Cyn+SsqvkTmSrJpXWMbIZsd+pfOf0GPrrHYMmXqh/IqOJ4mgGAQj8SmDq2NJipTWn+Tl6ymIndlIv2eHra+71Nvj7c897tsT5WxukEXt6OrwPS/lrdo9sVmRDz1b1fyte4j0/30/hJ9vO49HWKfpgzXMUi9L92npBc0SMi1p96ThrR815vXXfWfO75E8tJkp1Y5na2ng3lkpqWHJKb1nUGMd5NcrWPOE32qqjOah0T3Va7VVnzlE2lMbkHLmZtiNzu8Z2nJN1bfaXnmXyr8U4Y6vV0TPNdNmbcj/++ON7TX/44YftN1jsa/9mW1av+ln+jBxLfr9nWKNA80hGZ0wG9eLf1Gbkex9in6l91O1d0hiujVNfN5731gqx/tTrjB9TZa/VjkRUgqx17FqJqGzQaHLyA6lkembAqp0GYmvgqa6OI5O62thxDfu9fH++ZH9p4u5x9/qXOtekd4iH91I+IAcCx0ggM7ayc7P8s7kijlXNsVoojso02Tbn2uItMwdl51nZPHrsPV/i/Snz5yH8NZ0x4ZBhM7K4VMzF521LRotf617G9rNWRzy00YljsXa/tl5Qf8W4qNU/azzlj+asKZsvyTgrx1pMeP/EK45zxV+Jo+Ra7OpZ4WXGedXfs3PJLrWNz6DYtte+VH+kTPo1Lm08KQk3Imdq3ezc7vvAvvnhf4rE7tnX5CzxE+cVs0s+lviP2K3YyTKS3jhH1XQqTtQXI8fM+qOm18rlWyn+1U514tjpxb/a147y2/sgduqzmm4vUzHS8sHX9+e153zJNt9u9Dzjx6jMteuTiFqRsIK2NHGZWt3PBHV2gzEyYDUQ46BvIclO6lHGGvZHHXOv1R+xv6b6vJY9U+Tap272Rpsm3SkyaLM+gfPaT/v2uzbW1cO6n5mb1UZzXGlxp3E3ukhQfZPp52nZV9JlZX7BJfvmHr1O+RNlxufP6CLL69inv1Pn+FKfe7s9H/kW75uM+MxRux6/qXZL/lk5iq3F/sOHD99zq3f/vQZufZbd5JVk9Mr2Pe/17Cnd1xw0MheW5JyFMsVRLSZ0v8Qqzo2Rh9bjU9pqnijNy5JbuicbWu1VZ/RosW2/O2tj0uY3G5f2lTddT/mNI8WiyRj5X+sv75MYxPm5VCf2UYaxl1M7nyKnF1c1XdlyPePmrinUd5Gdt0N1Yh/M9dH6Nj5jI+uabm+fxncv9ko+tp7zSz7HM354n47hnETUir2goI0DQCpHBni27siAlX02qK5fv755/Phx86t5euW9NMjkU+24hv01XVPLxSP2lyasODlO1ZNtV7Mn297XE//WYsTX5/wwBM5rP+3b797Ykj0jiy+be2sLFI270UWC7DC5fl6S/TV9I3ZnI10L9WiLb19jkLVHc23Usba/UxeCvn/UF7XnhPo+Pj9Nhu9bz1PMa/zEq6bTyzrL5+IQ2crn3n3V80fFXGYT69uNnCt+ND+MtN1X3Vrc7kv/MenpxYT6M47XDMOW7N66XvNEKY4U+/6e6mvO0tHXmcLdvkb217/+dff1WJNrbxf5N6DMHu0lbN4b+UNI4ih7s8fMGO4xNh61PioxnsJvipyM3VNsUZtaTOt+9qi+q83RJkd14vNsro/WPsZAZF3T7f1T//firuRj6zkvW6LfXnf2XH70bCzdj/NWVufceiSi5hJstFfQlhaZCpZSwJZE2kCywOk9KEYHrNmhh0IpMGNZ5sfKS/ZnJ7NR+0u6ppa1+usQdrXsGfVR/HvxMyqX+ssSOK/9tG+/W2NrdG62CFCbuJDQAkPjrlavFEX+0+O//OUv2/nfFlN+UR/biePSCwrZbc+r//3f/91+RaFki55T8bmRscf3ife39ZfslvLX7I4L1ci2dG36S8/3Ul3P0P+FLDErMdKGsXRPOg7xbJLuYzlqnNXWU737JT8Uj1PioiSvVKb41fxQqnPoslrcHtquQ+hvxUSLk+IvPh+iD7WxXCtXe80TpTiSbn9P9eM87etIduYoHV6e/bXt0tuJJs842vNNv3Gkdtbm2bNnVZVi3ONYFdC4YYwzY73UF/J/Kj+ZJf9Kz1bV8Ufpzdht7Wr9Lv6tY+sZ5G2qncu32hxt7VQn9m+JeU2PlVtC1P+332CLMsVOfVbT7fVo/Ld88PX9eW+tMOqjl+3P5UerL2v35vaxt2PknETUCK3Bugra0kJVE0Km4yXHgicOpmjSlGD28kt/KtQeDqZ7yuCTfWaXydCgV3k8TrE/yph6LQ6l/oqT1lQdI+1a9ozIsbqnsOAd9eks1j+v/bRvv1tja2RuVgzW2sR5Q4uE3jwuHjZn6hmhstL8JDtUR21UPudoX7GIv5Fo/ur3MvxXLOL8XeNSske2i42u4yfqvq3qzPVXzyfjnfmvZ6Hpb/WHt1Wx4DcNisPaszHDT3J7z1Zvy1k7FwP1S/Svdz/Wt2v1je+vUr05ZYrfY+47zVk1tnP8P7W2rZhojVXFX6+fFQ+lOag1z0h3SX5Gd6t9to/u3bu3sb3Cv/7rv773YYm4lWLIni82/167dq27v1Es6hmRtS1TLz67Sm3kR5wTMoxL8kpligHr77P4Y+WlGBCHWv9m+qb3DI9rhNhnNd2yzY7q/5YPvr4/760Voj2+7Vk/JxGV6GEFaJx81FTfhfbZfZtA/vGPf2z/GkbpAWKDpiZPcnVUgNrDqdemNBh7bXqDq3dfdtaO4mf29x4gmQmnpkfl0lfze0p/zWUg20rHKfbYXzK0H0+0h7cWLXpw+U/b9VBTHX/0i5asvJL9rbIpco21/yuNZrP55je80jlat8Ss9md5Ne5qMauYiHGm+NPDyv+lJvPFNtb2NVj/L9tPvk3vPMPG+2j1bTEp3v6TSbsX2ZX8kE3Zfh/xe9QGs2XK2BqZm+WvtVF/q8yO4quxptioxVSMFbWTTPWP9ZE9Y+JfORXPuOhS+9Gj/9Q62mKbFz3z5E+cv7XB6dkjuyND+Wvjv/Tputr15Pf8NruNafa/xrzpLz3fS/rEwnTIXsWDlYmhb+vbyDbpVj0bF/aJb2Sn+6d4zM4fGl9i44/Gs3ff2KgPalxjea2+ycrarbj19uo8jrMp8162z01271krfxVfcY5qvfmS5eH7oaan9rzp2VdrJ0YjfDXWYkyYrNZzQ3EY+1Y26NiKi9Y8o3miJD+ju9Vets05ipv6dqos9bXGysixxMbbIQaleVj1VCf6kWEsGZljKw68zxYTX375ZUbkto7s1/Mn3XCBiuq7yM6LVp3YB6XncxyD8s3mI3uhwv7/8Y9/3H6IZnX/7d/+rfh8V1zUdHv75sRxb60wR7a38RTPSUQlek0BGgPfmmoC8pODzu0BGD9JtjaSFwdbzRQ94L755pvtQNLAKdXPDNjYrjcAevejvHitCcImhhJDX3+K/b69nYtvSdeU/pJ8s621GFC9keMUe9QfirN49BN964GmOBqRN+LbFLnWd62vivoH6EjdFmfjZ/3qZZufalMbp/Ivxpniz/rhwYMHxYef6fT6Mv00wj7Lxvvox56P854sxZHsE5cYl7oejU+TO2qD7z/p9cel5mbTo/ktcvA26J5ioxRTnpvxLyVeTKaPFcm1cvunez62fr01fJBfxi3qkTBL9H366ae7r1PEOVIyavZYe/3p8jiOpEM+mR2Rm+7V5EvGWkfT78dKS4+xsbi7cuXKzg+NP/tAoeS/+PnYLdWL3Ft2HPs9Pw683zr384f46Z4/Wqz07hsLjcnIVXbE8l59b4M/93Yrbv19nfuxNmXey/ZvT7bGlPztPc+83WaD+MmvePQ8fD/09Mgu+Zm1L7aTztZ6o+ZTLSbi/CQbFYdRnu7rWJtPeuNb80RJfkZ3q71sm3NULMQ+H5Wpvo6xlLkusfH6ZaPJsnk6/tU8reVK832GsdeVOVcSt/QtFSuzD2bjB1E9uern0ljotZ17X33XigHViePI4j/2cRyDJfu8vNqcq7jwdUuyrMzHSLSndO19rY1tr6s3zn1df17zrWRTtkxcvJ61zklEJcgqQGPgq9w6Nr5V4T9JjhPXyKSlicOCQoMgyvMu9AJ53wErm43d999/v/0EvRXgUyccz0D9slR/Sbb6YqlJXHaOxo8xtb9GYhtV/yCyTZ1tckrxoX4vsZ8iT0xax1G5ihXjYQsB/9aQ3bM3cv77v/97q3KkrudsD4b/3979u8xxXWEc/2/cuHCjyo1aFyqsyoUFAjcCQwoXAglSpXFjAjGoMDhNCkFQoSKqDEkhgou4yVuJGBfGAZEUSikMLiachef10dE998fszL6z834NZmZn7tx77ufemdk97+zK/8aO3ez1L7vE+aLzNN4U1WfFEI/z7Vlf7MkVPaXmP3j7m5TqrI2TyrSWiqvHUX20vyK9//77b5hbO76uaGd/GdfXs+LTU0vPTyUremPwY7DWtdn72Bz4z3/+c5lUMXv/v847xZXNKbvG2D8c4edoabxt3CwBFH8/SfNnqWuUPZE08hfXeP+pXTPNQh8Cza/W51P1t2S9xDaNu80DGyNdo23d+q4/MsVxq/n5uHrL+WO2um7XnNHrh65jpWuq9bO2X2MTr+O69sXttfKjcet81fXBj4nat+tI73XPH19b93W37rXqr65n2f0sOo2OY287cYznHucNen11TOyr5ldpHP38y677Giu7fsa6bV+8rqq8ljr/NUZaWr/0m37a5peKR8dn8aud0lJz2Nd77PqcOEqxjW6zuaR7UqkPdt0u/YGoNf6jcaxVXuMc7zNrtefr1Xkaz99SGc1L7WvNf5WLy9pxccwUX2zb16nzvzQ3Stt8X/1939fp1+eOz7mfgySi/CxI1jVB4w1Cg59NXE10velU9b2TTcf7dkvbVK8tayee7VfMpZNm7rbaTUN9VRmLz/fHx94Tfyxfer30eKkN2asv2j53qbEYnT+19lRnjDHbXqvL9s09bk69miv+4p3VM1JWfTBnJYRivTYvbf57N413Nj66KcX5rPkX61Ob2h+vC7Zfsfo4dFzvcsRGfbRYS29OVFdm0NofY876l22341ttlParvixu9TuOgeoqWcS+2GvNGyuv+VC6jmo8NfZZXKU2Rrap373xj9Q9p2zL0/ZbojA7L1ttLt1f1Vcaw2xbnEOlmK2fKqc5YIlE+9Bjc0FzJ177Wn5qS/NZ80zb97bU+MR+qv/RT/2v7dd4xOu4xiRuz8qrrdIyizvbbnVo7LNrRWt/KQ5t07GZl8rZUv21+R/d/X7Nb39stl7q99x25h4ngxHfbE6oruy6qxhr3qq7VKb1vl7tx2uUzV39ATjus9fqu44vjW82htqusSzVP3fbnDgUz7FLGwd7kCD+7EX8g5ZvR9eXq4zbx5Ota5znjEtpXmbtlLb3nAMqo3mpelrzX+X8Un3NxiSOWda2r/OYdTtPWtfIGNMx7Z3TsSSiOkZLEzS+IWmdHLqxxMlnJ0jcFsPQhCyV0wlmf8mKf0VuxRTbWfO13PwFTNvihUZxLBG/2lhqvBSbxiS7sKlc77LV12z+qH7b/49//OPwYfiTTz5548YZY9SbhbhdddlypD5/XGu9t17zsBtk9mbOtzNatnQe+fo0tn6uals2VzU+cZ5l88+3l419zzj5ekrrIzbqo++3rzOLU2XU19LxveNuddX6PSeG1jEauzgveq7N6ru9WbX5ms0PKydfnXfyqh2j+v3S4ssFC1MAACAASURBVLUnAu2RfP0uk95M2tNsn3322VtPs/njl163J/vMuPS1AYvH3rT7rzaMtn9V/dU8lG3PMs6h2FfNNX+O+HZ0vdN9Xa+tntK2WL+9jvOsVObctplb7/1N/ffGvr+1/Ton43Vc4xa3Z+XV3kjcmge6PqgOW7auYYoj67OvK65b3Ta3/VyLZfRa7UQH7bdlrb5ej9524vk297g5vtmc6LlvtNrTHC3dG1rH+rGYs67rTGkezqlvyWN0jvRci3vLLN1Pjd2cek/ZP41zr5MvN+c64+eBztNaPSoTz4HR+W/9tPdJtbbimGVt+z4cs27jHK9dsb4YU9y/19dnk4jSJPEnRmu9duMcGVC17evLbki+XpWJk682Ie0YfRfZ+pdd2LIfcR09YRWvfc3GHiv3fwWQ79wPFlksuhiW3gRlxyjOnuXS46U2l7xIaG74OaV2tFSZOH9sv8ZfYxSXcd7oZhe3q63R+nRca9lbr/pa81Bba5TVnPE3Lo13vCm24ijVpWO0zOZ5a5x0fLYcsbE6an1UXXFulV57N6u3d9zVj6zfc2LQMbW5pDLx3KpdmxWrLZWEiv32ZWxdvjrvNDeyORWPt9f2VYCYfCqNgW2zP074r0mW6jtmm7nZfSJrP263eOLXB1vtb6m/rVh75kvpfqf5F+eoXRf8ttKxpZjiPCuVOadto9cP9T87H2v7dU56d7PKxigrb8eMxr3kda93fLN+Zcerv5mtHWfz1s79+J5uxKO3nXjNnnOcDOL1qvTa91vHxbkych3w9clc9ZYM5Rv7rWOXWOo6o/vUEnUu9ZlC50hpbOZuW7KfZqXry5x6r6p/ajees9afNeaDztOeMYvvj7L3y6V5qp/FaZ0vccwUX2y71Ibf9sMPP1T/KGc/tWA/M9Lz1HeMybczZ93OwQcPHlQ/1/ufQJnTxhLHkIjqUNQE9Tcf3Tj8tliVysQTwk7yuE3H6gJgJ2vroqabv49h5IS1Nu0v27XvRMeLRu8HC70ByfqgOONFUNuP+TC19HhpbJa8SGhu+LFTO1qqTJwruoHY9kePHk1///vfpx9//PFwodO+6J5tt7a0b6Q+xVhbjtSrvtY81NYaZTVn/JtEjXd2Y8riKNWl2LXM5rnM4vjpuNYyiyk7rtZH1RWvAaXXftzUh5H5pGNiv+fEoGN8TLH/KhPPrdq1WXUo1p5roXzVL82NbE6pDS11P7A49ZRRfENjv3NmbzjsqUgbm1q/Ve+cpcysDfvjhP1Yql134n+KR/eVkXi21N/Yr9JrmwtxDvlyGm9/XbH9cV7oGJXX3JJHvE+qvJZZfdp/TkudXyPXD/U/Oqvftf0yj/NU8z1uz8rPiVvH6PqgeNV26Vobt8X4VEe2VN29x6m/ma21Y/czi8vPU/Wtdxx724nn25zjZBAtS6+9k47z26z/PfcNHWttmKW+zeB/NzK7L2TvF0pjrHZq4xWP03UmzsNYruf1Wp8pfNutMZdBHCdfx5Lrur4s4WdxteJv9b+nbzo//Tmr45acD6pTMZfOsbgtngc989/M9LkzXiMUg1/GMVN8sW1/jF/XGMXYs9cWU8na1xlj8vtG1q0evf/K4vHb7f2Grkcj7SxV9mwSUUt1eE49mqD+oqZJWJvwWRmd5NmktAtE6QfxSrHbiefr6TlhVY/iswmprK3/8WuV0wcLfdCp3eB8nfajltl/Kmd+vq8j8Wd1Lz1eamepi4TV5/ufJd1KZbTNz0XFZ0vdXOINMds+tz7fZml9tF6Vr51PameNshpbfxMqbVMMtizNM7+9dp5k8zwbJ99ubX3Exupp9TGLM4tB7S81P62duTHU5pLijGVq12b/Brs2tt5GvjofNWf8PPPl/XoWoy8T14+dP7E+/1o2FntMhvlyfl1vDNV/vy+ub6G/8vNv0lrrcQ75ftmcsfumv0ern9k5Ys537949GMvcH+/r13qcZ9p+bsuWjcYnzif1Pzsva/t1TsbxyGIplc/Kyj+LO9tux41e99RWa6lYa/PW16H+ZraK1c4TzVO1EU1Vb6nfve3EuOceN8c361fveapYS9cUJZ9l5JcjsSrG2nj5um1d8cfzKpZrvVbb1r+lPlOU2pRj1kfFkc2/Up3HbNP15Vg/xdCKv9V/1VNb6hzUOevLLjUffJ3HrLfmv/nbP9Rk8y5eH7J245jJdOS9mbVn5609VVT67GzjaE9M6SnyVmwxpiz22nb1w2LTHy9LscXP9ac6V0qxk4gqqYRtGtg4UDqRs4mrkzlOviUmWwjx8mXrhL0s2PEh1JfVek/95lJLQqkuO0n1r8xoW0/9Kpstlx4vtaPxLF24VWZkOWf+ZH2zdrXPLkDxhqi24nYdE+d2q75WP+fUqxh7PujOLZvFbfMuuuk8LdlYPYoh7lffszdJdmw2z1VnHKcs7tJ21dHjqD62rmG98ajv0cTi1L7obPsUc6kdnXelfaX++/pa/Rq9NlvS3P+rUVn72i5fxS6DLC4dZ0uVrc0jX97W1V5P/fHY1muN0cj1T/Go/7U2ttBf9dHmaO//cQ7V+mj7Ssmp7BjN/ZZ5b7msna1s1xwYvX5onmXnSm1/1mb2YbBUvrRNptp3iuue2mwtNc/tOtFKKiv+zNba0v1T81THjIyjjmm1E8+3ucfpnOm5NskzmxOaXz11WR2WoNfXra0/rXtK9n5BcfmlYqw5+vJLrsth5P4z0jfF2hpzGZTmn+rQUvMgXu/t9w9b/9u/NGx/SFa/e8Zf7daWrfhb/a/VrX26Buic1XZbymSp/vi656z3zBH7Sp4lXlrXM7Ufx0ymPXNXx/aUVXs9pipTGhPV01qqjpGxq82FVntL7CcR1aGoCRovapqMdgHzNxK7iNgPy/objX/qRfWNTOKOMA9Fek5Y1aX4R+IYqV/tjCyXqF++S42X4reTNb4JOuYElv/I/NENyo75/e9/f3nR1dMa+vHgeBHSxSm+OZlbn0yy5Zx6NW7WN/srg/+xY51Tf/vb3w5Nzi1r/fePoNpfBfTURpwvvg/+ONvuf8ctHqfYorW3yuZ5Nk7+2Na62u9x1BzMrgG+LrvG+b+smIP9tcf+9S9d37zZEvPT+joagx2jfo2cW76tzKNlH/crDp2P6ktP/bKM15zYhn+t65Ha8/uOXdfctNh73+yNxLOF/pau8ce6HXO8zFtvTEtxy751bIzP5qg91h+vX63t8YmOOe1rDoze33SexZjVt9p+nZPxOq5Y4vZSeZUdjVvjW4pb7ega1rr2qq89S1937722FKPasvuZxam5NsdDMbXaidfDY48b8VW/sjnRc12X2cgye79QqkMx1hxLxy2xTefZiMNI3xRja8xlEMdJx/ulzkGbB3P+tzmvfi91323F3+q/75+uw3P6lh2zVD99nLX1OXOkVp/ti2Mm0565q2N7yioOzbOaXek+ruN7lz3txLo0R3T9jvv1m6g+9tK2eFzvaxJRHVKaoKWLmgawdMLaB7F79+69lbzQRWaNG8XICas4LPY1H6PtIL4sMhL/5UFhZenxsuplFcfM4i3NixBS+nLO/NGFJs45iy27OOjC6Y/RRWVOfWmH3I459Zbi9DH7C+WSZeObW3Uj64PFpPM7jr/mX5wrqtOW2Twv9Unj5I9vrZfqKTmqXO2GqjL+eL8e7TKzufPT+joagx0z59zKzvOWd7ZfcWsMNTdq3r4uWZqxHrOOSaBTPWItGxv7vf5GlM2ZOJ/9eJx6XePvr3sxBo1LvN7MvTepzeig7Tb+Pp5s+7Ht+2uMrfdcP6KBrHQelvbrnIzXcbnG7Vl57+Bj74nbl9e1wmJX3H6/X49jpP72LFt1a4zV35Kd2rGxtrh0jG0f9ehtJ/Z57nEWY8sgtpXNCW2vGclqzjJ7v1Cqa+1YSm1qm9q2udDzmUK/YzPq1hpzxRHPXcW59FLzyJ+7x7TRir/Vf9927X2Qv5aMrC/VTx9nbX1k/tfq8fvimMm0572ZxsfMlvpqnuocPRd8n2xd/bDY7D2j/Yaw/yOGyo+8b9T13cdW2qa6R5ckojrENLDZRc1+KFYXVBt8e5NuX+HQxIo3M2tyrTe8oyesnqTpvQjFv3p28A0VGY2/VPka46WLlr9IaXz9tlI8rW1z5o8lnPy/cKgn8vTmr3Sj+Oc///nGMb7MnPpa/bL9c+o1V//ous4p+3Hk+CF8rbK+bzb2/vy289mf3/G6oPnnL9q+PluvzfPaOMV6aq97bErzulSnXSfsa7R6ytPGxByUHInHzBn3Vr9HY7CY5pxbS16b5atzTXNj5Jphc827167Vdn32T/zFcTn2tc0p/d5BLQ7tmxPPVfZ37pv22rl+jLmu5/4DfqxPc8zPKRsn+yOY3xaPy17bHK09ERXfA6i8335M+xbX6PVDBtk41PbrnIzXcfUhbs/Kz4nbjlnjupeNbdxufWzda9XfzNbq1IeSOE9HxrG3nfh+eu5xshi5r2Rzwupa8r6h2LSsvV9QGS0Vo67BI8s411XnyPIUnylaYy6DJfrT03ddX3Sf7zmmVqYVf6v/tbrPcd/I/O/tXxwzmfbeMzVGveeXXbfi9dHHqnh62/fHxnWry39macXYep9m13Grw8/v0rYYR+9rElG9UguXG530vc3PPWHtA5t9wPDJDU1eS6xlHzh74+otNzf+3vrnliu9ydAY+pNzbv0chwAC2xDQeb3UGwJLIukaMbdue9NjX/e2H76OSSm7Pn/22WeHH8w8laB92LBrtb4KrHuFLZe4X1xVf88xEbXFe5Pmueb9qeYl7SBwVQKa80vcN2IfRt4Xj35A9tfuJRM3a36mkHWWHJXBkv2JY+JfK4mw1PWuFX+r/z62PayPzP/e/sYxk+no+dt6L6QnA+Mf0WOcpft4LDP62s7BBw8eVD/X2w+tX/V/JKKucATWOLnWqPOURFuMP7tA2V+r41/nTmlFWwggsI7AWteh7FqyTi+o9dwFWk9EZfPpqu9NV93+uY878Z+nwFr3jbXqPU/lX79+RCLqw7e+JXCuY1qL+xTzP7uX1uJaat9Vtr1UH46ph0TUMXpHHnvdJ9+RfCc7PLsIWgY7uxGeLLgTNqT56v+Clq3XHkE9Yci7aAr30w+jzEf/Onb6SGnxOgts9d503e6NVz0Hdb3K7sd+O/fm9UZL48B9Yz1jakZgbwLZfXxv/cz6QyIqkznR9tZfPE8UBs0kAozPrzB6k+Xf1GbrvNn91e3YNdyPFZx3POf+PDeOOo0A8/M0zufQCveI7YwS5+V2xoJIENi6ANeLaSIRtfVZSnwIIIAAAggggAACCCCAAAIIIIDATgRIRO1kIOkGAggggAACCCCAAAIIIIAAAgggsHUBElFbHyHiQwABBBBAAAEEEEAAAQQQQAABBHYiQCJqJwNJNxBAAAEEEEAAAQQQQAABBBBAAIGtC5CI2voIER8CCCCAAAIIIIAAAggggAACCCCwEwESUTsZSLqBAAIIIIAAAggggAACCCCAAAIIbF2ARNTWR4j4EEAAAQQQQAABBBBAAAEEEEAAgZ0IkIjayUDSDQQQQAABBBBAAAEEEEAAAQQQQGDrAiSitj5CxIcAAggggAACCCCAAAIIIIAAAgjsRIBE1E4Gkm4ggAACCCCAAAIIIIAAAggggAACWxcgEbX1ESI+BBBAAAEEEEAAAQQQQAABBBBAYCcCJKJ2MpB0AwEEEEAAAQQQQAABBBBAAAEEENi6AImorY8Q8SGAAAIIIIAAAggggAACCCCAAAI7ESARtZOBpBsIIIAAAggggAACCCCAAAIIIIDA1gVIRG19hIgPAQQQQAABBBBAAAEEEEAAAQQQ2IkAiaidDCTdQAABBBBAAAEEEEAAAQQQQAABBLYuQCJq6yNEfAgggAACCCCAAAIIIIAAAggggMBOBEhE7WQg6QYCCCCAAAIIIIAAAggggAACCCCwdQESUVsfIeJDAAEEEEAAAQQQQAABBBBAAAEEdiJAImonA0k3EEAAAQQQQAABBBBAAAEEEEAAga0LkIja+ggRHwIIIIAAAggggAACCCCAAAIIILATARJROxlIuoEAAggggAACCCCAAAIIIIAAAghsXYBE1NZHiPgQQAABBBBAAAEEEEAAAQQQQACBnQiQiNrJQNINBBBAAAEEEEAAAQQQQAABBBBAYOsCJKK2PkLEhwACCCCAAAIIIIAAAggggAACCOxEgETUTgaSbiCAAAIIIIAAAggggAACCCCAAAJbFyARtfURIj4EEEAAAQQQQAABBBBAAAEEEEBgJwIkonYykHQDAQQQQAABBBBAAAEEEEAAAQQQ2LoAiaitjxDxIYAAAggggAACCCCAAAIIIIAAAjsRIBG1k4GkGwgggAACCCCAAAIIIIAAAggggMDWBUhEbX2EiA8BBBBAAAEEEEAAAQQQQAABBBDYiQCJqJ0MJN1AAAEEEEAAAQQQQAABBBBAAAEEti5AImrrI0R8CCCAAAIIIIAAAggggAACCCCAwE4ESETtZCDpBgIIIIAAAggggAACCCCAAAIIILB1ARJRWx8h4kMAAQQQQAABBBBAAAEEEEAAAQR2IkAiaicDSTcQQAABBBBAAAEEEEAAAQQQQACBrQuQiNr6CBEfAggggAACCCCAAAIIIIAAAgggsBMBElE7GUi6gQACCCCAAAIIIIAAAggggAACCGxdgETU1keI+BBAAAEEEEAAAQQQQAABBBBAAIGdCJCI2slA0g0EEEAAAQQQQAABBBBAAAEEEEBg6wIkorY+QsSHAAIIIIAAAggggAACCCCAAAII7ESARNROBpJuIIAAAggggAACCCCAAAIIIIAAAlsXIBG19REiPgQQQAABBBBAAAEEEEAAAQQQQGAnAiSidjKQdAMBBBBAAAEEEEAAAQQQQAABBBDYusC1SER999130zvvvDN9+eWXh/H45Zdfpnv37h22PXv27KgxevLkyRt1H1XZygfL4dNPPx1qybweP3483b59+9BXs3z33Xen+/fvT99//31a108//TTduHFjeu+996ZXr16l5diBAAIIIIAAAggggAACCCCAAALXQ4BEFImo6kxXMsmST9n/SvDFinQsiagow2sEEEAAAQQQQAABBBBAAAEErqfAWSWi9ERPlhDx2+2JnYuLi8Oo6jglTEaeiNITT77uOeujTyHF6fj555+niaBaPB9++OH0+vXrNxx6Y/n555+nmzdvHtq9devW9OLFi8uw9JSUPfFk7cv2ssA0TSSivAbrCCCAAAIIIIAAAggggAACCCBAIqrxRNR1TkQp+VVLXCnJV3rqiUQUFxgEEEAAAQQQQAABBBBAAAEEEPACZ5WI8oFrXYmi0hM5KqNkicqMPBGlOkpL/8SQJWJqv5dUOv7U2+RQSywpJvXNP1mmfXGphJV8tZ9ElCRYIoAAAggggAACCCCAAAIIIICACZCIajwRlU2Tly9fTnfu3Dl8Le2DDz44LHuSNll9p9g+kohSEsl/tS+LMatXdZSelsrqYjsCCCCAAAIIIIAAAggggAACCOxXgETUYCLqv//97/TFF18cEk/220gPHz48/AaTnsyyba1/Te6Y6aSnuUrJHe3LEmJZwqgUj5JIJKJKOmxDAAEEEEAAAQQQQAABBBBAAIE5AiSiOhJRlnz661//evkElCWbLNnz9OnTN8y//fbbN8rYk1JfffXV9OOPP75R7pgXSjaRiDpGkWMRQAABBBBAAAEEEEAAAQQQQOAqBM4+EZX9PpHH1JNA+g0jJXMsofSskohS3VZO/1sCypJL+pfofDtaf/78+XT79u3LY3Rsz9NFqiNbKvbSU0/aV0pSWX1y4DeiMl22I4AAAggggAACCCCAAAIIIIDAmgJnnYhS4sUSPUqu+G1KAGk5mojS19M++uij6dGjR8M/Rm5PUj1+/Hiy4y2GWtKrd5DVv7UTURaPEnFmmyXelNwqJb/kV9rX21/KIYAAAggggAACCCCAAAIIIIDAfgQWSURZwkE/3F36ytpaXPqX3SzJo6eNlKhR8skvRxNRa8V9TL3q3zGJKG9i61miyPveunVrevHixWXoFocl2W7cuHFIssn2ssA0TSSivAbrCCCAAAIIIIAAAggggAACCCBwdCJKyYaY3Fji6Z/W8OhpHGu7lJjR8SqnZImSOXZcKU6Vj31a6nWpTcXaWir2Un+VOMoSS1m/svIWSza+3kKuMXYdW6s/HsNrBBBAAAEEEEAAAQQQQAABBBDYr8DRiSh9fcsnJmxdTyitSWdtW0LmwYMH6VM51r4SMEqYKJljcZaSQiof+7TU61KbvU6K/ZhElL7GONKmPf3kf/fK2m/964AkonqFKYcAAggggAACCCCAAAIIIIDA9RA420SUkhyW8PrXv/51+IpY9uSNEku9iaiRoX/y5Ek1CTZSV0/Zq0hE9cRVKqMxysaldAzbEEAAAQQQQAABBBBAAAEEEEBgvwJnm4jSk1h6uii+9kO2p0SU9UtPgl1cXPhuTr1fzRt9IuqNRniBAAIIIIAAAggggAACCCCAAAIIzBQ4OhGlp17i19aUIJoZV/UwJZb81/8UR+npG5Wf+0SUnnqKfex9rXarnRrYmSXdlIjyLr5aOYwmovQUVm9/Y7nSmPi4WEcAAQQQQAABBBBAAAEEEEAAgeshcHQiypgsCXSqfzVPyZbSbyQpQRMTLUrAKCHkEys9CTMSUb9M9+7dO3wFMSaZel6TiLoeFxN6iQACCCCAAAIIIIAAAggggEBLYJFEVKuRpfb7BJKSSr5uJaksOfL06dPLXccmoi4rGlxRAqsU60hVSrD1JH1KZZS0k0NM1I3EMlJW40EiakSNsggggAACCCCAAAIIIIAAAgjsV+BsElE+CVVLpOgrepaQ0dNOSsAoIeTrUpk1hphE1M/TzZs3JxJRa8wu6kQAAQQQQAABBBBAAAEEEEDg/ATOJhFltM+fP5/u3r07vX79uiptiaeHDx9eljs2EaWEUulpo55tSoBVgz7BTjnUEnmlMHzirqe/sQyJqJIq2xBAAAEEEEAAAQQQQAABBBC4fgJnlYiaOzxKwCgh5BMrPU9EkYjiN6Lmzj2OQwABBBBAAAEEEEAAAQQQQACBXwVIRD179qtGsqZElBJZSbHNb1ZCbu4TUfqtqc13lAARQAABBBBAAAEEEEAAAQQQQGCTAiSiSEQ1J6aeICMR1aSiAAIIIIAAAggggAACCCCAAAIIVARIRA0kouJvH/W+3koC59gnonr7Wyo3+hRWZc6yCwEEEEAAAQQQQAABBBBAAAEEzlSARBSJqObU1RNRpQRT7zYSUU1mCiCAAAIIIIAAAggggAACCCCwe4FrkYiKo+gTKz0/Vh6PP9fXc5+IOtf+EjcCCCCAAAIIIIAAAggggAACCGxL4FomorY1BESDAAIIIIAAAggggAACCCCAAAIIXA8BElHXY5zpJQIIIIAAAggggAACCCCAAAIIIHDlAiSirnwICAABBBBAAAEEEEAAAQQQQAABBBC4HgIkoq7HONNLBBBAAAEEEEAAAQQQQAABBBBA4MoFSERd+RAQAAIIIIAAAggggAACCCCAAAIIIHA9BEhEXY9xppcIIIAAAggggAACCCCAAAIIIIDAlQuQiLryISAABBBAAAEEEEAAAQQQQAABBBBA4HoIkIi6HuNMLxFAAAEEEEAAAQQQQAABBBBAAIErFyARdeVDQAAIIIAAAggggAACCCCAAAIIIIDA9RAgEXU9xpleIoAAAggggAACCCCAAAIIIIAAAlcuQCLqyoeAABBAAAEEEEAAAQQQQAABBBBAAIHrIUAi6nqM87Xv5ZMnT6Z33nmn+/9PP/10UbOff/55unnz5rRkvUvX+fnnn3f7mOWHH344vX79ehGnX375Zbp3796idS4SGJUggAACCCCAAAIIIIAAAggsKkAialFOKtuqgCWi3nvvvenVq1fVEFvJHSVMepJaX3755WVbrXovCw6srFFnT/MyIBHVo0UZBBBAAAEEEEAAAQQQQAABL0AiymuwvluBpRJRJaDvvvtuevfdd6eLi4vS7sO2VtKo92kkn/xp1ZkGc+SOnkSUmbSSdf7psJ46jwybwxFAAAEEEEAAAQQQQAABBDYgQCKqYxD0Idl/cLbDlAgofeD+6KOPpq+++mr697//3dECRZYQyMbJ6l4zEWV1H5uIiv1XIufZs2dx1+Vrzb84Ly8LrLRSc+5psnS8tvlEm+rqHTuVZ4kAAggggAACCCCAAAIIILBdARJRHWOjD8nxA78SAaVElN/mv6LV0dzuipjfn/70p+nu3buL/aZQCamWsKjt83VpTONY+zJxXU8z+XHWNj8PbL233j0nomTsvXSOlRJR2tdrF8eH1wgggAACCCCAAAIIIIAAAtsRIBHVMRbZB2F9oC59QP7hhx+m3/3ud5dfT/Ifujua3FUR+ZWSDEt1VGOROa+ViPrpp5+mGzduTPYEXO03qBRfaa6UDPaciLK+xSfIWnOkdEzJjW0IIIAAAggggAACCCCAAALbFiAR1TE++pAckwg9yQUlKuIH745md1NEfmsmolqJJtsfn06qvY5jXRoMjb/163//+1/1X8VT2Z56rS3FmyXWrMxonaU+zNmm8eztS2zDnhaLc0F1xu06Vvvntql6WCKAAAIIIIAAAggggAACCFytAImoDv/sQ3BvIkBPt9SSCh1hHIq8fPny8KSVPYVjiRRLcP3xj39863CV88mWjz/+ePrmm2/eKmtJjyxRptj9bxX5bZZou3PnzmWS5/79+298/a71FTX/pMvTp08PTxdZLLdv305jiuMRX7/VwWSD70dSJN1svtbvW7duXf5LfEo6Pnz48A0Dq6R3rqhBudUSL6N1qm6/VDt+nsxZr8Xp25NRPBc0hlkiyupoJRt9O6wjgAACCCCAAAIIIIAAAghsU4BEVMe46ENy/LDduwFmwwAACBZJREFUmwjoLdcKxRInSkD5ZEFMIinB4sv49ZgEmJuIevToUTEen0zIEh2yVCLq66+/vkxmWX/+8pe/HOqOsZqRkhlKjsXXLUftl5Pq0fba0ubC8+fPD7H5fuoYn6D6/vvvtXkoEaX5YmO25Nf9LoMZWKnNjYFqDkV1HpX6pH1+ntq6H5u54zwaJ+URQAABBBBAAAEEEEAAAQTWEyAR1WGrD8lKnugQJQzidu3XUseXEhcq01rqQ7glaexf43v9+vXhEKv7D3/4w3RxcXF47cvZE0YqZzuVQImJq1qyoZSs0TZLFPinfywJc/PmzUNCyScQav33dfmkU+0YS275ZIbV4V+3LLVfbftYtS9bWly/+c1v3uh3LGtl7PfBfH9654rVZeNhtn/+85/TZJyVG6kzxtj7ujY3eutQOfWr5F0bbx2v/npX7WOJAAIIIIAAAggggAACCCBwHgIkojrGSR+SY8JJH4zj9lKVljw5JhFV+xDv22uVU/LFf5ivJRtU3icPtK3UH+3z9cuvVr5kWIqrZG7lSomo7Gms+NRN63UpNm/es16Ku3ScEolqMybd/DG9dfpjRtdLYzBah5W3eszZzwtfT22OqJzKyEbbWSKAAAIIIIAAAggggAACCJyPwNkkovShu5U00P5SYmLusGQfgBVT64Oxji8lYnpi6j2+p1ypTC3ZoMRSKRHlt6kfSqT4hEOpTZUv1a998vV1Wfn4RNexST61d9VLOfn+yaA0d7SvNf+O6VdtbvTWqySUPT2X/ae+l/rpj7GxXrO/vi3WEUAAAQQQQAABBBBAAAEElhcgEdVhqg/J8QNwbyKgt1wWSu/xirP2Yb5UppZsKCWKStsU+5xElE+8qB4t4xNBpaRTaZuOX3MpByU/e5ZxDik+Gxfrh9URE3wyjcf2zgu1UVuqrp4+qEyMJ9ZvfbKvKFp5n0yM5ex1aV6Wyl3VWJdiYRsCCCCAAAIIIIAAAggggMC4wNkkosa7ttwR+pAcP3jrw3vcHlvWEyExwRDLZa/Vfi3BZMf2lCuV2XIiSskes1NCJiY1WskJjZMSKD3L1phmY5VtVwylejUmFpf9rlfpP3OwH6r3c6BWZ6mOpbYp3lJfrA3b//jx40O8lmTM+uTjUZ2+f36/1m2ss3ZVhiUCCCCAAAIIIIAAAggggMB2BUhEdYyNPiTHD8A9iQD7gXBLMLQ+YLfCsA/gtSeHdLyVs/aypJcSOz6ZU9pWq0/lS22UkkXyKxlYXbV+6VizzxJmtr1Ut/owsvTtjRzXKlubK9am/QB6K2Fjth9//PH06tWrQ3O1OlvxHLO/x+iLL76Y7t+/P/l/ObDWpuqsjaPKxPOwVi/7EEAAAQQQQAABBBBAAAEEtiVAIqpjPLIPwFkiwMp/++230507dw5JoSV+r0rJn/iEibV17L+ap+SRTwhZvZZM0NNDPumkWPw2Maoun+iSn69f5VuJKCtniSYzNM9SEkL7laBR3XOWirXUzpz6dEw2V7R/znKNOnviWMNIdfYkovzc6omXMggggAACCCCAAAIIIIAAAtsRIBHVMRb6kByTE0oEKFlTWt66deutp0JKyZqOMC7/5bHYTkzwWGImltFrKxsTSOqfyvjlb3/727eesBpNRFnfYkyy7ElEycviirFb3bb//fffny4uLnoYq2VkofiqhQd2aq4sWe8adfZ0aQ0j1VlLRGkelOZAT9yUQQABBBBAAAEEEEAAAQQQuHoBElEdY6APyTGJoESAT9zYuiV77GtJL168KNZ+zBM8/kkra+uDDz4ofqXr5cuX0yeffPJGQqr2VSnro35YWvV+8803UynpVNqmjipZEJ9aifXLsicRJf/syTKNQ2xTMY0s1ZbiGzm2VlYxLlnvGnXW+qB9axipzloiyuZKNgcUG0sEEEAAAQQQQAABBBBAAIFtC5CIuoLx4QeXx9CV3Kolccy0lsTobVEJkVpbvXX5cmskjdao08ecra9hpDqzMdT+pccl6yPbEUAAAQQQQAABBBBAAAEE1hEgEbWOa1qrkgd8vSglemtHzw+1K1l1rOtaCQ+N+5KJlDXqfAu/sGENI9WZJaKWGt9Cd9iEAAIIIIAAAggggAACCCBwQgESUSfEtqbs60XZh+0Th3IWzdlXEW/cuNFlttRTUWcBc82C5CnCazbgdBcBBBBAAAEEEEAAAQR2K0AiardDe94d8z9uHn+MPeuZnhBa4reisjbYfnoBfhvq9Oa0iAACCCCAAAIIIIAAAgisJUAiai1Z6j1KQIko+1cHl/jX8I4KhoMRQAABBBBAAAEEEEAAAQQQQGARARJRizBSCQIIIIAAAggggAACCCCAAAIIIIBAS4BEVEuI/QgggAACCCCAAAIIIIAAAggggAACiwiQiFqEkUoQQAABBBBAAAEEEEAAAQQQQAABBFoCJKJaQuxHAAEEEEAAAQQQQAABBBBAAAEEEFhEgETUIoxUggACCCCAAAIIIIAAAggggAACCCDQEiAR1RJiPwIIIIAAAggggAACCCCAAAIIIIDAIgIkohZhpBIEEEAAAQQQQAABBBBAAAEEEEAAgZYAiaiWEPsRQAABBBBAAAEEEEAAAQQQQAABBBYRIBG1CCOVIIAAAggggAACCCCAAAIIIIAAAgi0BEhEtYTYjwACCCCAAAIIIIAAAggggAACCCCwiACJqEUYqQQBBBBAAAEEEEAAAQQQQAABBBBAoCVAIqolxH4EEEAAAQQQQAABBBBAAAEEEEAAgUUE/g8q0XEv8edUwAAAAABJRU5ErkJggg==)"
      ]
    },
    {
      "cell_type": "code",
      "metadata": {
        "id": "suT-Qf-vnvxO"
      },
      "source": [
        "import pandas as pd\n",
        "import numpy as np\n",
        "import matplotlib.pyplot as plt\n",
        "import seaborn as sns\n",
        "sns.set()\n",
        "from datetime import datetime\n",
        "from sklearn.preprocessing import LabelEncoder\n",
        "from xgboost.sklearn import XGBClassifier\n",
        "\n",
        "import warnings\n",
        "warnings.filterwarnings(\"ignore\")\n",
        "\n",
        "import os\n",
        "for dirname, _, filenames in os.walk('/kaggle/input'):\n",
        "    for filename in filenames:\n",
        "        print(os.path.join(dirname, filename))\n",
        "\n",
        "#add colores for plot bars\n",
        "colors = ['#1f77b4', '#ff7f0e', '#2ca02c', '#d62728', '#9467bd',\n",
        "          '#8c564b', '#e377c2', '#7f7f7f', '#bcbd22', '#17becf']     "
      ],
      "execution_count": null,
      "outputs": []
    },
    {
      "cell_type": "code",
      "metadata": {
        "id": "w1cA0zSJ4ALl"
      },
      "source": [
        "age_gender = pd.read_csv('age_gender_bkts.csv')\n",
        "country = pd.read_csv('countries.csv')\n",
        "session = pd.read_csv('sessions.csv')\n",
        "test = pd.read_csv('test_users.csv',parse_dates=['timestamp_first_active','date_account_created','date_first_booking'])\n",
        "train = pd.read_csv('train_users_2.csv',parse_dates=['timestamp_first_active','date_account_created','date_first_booking'])\n",
        "\n",
        "a = pd.read_csv('sample_submission_NDF.csv')"
      ],
      "execution_count": null,
      "outputs": []
    },
    {
      "cell_type": "code",
      "metadata": {
        "colab": {
          "base_uri": "https://localhost:8080/",
          "height": 204
        },
        "id": "0-3w8beQqh7v",
        "outputId": "c0f440b4-a07c-421e-c069-70264c894f4b"
      },
      "source": [
        "country.head()"
      ],
      "execution_count": null,
      "outputs": [
        {
          "output_type": "execute_result",
          "data": {
            "text/html": [
              "<div>\n",
              "<style scoped>\n",
              "    .dataframe tbody tr th:only-of-type {\n",
              "        vertical-align: middle;\n",
              "    }\n",
              "\n",
              "    .dataframe tbody tr th {\n",
              "        vertical-align: top;\n",
              "    }\n",
              "\n",
              "    .dataframe thead th {\n",
              "        text-align: right;\n",
              "    }\n",
              "</style>\n",
              "<table border=\"1\" class=\"dataframe\">\n",
              "  <thead>\n",
              "    <tr style=\"text-align: right;\">\n",
              "      <th></th>\n",
              "      <th>country_destination</th>\n",
              "      <th>lat_destination</th>\n",
              "      <th>lng_destination</th>\n",
              "      <th>distance_km</th>\n",
              "      <th>destination_km2</th>\n",
              "      <th>destination_language</th>\n",
              "      <th>language_levenshtein_distance</th>\n",
              "    </tr>\n",
              "  </thead>\n",
              "  <tbody>\n",
              "    <tr>\n",
              "      <th>0</th>\n",
              "      <td>AU</td>\n",
              "      <td>-26.853388</td>\n",
              "      <td>133.275160</td>\n",
              "      <td>15297.7440</td>\n",
              "      <td>7741220.0</td>\n",
              "      <td>eng</td>\n",
              "      <td>0.00</td>\n",
              "    </tr>\n",
              "    <tr>\n",
              "      <th>1</th>\n",
              "      <td>CA</td>\n",
              "      <td>62.393303</td>\n",
              "      <td>-96.818146</td>\n",
              "      <td>2828.1333</td>\n",
              "      <td>9984670.0</td>\n",
              "      <td>eng</td>\n",
              "      <td>0.00</td>\n",
              "    </tr>\n",
              "    <tr>\n",
              "      <th>2</th>\n",
              "      <td>DE</td>\n",
              "      <td>51.165707</td>\n",
              "      <td>10.452764</td>\n",
              "      <td>7879.5680</td>\n",
              "      <td>357022.0</td>\n",
              "      <td>deu</td>\n",
              "      <td>72.61</td>\n",
              "    </tr>\n",
              "    <tr>\n",
              "      <th>3</th>\n",
              "      <td>ES</td>\n",
              "      <td>39.896027</td>\n",
              "      <td>-2.487694</td>\n",
              "      <td>7730.7240</td>\n",
              "      <td>505370.0</td>\n",
              "      <td>spa</td>\n",
              "      <td>92.25</td>\n",
              "    </tr>\n",
              "    <tr>\n",
              "      <th>4</th>\n",
              "      <td>FR</td>\n",
              "      <td>46.232193</td>\n",
              "      <td>2.209667</td>\n",
              "      <td>7682.9450</td>\n",
              "      <td>643801.0</td>\n",
              "      <td>fra</td>\n",
              "      <td>92.06</td>\n",
              "    </tr>\n",
              "  </tbody>\n",
              "</table>\n",
              "</div>"
            ],
            "text/plain": [
              "  country_destination  ...  language_levenshtein_distance\n",
              "0                  AU  ...                           0.00\n",
              "1                  CA  ...                           0.00\n",
              "2                  DE  ...                          72.61\n",
              "3                  ES  ...                          92.25\n",
              "4                  FR  ...                          92.06\n",
              "\n",
              "[5 rows x 7 columns]"
            ]
          },
          "metadata": {
            "tags": []
          },
          "execution_count": 11
        }
      ]
    },
    {
      "cell_type": "code",
      "metadata": {
        "colab": {
          "base_uri": "https://localhost:8080/",
          "height": 204
        },
        "id": "pDmmYKwlpd9c",
        "outputId": "676b88ad-0dd9-4941-f543-442582a20d1c"
      },
      "source": [
        "country.head()"
      ],
      "execution_count": null,
      "outputs": [
        {
          "output_type": "execute_result",
          "data": {
            "text/html": [
              "<div>\n",
              "<style scoped>\n",
              "    .dataframe tbody tr th:only-of-type {\n",
              "        vertical-align: middle;\n",
              "    }\n",
              "\n",
              "    .dataframe tbody tr th {\n",
              "        vertical-align: top;\n",
              "    }\n",
              "\n",
              "    .dataframe thead th {\n",
              "        text-align: right;\n",
              "    }\n",
              "</style>\n",
              "<table border=\"1\" class=\"dataframe\">\n",
              "  <thead>\n",
              "    <tr style=\"text-align: right;\">\n",
              "      <th></th>\n",
              "      <th>country_destination</th>\n",
              "      <th>lat_destination</th>\n",
              "      <th>lng_destination</th>\n",
              "      <th>distance_km</th>\n",
              "      <th>destination_km2</th>\n",
              "      <th>destination_language</th>\n",
              "      <th>language_levenshtein_distance</th>\n",
              "    </tr>\n",
              "  </thead>\n",
              "  <tbody>\n",
              "    <tr>\n",
              "      <th>0</th>\n",
              "      <td>AU</td>\n",
              "      <td>-26.853388</td>\n",
              "      <td>133.275160</td>\n",
              "      <td>15297.7440</td>\n",
              "      <td>7741220.0</td>\n",
              "      <td>eng</td>\n",
              "      <td>0.00</td>\n",
              "    </tr>\n",
              "    <tr>\n",
              "      <th>1</th>\n",
              "      <td>CA</td>\n",
              "      <td>62.393303</td>\n",
              "      <td>-96.818146</td>\n",
              "      <td>2828.1333</td>\n",
              "      <td>9984670.0</td>\n",
              "      <td>eng</td>\n",
              "      <td>0.00</td>\n",
              "    </tr>\n",
              "    <tr>\n",
              "      <th>2</th>\n",
              "      <td>DE</td>\n",
              "      <td>51.165707</td>\n",
              "      <td>10.452764</td>\n",
              "      <td>7879.5680</td>\n",
              "      <td>357022.0</td>\n",
              "      <td>deu</td>\n",
              "      <td>72.61</td>\n",
              "    </tr>\n",
              "    <tr>\n",
              "      <th>3</th>\n",
              "      <td>ES</td>\n",
              "      <td>39.896027</td>\n",
              "      <td>-2.487694</td>\n",
              "      <td>7730.7240</td>\n",
              "      <td>505370.0</td>\n",
              "      <td>spa</td>\n",
              "      <td>92.25</td>\n",
              "    </tr>\n",
              "    <tr>\n",
              "      <th>4</th>\n",
              "      <td>FR</td>\n",
              "      <td>46.232193</td>\n",
              "      <td>2.209667</td>\n",
              "      <td>7682.9450</td>\n",
              "      <td>643801.0</td>\n",
              "      <td>fra</td>\n",
              "      <td>92.06</td>\n",
              "    </tr>\n",
              "  </tbody>\n",
              "</table>\n",
              "</div>"
            ],
            "text/plain": [
              "  country_destination  ...  language_levenshtein_distance\n",
              "0                  AU  ...                           0.00\n",
              "1                  CA  ...                           0.00\n",
              "2                  DE  ...                          72.61\n",
              "3                  ES  ...                          92.25\n",
              "4                  FR  ...                          92.06\n",
              "\n",
              "[5 rows x 7 columns]"
            ]
          },
          "metadata": {
            "tags": []
          },
          "execution_count": 12
        }
      ]
    },
    {
      "cell_type": "code",
      "metadata": {
        "colab": {
          "base_uri": "https://localhost:8080/",
          "height": 204
        },
        "id": "rsKSCPwypfLf",
        "outputId": "f8610271-ddd2-40e2-9771-0221fe130e12"
      },
      "source": [
        "session.head()"
      ],
      "execution_count": null,
      "outputs": [
        {
          "output_type": "execute_result",
          "data": {
            "text/html": [
              "<div>\n",
              "<style scoped>\n",
              "    .dataframe tbody tr th:only-of-type {\n",
              "        vertical-align: middle;\n",
              "    }\n",
              "\n",
              "    .dataframe tbody tr th {\n",
              "        vertical-align: top;\n",
              "    }\n",
              "\n",
              "    .dataframe thead th {\n",
              "        text-align: right;\n",
              "    }\n",
              "</style>\n",
              "<table border=\"1\" class=\"dataframe\">\n",
              "  <thead>\n",
              "    <tr style=\"text-align: right;\">\n",
              "      <th></th>\n",
              "      <th>user_id</th>\n",
              "      <th>action</th>\n",
              "      <th>action_type</th>\n",
              "      <th>action_detail</th>\n",
              "      <th>device_type</th>\n",
              "      <th>secs_elapsed</th>\n",
              "    </tr>\n",
              "  </thead>\n",
              "  <tbody>\n",
              "    <tr>\n",
              "      <th>0</th>\n",
              "      <td>d1mm9tcy42</td>\n",
              "      <td>lookup</td>\n",
              "      <td>NaN</td>\n",
              "      <td>NaN</td>\n",
              "      <td>Windows Desktop</td>\n",
              "      <td>319.0</td>\n",
              "    </tr>\n",
              "    <tr>\n",
              "      <th>1</th>\n",
              "      <td>d1mm9tcy42</td>\n",
              "      <td>search_results</td>\n",
              "      <td>click</td>\n",
              "      <td>view_search_results</td>\n",
              "      <td>Windows Desktop</td>\n",
              "      <td>67753.0</td>\n",
              "    </tr>\n",
              "    <tr>\n",
              "      <th>2</th>\n",
              "      <td>d1mm9tcy42</td>\n",
              "      <td>lookup</td>\n",
              "      <td>NaN</td>\n",
              "      <td>NaN</td>\n",
              "      <td>Windows Desktop</td>\n",
              "      <td>301.0</td>\n",
              "    </tr>\n",
              "    <tr>\n",
              "      <th>3</th>\n",
              "      <td>d1mm9tcy42</td>\n",
              "      <td>search_results</td>\n",
              "      <td>click</td>\n",
              "      <td>view_search_results</td>\n",
              "      <td>Windows Desktop</td>\n",
              "      <td>22141.0</td>\n",
              "    </tr>\n",
              "    <tr>\n",
              "      <th>4</th>\n",
              "      <td>d1mm9tcy42</td>\n",
              "      <td>lookup</td>\n",
              "      <td>NaN</td>\n",
              "      <td>NaN</td>\n",
              "      <td>Windows Desktop</td>\n",
              "      <td>435.0</td>\n",
              "    </tr>\n",
              "  </tbody>\n",
              "</table>\n",
              "</div>"
            ],
            "text/plain": [
              "      user_id          action  ...      device_type secs_elapsed\n",
              "0  d1mm9tcy42          lookup  ...  Windows Desktop        319.0\n",
              "1  d1mm9tcy42  search_results  ...  Windows Desktop      67753.0\n",
              "2  d1mm9tcy42          lookup  ...  Windows Desktop        301.0\n",
              "3  d1mm9tcy42  search_results  ...  Windows Desktop      22141.0\n",
              "4  d1mm9tcy42          lookup  ...  Windows Desktop        435.0\n",
              "\n",
              "[5 rows x 6 columns]"
            ]
          },
          "metadata": {
            "tags": []
          },
          "execution_count": 13
        }
      ]
    },
    {
      "cell_type": "code",
      "metadata": {
        "colab": {
          "base_uri": "https://localhost:8080/",
          "height": 204
        },
        "id": "davKY6OOpgLI",
        "outputId": "f81e1a3a-73d7-45d6-f510-82fec6eb4bc5"
      },
      "source": [
        "train.head()"
      ],
      "execution_count": null,
      "outputs": [
        {
          "output_type": "execute_result",
          "data": {
            "text/html": [
              "<div>\n",
              "<style scoped>\n",
              "    .dataframe tbody tr th:only-of-type {\n",
              "        vertical-align: middle;\n",
              "    }\n",
              "\n",
              "    .dataframe tbody tr th {\n",
              "        vertical-align: top;\n",
              "    }\n",
              "\n",
              "    .dataframe thead th {\n",
              "        text-align: right;\n",
              "    }\n",
              "</style>\n",
              "<table border=\"1\" class=\"dataframe\">\n",
              "  <thead>\n",
              "    <tr style=\"text-align: right;\">\n",
              "      <th></th>\n",
              "      <th>id</th>\n",
              "      <th>date_account_created</th>\n",
              "      <th>timestamp_first_active</th>\n",
              "      <th>date_first_booking</th>\n",
              "      <th>gender</th>\n",
              "      <th>age</th>\n",
              "      <th>signup_method</th>\n",
              "      <th>signup_flow</th>\n",
              "      <th>language</th>\n",
              "      <th>affiliate_channel</th>\n",
              "      <th>affiliate_provider</th>\n",
              "      <th>first_affiliate_tracked</th>\n",
              "      <th>signup_app</th>\n",
              "      <th>first_device_type</th>\n",
              "      <th>first_browser</th>\n",
              "      <th>country_destination</th>\n",
              "    </tr>\n",
              "  </thead>\n",
              "  <tbody>\n",
              "    <tr>\n",
              "      <th>0</th>\n",
              "      <td>gxn3p5htnn</td>\n",
              "      <td>2010-06-28</td>\n",
              "      <td>2009-03-19 04:32:55</td>\n",
              "      <td>NaT</td>\n",
              "      <td>-unknown-</td>\n",
              "      <td>NaN</td>\n",
              "      <td>facebook</td>\n",
              "      <td>0</td>\n",
              "      <td>en</td>\n",
              "      <td>direct</td>\n",
              "      <td>direct</td>\n",
              "      <td>untracked</td>\n",
              "      <td>Web</td>\n",
              "      <td>Mac Desktop</td>\n",
              "      <td>Chrome</td>\n",
              "      <td>NDF</td>\n",
              "    </tr>\n",
              "    <tr>\n",
              "      <th>1</th>\n",
              "      <td>820tgsjxq7</td>\n",
              "      <td>2011-05-25</td>\n",
              "      <td>2009-05-23 17:48:09</td>\n",
              "      <td>NaT</td>\n",
              "      <td>MALE</td>\n",
              "      <td>38.0</td>\n",
              "      <td>facebook</td>\n",
              "      <td>0</td>\n",
              "      <td>en</td>\n",
              "      <td>seo</td>\n",
              "      <td>google</td>\n",
              "      <td>untracked</td>\n",
              "      <td>Web</td>\n",
              "      <td>Mac Desktop</td>\n",
              "      <td>Chrome</td>\n",
              "      <td>NDF</td>\n",
              "    </tr>\n",
              "    <tr>\n",
              "      <th>2</th>\n",
              "      <td>4ft3gnwmtx</td>\n",
              "      <td>2010-09-28</td>\n",
              "      <td>2009-06-09 23:12:47</td>\n",
              "      <td>2010-08-02</td>\n",
              "      <td>FEMALE</td>\n",
              "      <td>56.0</td>\n",
              "      <td>basic</td>\n",
              "      <td>3</td>\n",
              "      <td>en</td>\n",
              "      <td>direct</td>\n",
              "      <td>direct</td>\n",
              "      <td>untracked</td>\n",
              "      <td>Web</td>\n",
              "      <td>Windows Desktop</td>\n",
              "      <td>IE</td>\n",
              "      <td>US</td>\n",
              "    </tr>\n",
              "    <tr>\n",
              "      <th>3</th>\n",
              "      <td>bjjt8pjhuk</td>\n",
              "      <td>2011-12-05</td>\n",
              "      <td>2009-10-31 06:01:29</td>\n",
              "      <td>2012-09-08</td>\n",
              "      <td>FEMALE</td>\n",
              "      <td>42.0</td>\n",
              "      <td>facebook</td>\n",
              "      <td>0</td>\n",
              "      <td>en</td>\n",
              "      <td>direct</td>\n",
              "      <td>direct</td>\n",
              "      <td>untracked</td>\n",
              "      <td>Web</td>\n",
              "      <td>Mac Desktop</td>\n",
              "      <td>Firefox</td>\n",
              "      <td>other</td>\n",
              "    </tr>\n",
              "    <tr>\n",
              "      <th>4</th>\n",
              "      <td>87mebub9p4</td>\n",
              "      <td>2010-09-14</td>\n",
              "      <td>2009-12-08 06:11:05</td>\n",
              "      <td>2010-02-18</td>\n",
              "      <td>-unknown-</td>\n",
              "      <td>41.0</td>\n",
              "      <td>basic</td>\n",
              "      <td>0</td>\n",
              "      <td>en</td>\n",
              "      <td>direct</td>\n",
              "      <td>direct</td>\n",
              "      <td>untracked</td>\n",
              "      <td>Web</td>\n",
              "      <td>Mac Desktop</td>\n",
              "      <td>Chrome</td>\n",
              "      <td>US</td>\n",
              "    </tr>\n",
              "  </tbody>\n",
              "</table>\n",
              "</div>"
            ],
            "text/plain": [
              "           id date_account_created  ... first_browser country_destination\n",
              "0  gxn3p5htnn           2010-06-28  ...        Chrome                 NDF\n",
              "1  820tgsjxq7           2011-05-25  ...        Chrome                 NDF\n",
              "2  4ft3gnwmtx           2010-09-28  ...            IE                  US\n",
              "3  bjjt8pjhuk           2011-12-05  ...       Firefox               other\n",
              "4  87mebub9p4           2010-09-14  ...        Chrome                  US\n",
              "\n",
              "[5 rows x 16 columns]"
            ]
          },
          "metadata": {
            "tags": []
          },
          "execution_count": 14
        }
      ]
    },
    {
      "cell_type": "code",
      "metadata": {
        "colab": {
          "base_uri": "https://localhost:8080/",
          "height": 204
        },
        "id": "D3DvDC_npiZI",
        "outputId": "2d42fe31-4750-4d78-905a-85d5a4751f5a"
      },
      "source": [
        "test.head()"
      ],
      "execution_count": null,
      "outputs": [
        {
          "output_type": "execute_result",
          "data": {
            "text/html": [
              "<div>\n",
              "<style scoped>\n",
              "    .dataframe tbody tr th:only-of-type {\n",
              "        vertical-align: middle;\n",
              "    }\n",
              "\n",
              "    .dataframe tbody tr th {\n",
              "        vertical-align: top;\n",
              "    }\n",
              "\n",
              "    .dataframe thead th {\n",
              "        text-align: right;\n",
              "    }\n",
              "</style>\n",
              "<table border=\"1\" class=\"dataframe\">\n",
              "  <thead>\n",
              "    <tr style=\"text-align: right;\">\n",
              "      <th></th>\n",
              "      <th>id</th>\n",
              "      <th>date_account_created</th>\n",
              "      <th>timestamp_first_active</th>\n",
              "      <th>date_first_booking</th>\n",
              "      <th>gender</th>\n",
              "      <th>age</th>\n",
              "      <th>signup_method</th>\n",
              "      <th>signup_flow</th>\n",
              "      <th>language</th>\n",
              "      <th>affiliate_channel</th>\n",
              "      <th>affiliate_provider</th>\n",
              "      <th>first_affiliate_tracked</th>\n",
              "      <th>signup_app</th>\n",
              "      <th>first_device_type</th>\n",
              "      <th>first_browser</th>\n",
              "    </tr>\n",
              "  </thead>\n",
              "  <tbody>\n",
              "    <tr>\n",
              "      <th>0</th>\n",
              "      <td>5uwns89zht</td>\n",
              "      <td>2014-07-01</td>\n",
              "      <td>2014-07-01 00:00:06</td>\n",
              "      <td>NaT</td>\n",
              "      <td>FEMALE</td>\n",
              "      <td>35.0</td>\n",
              "      <td>facebook</td>\n",
              "      <td>0</td>\n",
              "      <td>en</td>\n",
              "      <td>direct</td>\n",
              "      <td>direct</td>\n",
              "      <td>untracked</td>\n",
              "      <td>Moweb</td>\n",
              "      <td>iPhone</td>\n",
              "      <td>Mobile Safari</td>\n",
              "    </tr>\n",
              "    <tr>\n",
              "      <th>1</th>\n",
              "      <td>jtl0dijy2j</td>\n",
              "      <td>2014-07-01</td>\n",
              "      <td>2014-07-01 00:00:51</td>\n",
              "      <td>NaT</td>\n",
              "      <td>-unknown-</td>\n",
              "      <td>NaN</td>\n",
              "      <td>basic</td>\n",
              "      <td>0</td>\n",
              "      <td>en</td>\n",
              "      <td>direct</td>\n",
              "      <td>direct</td>\n",
              "      <td>untracked</td>\n",
              "      <td>Moweb</td>\n",
              "      <td>iPhone</td>\n",
              "      <td>Mobile Safari</td>\n",
              "    </tr>\n",
              "    <tr>\n",
              "      <th>2</th>\n",
              "      <td>xx0ulgorjt</td>\n",
              "      <td>2014-07-01</td>\n",
              "      <td>2014-07-01 00:01:48</td>\n",
              "      <td>NaT</td>\n",
              "      <td>-unknown-</td>\n",
              "      <td>NaN</td>\n",
              "      <td>basic</td>\n",
              "      <td>0</td>\n",
              "      <td>en</td>\n",
              "      <td>direct</td>\n",
              "      <td>direct</td>\n",
              "      <td>linked</td>\n",
              "      <td>Web</td>\n",
              "      <td>Windows Desktop</td>\n",
              "      <td>Chrome</td>\n",
              "    </tr>\n",
              "    <tr>\n",
              "      <th>3</th>\n",
              "      <td>6c6puo6ix0</td>\n",
              "      <td>2014-07-01</td>\n",
              "      <td>2014-07-01 00:02:15</td>\n",
              "      <td>NaT</td>\n",
              "      <td>-unknown-</td>\n",
              "      <td>NaN</td>\n",
              "      <td>basic</td>\n",
              "      <td>0</td>\n",
              "      <td>en</td>\n",
              "      <td>direct</td>\n",
              "      <td>direct</td>\n",
              "      <td>linked</td>\n",
              "      <td>Web</td>\n",
              "      <td>Windows Desktop</td>\n",
              "      <td>IE</td>\n",
              "    </tr>\n",
              "    <tr>\n",
              "      <th>4</th>\n",
              "      <td>czqhjk3yfe</td>\n",
              "      <td>2014-07-01</td>\n",
              "      <td>2014-07-01 00:03:05</td>\n",
              "      <td>NaT</td>\n",
              "      <td>-unknown-</td>\n",
              "      <td>NaN</td>\n",
              "      <td>basic</td>\n",
              "      <td>0</td>\n",
              "      <td>en</td>\n",
              "      <td>direct</td>\n",
              "      <td>direct</td>\n",
              "      <td>untracked</td>\n",
              "      <td>Web</td>\n",
              "      <td>Mac Desktop</td>\n",
              "      <td>Safari</td>\n",
              "    </tr>\n",
              "  </tbody>\n",
              "</table>\n",
              "</div>"
            ],
            "text/plain": [
              "           id date_account_created  ... first_device_type  first_browser\n",
              "0  5uwns89zht           2014-07-01  ...            iPhone  Mobile Safari\n",
              "1  jtl0dijy2j           2014-07-01  ...            iPhone  Mobile Safari\n",
              "2  xx0ulgorjt           2014-07-01  ...   Windows Desktop         Chrome\n",
              "3  6c6puo6ix0           2014-07-01  ...   Windows Desktop             IE\n",
              "4  czqhjk3yfe           2014-07-01  ...       Mac Desktop         Safari\n",
              "\n",
              "[5 rows x 15 columns]"
            ]
          },
          "metadata": {
            "tags": []
          },
          "execution_count": 15
        }
      ]
    },
    {
      "cell_type": "code",
      "metadata": {
        "colab": {
          "base_uri": "https://localhost:8080/",
          "height": 204
        },
        "id": "ww0ND83-pjLa",
        "outputId": "082998e7-0697-43db-c376-286e96522722"
      },
      "source": [
        "a.head()"
      ],
      "execution_count": null,
      "outputs": [
        {
          "output_type": "execute_result",
          "data": {
            "text/html": [
              "<div>\n",
              "<style scoped>\n",
              "    .dataframe tbody tr th:only-of-type {\n",
              "        vertical-align: middle;\n",
              "    }\n",
              "\n",
              "    .dataframe tbody tr th {\n",
              "        vertical-align: top;\n",
              "    }\n",
              "\n",
              "    .dataframe thead th {\n",
              "        text-align: right;\n",
              "    }\n",
              "</style>\n",
              "<table border=\"1\" class=\"dataframe\">\n",
              "  <thead>\n",
              "    <tr style=\"text-align: right;\">\n",
              "      <th></th>\n",
              "      <th>id</th>\n",
              "      <th>country</th>\n",
              "    </tr>\n",
              "  </thead>\n",
              "  <tbody>\n",
              "    <tr>\n",
              "      <th>0</th>\n",
              "      <td>5uwns89zht</td>\n",
              "      <td>NDF</td>\n",
              "    </tr>\n",
              "    <tr>\n",
              "      <th>1</th>\n",
              "      <td>jtl0dijy2j</td>\n",
              "      <td>NDF</td>\n",
              "    </tr>\n",
              "    <tr>\n",
              "      <th>2</th>\n",
              "      <td>xx0ulgorjt</td>\n",
              "      <td>NDF</td>\n",
              "    </tr>\n",
              "    <tr>\n",
              "      <th>3</th>\n",
              "      <td>6c6puo6ix0</td>\n",
              "      <td>NDF</td>\n",
              "    </tr>\n",
              "    <tr>\n",
              "      <th>4</th>\n",
              "      <td>czqhjk3yfe</td>\n",
              "      <td>NDF</td>\n",
              "    </tr>\n",
              "  </tbody>\n",
              "</table>\n",
              "</div>"
            ],
            "text/plain": [
              "           id country\n",
              "0  5uwns89zht     NDF\n",
              "1  jtl0dijy2j     NDF\n",
              "2  xx0ulgorjt     NDF\n",
              "3  6c6puo6ix0     NDF\n",
              "4  czqhjk3yfe     NDF"
            ]
          },
          "metadata": {
            "tags": []
          },
          "execution_count": 16
        }
      ]
    },
    {
      "cell_type": "markdown",
      "metadata": {
        "id": "fdFxwZNxyDU8"
      },
      "source": [
        "시각화"
      ]
    },
    {
      "cell_type": "code",
      "metadata": {
        "colab": {
          "base_uri": "https://localhost:8080/",
          "height": 938
        },
        "id": "pGk_UROcpmir",
        "outputId": "14edcb46-cf5e-40ee-bb7d-d916feed22b3"
      },
      "source": [
        "plt.rcParams['figure.figsize'] = [20,16]\n",
        "sns.barplot(list(age_gender['age_bucket']),list(age_gender['population_in_thousands']),alpha = 0.8)"
      ],
      "execution_count": null,
      "outputs": [
        {
          "output_type": "execute_result",
          "data": {
            "text/plain": [
              "<matplotlib.axes._subplots.AxesSubplot at 0x7f88b631ac50>"
            ]
          },
          "metadata": {
            "tags": []
          },
          "execution_count": 17
        },
        {
          "output_type": "display_data",
          "data": {
            "image/png": "[encoded data removed]",
            "text/plain": [
              "<Figure size 1440x1152 with 1 Axes>"
            ]
          },
          "metadata": {
            "tags": []
          }
        }
      ]
    },
    {
      "cell_type": "markdown",
      "metadata": {
        "id": "10ad-CTAyTu_"
      },
      "source": [
        "### country \n",
        "1) us 에서 물리적 거리별로 나열\n",
        "\n",
        "2) us 에서 언어적 거리별로 나열"
      ]
    },
    {
      "cell_type": "code",
      "metadata": {
        "colab": {
          "base_uri": "https://localhost:8080/",
          "height": 204
        },
        "id": "iUnn1sy_yiu_",
        "outputId": "3aa28d49-cec7-4a43-d2d1-88aab8332cd4"
      },
      "source": [
        "country.head()"
      ],
      "execution_count": null,
      "outputs": [
        {
          "output_type": "execute_result",
          "data": {
            "text/html": [
              "<div>\n",
              "<style scoped>\n",
              "    .dataframe tbody tr th:only-of-type {\n",
              "        vertical-align: middle;\n",
              "    }\n",
              "\n",
              "    .dataframe tbody tr th {\n",
              "        vertical-align: top;\n",
              "    }\n",
              "\n",
              "    .dataframe thead th {\n",
              "        text-align: right;\n",
              "    }\n",
              "</style>\n",
              "<table border=\"1\" class=\"dataframe\">\n",
              "  <thead>\n",
              "    <tr style=\"text-align: right;\">\n",
              "      <th></th>\n",
              "      <th>country_destination</th>\n",
              "      <th>lat_destination</th>\n",
              "      <th>lng_destination</th>\n",
              "      <th>distance_km</th>\n",
              "      <th>destination_km2</th>\n",
              "      <th>destination_language</th>\n",
              "      <th>language_levenshtein_distance</th>\n",
              "    </tr>\n",
              "  </thead>\n",
              "  <tbody>\n",
              "    <tr>\n",
              "      <th>0</th>\n",
              "      <td>AU</td>\n",
              "      <td>-26.853388</td>\n",
              "      <td>133.275160</td>\n",
              "      <td>15297.7440</td>\n",
              "      <td>7741220.0</td>\n",
              "      <td>eng</td>\n",
              "      <td>0.00</td>\n",
              "    </tr>\n",
              "    <tr>\n",
              "      <th>1</th>\n",
              "      <td>CA</td>\n",
              "      <td>62.393303</td>\n",
              "      <td>-96.818146</td>\n",
              "      <td>2828.1333</td>\n",
              "      <td>9984670.0</td>\n",
              "      <td>eng</td>\n",
              "      <td>0.00</td>\n",
              "    </tr>\n",
              "    <tr>\n",
              "      <th>2</th>\n",
              "      <td>DE</td>\n",
              "      <td>51.165707</td>\n",
              "      <td>10.452764</td>\n",
              "      <td>7879.5680</td>\n",
              "      <td>357022.0</td>\n",
              "      <td>deu</td>\n",
              "      <td>72.61</td>\n",
              "    </tr>\n",
              "    <tr>\n",
              "      <th>3</th>\n",
              "      <td>ES</td>\n",
              "      <td>39.896027</td>\n",
              "      <td>-2.487694</td>\n",
              "      <td>7730.7240</td>\n",
              "      <td>505370.0</td>\n",
              "      <td>spa</td>\n",
              "      <td>92.25</td>\n",
              "    </tr>\n",
              "    <tr>\n",
              "      <th>4</th>\n",
              "      <td>FR</td>\n",
              "      <td>46.232193</td>\n",
              "      <td>2.209667</td>\n",
              "      <td>7682.9450</td>\n",
              "      <td>643801.0</td>\n",
              "      <td>fra</td>\n",
              "      <td>92.06</td>\n",
              "    </tr>\n",
              "  </tbody>\n",
              "</table>\n",
              "</div>"
            ],
            "text/plain": [
              "  country_destination  ...  language_levenshtein_distance\n",
              "0                  AU  ...                           0.00\n",
              "1                  CA  ...                           0.00\n",
              "2                  DE  ...                          72.61\n",
              "3                  ES  ...                          92.25\n",
              "4                  FR  ...                          92.06\n",
              "\n",
              "[5 rows x 7 columns]"
            ]
          },
          "metadata": {
            "tags": []
          },
          "execution_count": 18
        }
      ]
    },
    {
      "cell_type": "code",
      "metadata": {
        "colab": {
          "base_uri": "https://localhost:8080/"
        },
        "id": "IKxE7JtDyB6a",
        "outputId": "8ac43e33-1fb7-4a9f-d761-955330e4ce22"
      },
      "source": [
        "country['country_destination'].unique() #10개 국가"
      ],
      "execution_count": null,
      "outputs": [
        {
          "output_type": "execute_result",
          "data": {
            "text/plain": [
              "array(['AU', 'CA', 'DE', 'ES', 'FR', 'GB', 'IT', 'NL', 'PT', 'US'],\n",
              "      dtype=object)"
            ]
          },
          "metadata": {
            "tags": []
          },
          "execution_count": 19
        }
      ]
    },
    {
      "cell_type": "code",
      "metadata": {
        "colab": {
          "base_uri": "https://localhost:8080/",
          "height": 523
        },
        "id": "EmsRWI-NyPQg",
        "outputId": "6c495caa-4791-4ce8-96cf-70273fce5271"
      },
      "source": [
        "plt.rcParams['figure.figsize'] = [10,8]\n",
        "sns.barplot(country['country_destination'], country['distance_km']) #물리적 거리"
      ],
      "execution_count": null,
      "outputs": [
        {
          "output_type": "execute_result",
          "data": {
            "text/plain": [
              "<matplotlib.axes._subplots.AxesSubplot at 0x7f88b61acb90>"
            ]
          },
          "metadata": {
            "tags": []
          },
          "execution_count": 20
        },
        {
          "output_type": "display_data",
          "data": {
            "image/png": "[encoded data removed]",
            "text/plain": [
              "<Figure size 720x576 with 1 Axes>"
            ]
          },
          "metadata": {
            "tags": []
          }
        }
      ]
    },
    {
      "cell_type": "code",
      "metadata": {
        "colab": {
          "base_uri": "https://localhost:8080/",
          "height": 523
        },
        "id": "LQ7TlI4DyoK8",
        "outputId": "28fe3ef8-4d78-4222-c32a-c56cc493345d"
      },
      "source": [
        "sns.barplot(country['country_destination'], country['language_levenshtein_distance']) #언어적 거리"
      ],
      "execution_count": null,
      "outputs": [
        {
          "output_type": "execute_result",
          "data": {
            "text/plain": [
              "<matplotlib.axes._subplots.AxesSubplot at 0x7f88b5e92d50>"
            ]
          },
          "metadata": {
            "tags": []
          },
          "execution_count": 21
        },
        {
          "output_type": "display_data",
          "data": {
            "image/png": "[encoded data removed]",
            "text/plain": [
              "<Figure size 720x576 with 1 Axes>"
            ]
          },
          "metadata": {
            "tags": []
          }
        }
      ]
    },
    {
      "cell_type": "markdown",
      "metadata": {
        "id": "OVQPTg81zMjg"
      },
      "source": [
        "###session"
      ]
    },
    {
      "cell_type": "code",
      "metadata": {
        "colab": {
          "base_uri": "https://localhost:8080/",
          "height": 204
        },
        "id": "2uEXu5lKy6Vq",
        "outputId": "9bb6af32-fd0c-4067-a666-accbc499af13"
      },
      "source": [
        "session.head()"
      ],
      "execution_count": null,
      "outputs": [
        {
          "output_type": "execute_result",
          "data": {
            "text/html": [
              "<div>\n",
              "<style scoped>\n",
              "    .dataframe tbody tr th:only-of-type {\n",
              "        vertical-align: middle;\n",
              "    }\n",
              "\n",
              "    .dataframe tbody tr th {\n",
              "        vertical-align: top;\n",
              "    }\n",
              "\n",
              "    .dataframe thead th {\n",
              "        text-align: right;\n",
              "    }\n",
              "</style>\n",
              "<table border=\"1\" class=\"dataframe\">\n",
              "  <thead>\n",
              "    <tr style=\"text-align: right;\">\n",
              "      <th></th>\n",
              "      <th>user_id</th>\n",
              "      <th>action</th>\n",
              "      <th>action_type</th>\n",
              "      <th>action_detail</th>\n",
              "      <th>device_type</th>\n",
              "      <th>secs_elapsed</th>\n",
              "    </tr>\n",
              "  </thead>\n",
              "  <tbody>\n",
              "    <tr>\n",
              "      <th>0</th>\n",
              "      <td>d1mm9tcy42</td>\n",
              "      <td>lookup</td>\n",
              "      <td>NaN</td>\n",
              "      <td>NaN</td>\n",
              "      <td>Windows Desktop</td>\n",
              "      <td>319.0</td>\n",
              "    </tr>\n",
              "    <tr>\n",
              "      <th>1</th>\n",
              "      <td>d1mm9tcy42</td>\n",
              "      <td>search_results</td>\n",
              "      <td>click</td>\n",
              "      <td>view_search_results</td>\n",
              "      <td>Windows Desktop</td>\n",
              "      <td>67753.0</td>\n",
              "    </tr>\n",
              "    <tr>\n",
              "      <th>2</th>\n",
              "      <td>d1mm9tcy42</td>\n",
              "      <td>lookup</td>\n",
              "      <td>NaN</td>\n",
              "      <td>NaN</td>\n",
              "      <td>Windows Desktop</td>\n",
              "      <td>301.0</td>\n",
              "    </tr>\n",
              "    <tr>\n",
              "      <th>3</th>\n",
              "      <td>d1mm9tcy42</td>\n",
              "      <td>search_results</td>\n",
              "      <td>click</td>\n",
              "      <td>view_search_results</td>\n",
              "      <td>Windows Desktop</td>\n",
              "      <td>22141.0</td>\n",
              "    </tr>\n",
              "    <tr>\n",
              "      <th>4</th>\n",
              "      <td>d1mm9tcy42</td>\n",
              "      <td>lookup</td>\n",
              "      <td>NaN</td>\n",
              "      <td>NaN</td>\n",
              "      <td>Windows Desktop</td>\n",
              "      <td>435.0</td>\n",
              "    </tr>\n",
              "  </tbody>\n",
              "</table>\n",
              "</div>"
            ],
            "text/plain": [
              "      user_id          action  ...      device_type secs_elapsed\n",
              "0  d1mm9tcy42          lookup  ...  Windows Desktop        319.0\n",
              "1  d1mm9tcy42  search_results  ...  Windows Desktop      67753.0\n",
              "2  d1mm9tcy42          lookup  ...  Windows Desktop        301.0\n",
              "3  d1mm9tcy42  search_results  ...  Windows Desktop      22141.0\n",
              "4  d1mm9tcy42          lookup  ...  Windows Desktop        435.0\n",
              "\n",
              "[5 rows x 6 columns]"
            ]
          },
          "metadata": {
            "tags": []
          },
          "execution_count": 22
        }
      ]
    },
    {
      "cell_type": "code",
      "metadata": {
        "colab": {
          "base_uri": "https://localhost:8080/"
        },
        "id": "UbZKdDXbzwLv",
        "outputId": "d76ef8ef-f47a-4eff-b1e8-a984b8471f02"
      },
      "source": [
        "len(session['user_id'].unique())"
      ],
      "execution_count": null,
      "outputs": [
        {
          "output_type": "execute_result",
          "data": {
            "text/plain": [
              "135484"
            ]
          },
          "metadata": {
            "tags": []
          },
          "execution_count": 23
        }
      ]
    },
    {
      "cell_type": "code",
      "metadata": {
        "id": "0CZBpRvRzRGU"
      },
      "source": [
        "# user별로 탐색한 횟수의 평균 : [평균적으로 1] [최대 221] [최소 1] \n",
        "\n",
        "## 각 이용자별 웹이용횟수 중 50이상인 경우의 수 : [결과 1]\n",
        "'''count = 0\n",
        "\n",
        "if (len(session.value_counts()) >= 50):\n",
        "  count+=1\n",
        "\n",
        "print(count)''' \n",
        "\n",
        "session.value_counts()\n",
        "#session.value_counts().mean()\n",
        "\n"
      ],
      "execution_count": null,
      "outputs": []
    },
    {
      "cell_type": "markdown",
      "metadata": {
        "id": "DryqPfw047R0"
      },
      "source": [
        "#EDA _train&test concat"
      ]
    },
    {
      "cell_type": "code",
      "metadata": {
        "id": "AAVcagAq5Ahx"
      },
      "source": [
        "train_test_combin = pd.concat((train, test), axis = 0, ignore_index = True)"
      ],
      "execution_count": null,
      "outputs": []
    },
    {
      "cell_type": "code",
      "metadata": {
        "id": "HzmodbLiLmMZ"
      },
      "source": [
        "train_test_combin['age'].isnull.sum()"
      ],
      "execution_count": null,
      "outputs": []
    },
    {
      "cell_type": "code",
      "metadata": {
        "colab": {
          "base_uri": "https://localhost:8080/",
          "height": 204
        },
        "id": "HATUKJXI5BKc",
        "outputId": "9288da74-30f0-4f3f-b9d1-5556e6236e77"
      },
      "source": [
        "train_test_combin.head()"
      ],
      "execution_count": null,
      "outputs": [
        {
          "output_type": "execute_result",
          "data": {
            "text/html": [
              "<div>\n",
              "<style scoped>\n",
              "    .dataframe tbody tr th:only-of-type {\n",
              "        vertical-align: middle;\n",
              "    }\n",
              "\n",
              "    .dataframe tbody tr th {\n",
              "        vertical-align: top;\n",
              "    }\n",
              "\n",
              "    .dataframe thead th {\n",
              "        text-align: right;\n",
              "    }\n",
              "</style>\n",
              "<table border=\"1\" class=\"dataframe\">\n",
              "  <thead>\n",
              "    <tr style=\"text-align: right;\">\n",
              "      <th></th>\n",
              "      <th>id</th>\n",
              "      <th>date_account_created</th>\n",
              "      <th>timestamp_first_active</th>\n",
              "      <th>date_first_booking</th>\n",
              "      <th>gender</th>\n",
              "      <th>age</th>\n",
              "      <th>signup_method</th>\n",
              "      <th>signup_flow</th>\n",
              "      <th>language</th>\n",
              "      <th>affiliate_channel</th>\n",
              "      <th>affiliate_provider</th>\n",
              "      <th>first_affiliate_tracked</th>\n",
              "      <th>signup_app</th>\n",
              "      <th>first_device_type</th>\n",
              "      <th>first_browser</th>\n",
              "      <th>country_destination</th>\n",
              "    </tr>\n",
              "  </thead>\n",
              "  <tbody>\n",
              "    <tr>\n",
              "      <th>0</th>\n",
              "      <td>gxn3p5htnn</td>\n",
              "      <td>2010-06-28</td>\n",
              "      <td>2009-03-19 04:32:55</td>\n",
              "      <td>NaT</td>\n",
              "      <td>-unknown-</td>\n",
              "      <td>NaN</td>\n",
              "      <td>facebook</td>\n",
              "      <td>0</td>\n",
              "      <td>en</td>\n",
              "      <td>direct</td>\n",
              "      <td>direct</td>\n",
              "      <td>untracked</td>\n",
              "      <td>Web</td>\n",
              "      <td>Mac Desktop</td>\n",
              "      <td>Chrome</td>\n",
              "      <td>NDF</td>\n",
              "    </tr>\n",
              "    <tr>\n",
              "      <th>1</th>\n",
              "      <td>820tgsjxq7</td>\n",
              "      <td>2011-05-25</td>\n",
              "      <td>2009-05-23 17:48:09</td>\n",
              "      <td>NaT</td>\n",
              "      <td>MALE</td>\n",
              "      <td>38.0</td>\n",
              "      <td>facebook</td>\n",
              "      <td>0</td>\n",
              "      <td>en</td>\n",
              "      <td>seo</td>\n",
              "      <td>google</td>\n",
              "      <td>untracked</td>\n",
              "      <td>Web</td>\n",
              "      <td>Mac Desktop</td>\n",
              "      <td>Chrome</td>\n",
              "      <td>NDF</td>\n",
              "    </tr>\n",
              "    <tr>\n",
              "      <th>2</th>\n",
              "      <td>4ft3gnwmtx</td>\n",
              "      <td>2010-09-28</td>\n",
              "      <td>2009-06-09 23:12:47</td>\n",
              "      <td>2010-08-02</td>\n",
              "      <td>FEMALE</td>\n",
              "      <td>56.0</td>\n",
              "      <td>basic</td>\n",
              "      <td>3</td>\n",
              "      <td>en</td>\n",
              "      <td>direct</td>\n",
              "      <td>direct</td>\n",
              "      <td>untracked</td>\n",
              "      <td>Web</td>\n",
              "      <td>Windows Desktop</td>\n",
              "      <td>IE</td>\n",
              "      <td>US</td>\n",
              "    </tr>\n",
              "    <tr>\n",
              "      <th>3</th>\n",
              "      <td>bjjt8pjhuk</td>\n",
              "      <td>2011-12-05</td>\n",
              "      <td>2009-10-31 06:01:29</td>\n",
              "      <td>2012-09-08</td>\n",
              "      <td>FEMALE</td>\n",
              "      <td>42.0</td>\n",
              "      <td>facebook</td>\n",
              "      <td>0</td>\n",
              "      <td>en</td>\n",
              "      <td>direct</td>\n",
              "      <td>direct</td>\n",
              "      <td>untracked</td>\n",
              "      <td>Web</td>\n",
              "      <td>Mac Desktop</td>\n",
              "      <td>Firefox</td>\n",
              "      <td>other</td>\n",
              "    </tr>\n",
              "    <tr>\n",
              "      <th>4</th>\n",
              "      <td>87mebub9p4</td>\n",
              "      <td>2010-09-14</td>\n",
              "      <td>2009-12-08 06:11:05</td>\n",
              "      <td>2010-02-18</td>\n",
              "      <td>-unknown-</td>\n",
              "      <td>41.0</td>\n",
              "      <td>basic</td>\n",
              "      <td>0</td>\n",
              "      <td>en</td>\n",
              "      <td>direct</td>\n",
              "      <td>direct</td>\n",
              "      <td>untracked</td>\n",
              "      <td>Web</td>\n",
              "      <td>Mac Desktop</td>\n",
              "      <td>Chrome</td>\n",
              "      <td>US</td>\n",
              "    </tr>\n",
              "  </tbody>\n",
              "</table>\n",
              "</div>"
            ],
            "text/plain": [
              "           id date_account_created  ... first_browser country_destination\n",
              "0  gxn3p5htnn           2010-06-28  ...        Chrome                 NDF\n",
              "1  820tgsjxq7           2011-05-25  ...        Chrome                 NDF\n",
              "2  4ft3gnwmtx           2010-09-28  ...            IE                  US\n",
              "3  bjjt8pjhuk           2011-12-05  ...       Firefox               other\n",
              "4  87mebub9p4           2010-09-14  ...        Chrome                  US\n",
              "\n",
              "[5 rows x 16 columns]"
            ]
          },
          "metadata": {
            "tags": []
          },
          "execution_count": 26
        }
      ]
    },
    {
      "cell_type": "code",
      "metadata": {
        "colab": {
          "base_uri": "https://localhost:8080/"
        },
        "id": "uJRtfml15NAp",
        "outputId": "dff60266-1679-4d30-a37c-5a2fbf81746d"
      },
      "source": [
        "train_test_combin.shape"
      ],
      "execution_count": null,
      "outputs": [
        {
          "output_type": "execute_result",
          "data": {
            "text/plain": [
              "(275547, 16)"
            ]
          },
          "metadata": {
            "tags": []
          },
          "execution_count": 27
        }
      ]
    },
    {
      "cell_type": "code",
      "metadata": {
        "colab": {
          "base_uri": "https://localhost:8080/"
        },
        "id": "lF19qm095OIi",
        "outputId": "a4d94283-3b64-4f6f-e5ba-37fb0744c0ba"
      },
      "source": [
        "train_test_combin.isnull().sum()"
      ],
      "execution_count": null,
      "outputs": [
        {
          "output_type": "execute_result",
          "data": {
            "text/plain": [
              "id                              0\n",
              "date_account_created            0\n",
              "timestamp_first_active          0\n",
              "date_first_booking         186639\n",
              "gender                          0\n",
              "age                        116866\n",
              "signup_method                   0\n",
              "signup_flow                     0\n",
              "language                        0\n",
              "affiliate_channel               0\n",
              "affiliate_provider              0\n",
              "first_affiliate_tracked      6085\n",
              "signup_app                      0\n",
              "first_device_type               0\n",
              "first_browser                   0\n",
              "country_destination         62096\n",
              "dtype: int64"
            ]
          },
          "metadata": {
            "tags": []
          },
          "execution_count": 28
        }
      ]
    },
    {
      "cell_type": "code",
      "metadata": {
        "colab": {
          "base_uri": "https://localhost:8080/"
        },
        "id": "J-I0QqIk5RdG",
        "outputId": "68fec30d-1388-4e76-bb29-59820f1200ac"
      },
      "source": [
        "print(train_test_combin.date_account_created.min())\n",
        "print(train_test_combin.date_account_created.max())"
      ],
      "execution_count": null,
      "outputs": [
        {
          "output_type": "stream",
          "text": [
            "2010-01-01 00:00:00\n",
            "2014-09-30 00:00:00\n"
          ],
          "name": "stdout"
        }
      ]
    },
    {
      "cell_type": "code",
      "metadata": {
        "colab": {
          "base_uri": "https://localhost:8080/"
        },
        "id": "INji8Znb5b7I",
        "outputId": "7aea1e5d-33df-4312-c761-1a80dc89cd32"
      },
      "source": [
        "train_test_combin['signup_method'].value_counts()"
      ],
      "execution_count": null,
      "outputs": [
        {
          "output_type": "execute_result",
          "data": {
            "text/plain": [
              "basic       198222\n",
              "facebook     74864\n",
              "google        2438\n",
              "weibo           23\n",
              "Name: signup_method, dtype: int64"
            ]
          },
          "metadata": {
            "tags": []
          },
          "execution_count": 30
        }
      ]
    },
    {
      "cell_type": "code",
      "metadata": {
        "colab": {
          "base_uri": "https://localhost:8080/",
          "height": 544
        },
        "id": "JhIC2Aq-5dko",
        "outputId": "77759455-86cd-444b-ede8-0ecfda86c1d2"
      },
      "source": [
        "train_test_combin.signup_method.value_counts(dropna=False).plot(kind='bar', color=colors)"
      ],
      "execution_count": null,
      "outputs": [
        {
          "output_type": "execute_result",
          "data": {
            "text/plain": [
              "<matplotlib.axes._subplots.AxesSubplot at 0x7f88b6197450>"
            ]
          },
          "metadata": {
            "tags": []
          },
          "execution_count": 31
        },
        {
          "output_type": "display_data",
          "data": {
            "image/png": "[encoded data removed]",
            "text/plain": [
              "<Figure size 720x576 with 1 Axes>"
            ]
          },
          "metadata": {
            "tags": []
          }
        }
      ]
    },
    {
      "cell_type": "code",
      "metadata": {
        "colab": {
          "base_uri": "https://localhost:8080/"
        },
        "id": "CimyQo_N5g7g",
        "outputId": "cfb475e4-7bb0-440f-d238-555d118fb208"
      },
      "source": [
        "train_test_combin['first_device_type'].value_counts()"
      ],
      "execution_count": null,
      "outputs": [
        {
          "output_type": "execute_result",
          "data": {
            "text/plain": [
              "Mac Desktop           106328\n",
              "Windows Desktop        86948\n",
              "iPhone                 39814\n",
              "iPad                   18036\n",
              "Other/Unknown          11167\n",
              "Android Phone           9458\n",
              "Android Tablet          2098\n",
              "Desktop (Other)         1507\n",
              "SmartPhone (Other)       191\n",
              "Name: first_device_type, dtype: int64"
            ]
          },
          "metadata": {
            "tags": []
          },
          "execution_count": 32
        }
      ]
    },
    {
      "cell_type": "code",
      "metadata": {
        "colab": {
          "base_uri": "https://localhost:8080/",
          "height": 605
        },
        "id": "hm9y4XHO5yza",
        "outputId": "bf0a91d9-7afc-4167-a083-a58bc86bfe40"
      },
      "source": [
        "train_test_combin.first_device_type.value_counts(dropna=False).plot(kind='bar', color=colors)"
      ],
      "execution_count": null,
      "outputs": [
        {
          "output_type": "execute_result",
          "data": {
            "text/plain": [
              "<matplotlib.axes._subplots.AxesSubplot at 0x7f88b5afc890>"
            ]
          },
          "metadata": {
            "tags": []
          },
          "execution_count": 33
        },
        {
          "output_type": "display_data",
          "data": {
            "image/png": "[encoded data removed]",
            "text/plain": [
              "<Figure size 720x576 with 1 Axes>"
            ]
          },
          "metadata": {
            "tags": []
          }
        }
      ]
    },
    {
      "cell_type": "code",
      "metadata": {
        "colab": {
          "base_uri": "https://localhost:8080/",
          "height": 511
        },
        "id": "cH2v6tZA51mW",
        "outputId": "b6c45bd3-9f26-49d4-e029-1b4b0eb965b6"
      },
      "source": [
        "plt.figure(figsize=(10,6))\n",
        "cd_count_idx = train['first_device_type'].value_counts().index\n",
        "sns.countplot(data = train, x = 'first_device_type', order = cd_count_idx, color = sns.color_palette()[0])\n",
        "plt.xlabel('Devices Type')\n",
        "plt.ylabel('Count')\n",
        "plt.title('Users Devices')\n",
        "plt.xticks(rotation=90)\n",
        "cd_count_val = train['first_device_type'].value_counts()\n",
        "\n",
        "for i in range(cd_count_val.shape[0]):\n",
        "    count = cd_count_val[i]\n",
        "    percentage ='{:0.1f}%'.format(100 * count / len(train))\n",
        "    plt.text(i, count+1000, percentage, ha='center')"
      ],
      "execution_count": null,
      "outputs": [
        {
          "output_type": "display_data",
          "data": {
            "image/png": "[encoded data removed]",
            "text/plain": [
              "<Figure size 720x432 with 1 Axes>"
            ]
          },
          "metadata": {
            "tags": []
          }
        }
      ]
    },
    {
      "cell_type": "code",
      "metadata": {
        "colab": {
          "base_uri": "https://localhost:8080/"
        },
        "id": "jpFvYIbI57SP",
        "outputId": "dbd715e0-7b90-4bc9-bd6f-57068f58e98a"
      },
      "source": [
        "train_test_combin['first_browser'].value_counts()"
      ],
      "execution_count": null,
      "outputs": [
        {
          "output_type": "execute_result",
          "data": {
            "text/plain": [
              "Chrome                  78671\n",
              "Safari                  53302\n",
              "-unknown-               44394\n",
              "Firefox                 38665\n",
              "Mobile Safari           29636\n",
              "IE                      24744\n",
              "Chrome Mobile            3186\n",
              "Android Browser          1577\n",
              "AOL Explorer              254\n",
              "Opera                     228\n",
              "Silk                      172\n",
              "IE Mobile                 118\n",
              "BlackBerry Browser         89\n",
              "Chromium                   83\n",
              "Mobile Firefox             64\n",
              "Maxthon                    60\n",
              "Apple Mail                 45\n",
              "Sogou Explorer             43\n",
              "SiteKiosk                  27\n",
              "RockMelt                   24\n",
              "Iron                       24\n",
              "Yandex.Browser             14\n",
              "IceWeasel                  14\n",
              "Pale Moon                  13\n",
              "SeaMonkey                  12\n",
              "CometBird                  12\n",
              "Camino                      9\n",
              "TenFourFox                  8\n",
              "Opera Mini                  8\n",
              "wOSBrowser                  7\n",
              "CoolNovo                    6\n",
              "Avant Browser               4\n",
              "Opera Mobile                4\n",
              "Mozilla                     3\n",
              "SlimBrowser                 2\n",
              "Comodo Dragon               2\n",
              "TheWorld Browser            2\n",
              "OmniWeb                     2\n",
              "Flock                       2\n",
              "Crazy Browser               2\n",
              "Conkeror                    1\n",
              "Stainless                   1\n",
              "UC Browser                  1\n",
              "Googlebot                   1\n",
              "NetNewsWire                 1\n",
              "IBrowse                     1\n",
              "Kindle Browser              1\n",
              "Nintendo Browser            1\n",
              "Outlook 2007                1\n",
              "PS Vita browser             1\n",
              "Epic                        1\n",
              "Google Earth                1\n",
              "IceDragon                   1\n",
              "Palm Pre web browser        1\n",
              "Arora                       1\n",
              "Name: first_browser, dtype: int64"
            ]
          },
          "metadata": {
            "tags": []
          },
          "execution_count": 35
        }
      ]
    },
    {
      "cell_type": "code",
      "metadata": {
        "colab": {
          "base_uri": "https://localhost:8080/",
          "height": 584
        },
        "id": "5na3QQbw6dB6",
        "outputId": "3a89c64c-a5f9-4bf1-9ec1-59c7203ecaee"
      },
      "source": [
        "train_test_combin['first_browser'].value_counts().head(10).plot(kind='bar', color=colors)"
      ],
      "execution_count": null,
      "outputs": [
        {
          "output_type": "execute_result",
          "data": {
            "text/plain": [
              "<matplotlib.axes._subplots.AxesSubplot at 0x7f88b5a15bd0>"
            ]
          },
          "metadata": {
            "tags": []
          },
          "execution_count": 36
        },
        {
          "output_type": "display_data",
          "data": {
            "image/png": "[encoded data removed]",
            "text/plain": [
              "<Figure size 720x576 with 1 Axes>"
            ]
          },
          "metadata": {
            "tags": []
          }
        }
      ]
    },
    {
      "cell_type": "code",
      "metadata": {
        "colab": {
          "base_uri": "https://localhost:8080/"
        },
        "id": "NrRAdlz06fXy",
        "outputId": "59165558-37c0-4bf1-f835-f789fee46089"
      },
      "source": [
        "train_test_combin['gender'].value_counts()"
      ],
      "execution_count": null,
      "outputs": [
        {
          "output_type": "execute_result",
          "data": {
            "text/plain": [
              "-unknown-    129480\n",
              "FEMALE        77524\n",
              "MALE          68209\n",
              "OTHER           334\n",
              "Name: gender, dtype: int64"
            ]
          },
          "metadata": {
            "tags": []
          },
          "execution_count": 37
        }
      ]
    },
    {
      "cell_type": "code",
      "metadata": {
        "colab": {
          "base_uri": "https://localhost:8080/",
          "height": 204
        },
        "id": "10rZvXHl6-84",
        "outputId": "20847481-1255-4a49-95c6-6ca82f37fcc4"
      },
      "source": [
        "train_test_combin.groupby('gender').age.agg(['min','max','mean','count']) ##age의 max가 2014???"
      ],
      "execution_count": null,
      "outputs": [
        {
          "output_type": "execute_result",
          "data": {
            "text/html": [
              "<div>\n",
              "<style scoped>\n",
              "    .dataframe tbody tr th:only-of-type {\n",
              "        vertical-align: middle;\n",
              "    }\n",
              "\n",
              "    .dataframe tbody tr th {\n",
              "        vertical-align: top;\n",
              "    }\n",
              "\n",
              "    .dataframe thead th {\n",
              "        text-align: right;\n",
              "    }\n",
              "</style>\n",
              "<table border=\"1\" class=\"dataframe\">\n",
              "  <thead>\n",
              "    <tr style=\"text-align: right;\">\n",
              "      <th></th>\n",
              "      <th>min</th>\n",
              "      <th>max</th>\n",
              "      <th>mean</th>\n",
              "      <th>count</th>\n",
              "    </tr>\n",
              "    <tr>\n",
              "      <th>gender</th>\n",
              "      <th></th>\n",
              "      <th></th>\n",
              "      <th></th>\n",
              "      <th></th>\n",
              "    </tr>\n",
              "  </thead>\n",
              "  <tbody>\n",
              "    <tr>\n",
              "      <th>-unknown-</th>\n",
              "      <td>1.0</td>\n",
              "      <td>2014.0</td>\n",
              "      <td>44.581328</td>\n",
              "      <td>22237</td>\n",
              "    </tr>\n",
              "    <tr>\n",
              "      <th>FEMALE</th>\n",
              "      <td>1.0</td>\n",
              "      <td>2014.0</td>\n",
              "      <td>49.645347</td>\n",
              "      <td>71907</td>\n",
              "    </tr>\n",
              "    <tr>\n",
              "      <th>MALE</th>\n",
              "      <td>1.0</td>\n",
              "      <td>2014.0</td>\n",
              "      <td>45.191540</td>\n",
              "      <td>64258</td>\n",
              "    </tr>\n",
              "    <tr>\n",
              "      <th>OTHER</th>\n",
              "      <td>17.0</td>\n",
              "      <td>2014.0</td>\n",
              "      <td>57.146953</td>\n",
              "      <td>279</td>\n",
              "    </tr>\n",
              "  </tbody>\n",
              "</table>\n",
              "</div>"
            ],
            "text/plain": [
              "            min     max       mean  count\n",
              "gender                                   \n",
              "-unknown-   1.0  2014.0  44.581328  22237\n",
              "FEMALE      1.0  2014.0  49.645347  71907\n",
              "MALE        1.0  2014.0  45.191540  64258\n",
              "OTHER      17.0  2014.0  57.146953    279"
            ]
          },
          "metadata": {
            "tags": []
          },
          "execution_count": 38
        }
      ]
    },
    {
      "cell_type": "code",
      "metadata": {
        "id": "hU2ogLla7AWK"
      },
      "source": [
        "train_test_combin.loc[train_test_combin.age > 100, 'age'] = np.nan"
      ],
      "execution_count": null,
      "outputs": []
    },
    {
      "cell_type": "code",
      "metadata": {
        "colab": {
          "base_uri": "https://localhost:8080/",
          "height": 204
        },
        "id": "lF17W7iN7cPp",
        "outputId": "1850cb8c-9b52-4585-8a67-cacf12f29e20"
      },
      "source": [
        "train_test_combin.groupby('gender').age.agg(['min','max','mean','count'])"
      ],
      "execution_count": null,
      "outputs": [
        {
          "output_type": "execute_result",
          "data": {
            "text/html": [
              "<div>\n",
              "<style scoped>\n",
              "    .dataframe tbody tr th:only-of-type {\n",
              "        vertical-align: middle;\n",
              "    }\n",
              "\n",
              "    .dataframe tbody tr th {\n",
              "        vertical-align: top;\n",
              "    }\n",
              "\n",
              "    .dataframe thead th {\n",
              "        text-align: right;\n",
              "    }\n",
              "</style>\n",
              "<table border=\"1\" class=\"dataframe\">\n",
              "  <thead>\n",
              "    <tr style=\"text-align: right;\">\n",
              "      <th></th>\n",
              "      <th>min</th>\n",
              "      <th>max</th>\n",
              "      <th>mean</th>\n",
              "      <th>count</th>\n",
              "    </tr>\n",
              "    <tr>\n",
              "      <th>gender</th>\n",
              "      <th></th>\n",
              "      <th></th>\n",
              "      <th></th>\n",
              "      <th></th>\n",
              "    </tr>\n",
              "  </thead>\n",
              "  <tbody>\n",
              "    <tr>\n",
              "      <th>-unknown-</th>\n",
              "      <td>1.0</td>\n",
              "      <td>100.0</td>\n",
              "      <td>36.470110</td>\n",
              "      <td>21412</td>\n",
              "    </tr>\n",
              "    <tr>\n",
              "      <th>FEMALE</th>\n",
              "      <td>1.0</td>\n",
              "      <td>100.0</td>\n",
              "      <td>35.711567</td>\n",
              "      <td>70838</td>\n",
              "    </tr>\n",
              "    <tr>\n",
              "      <th>MALE</th>\n",
              "      <td>1.0</td>\n",
              "      <td>100.0</td>\n",
              "      <td>36.269660</td>\n",
              "      <td>63465</td>\n",
              "    </tr>\n",
              "    <tr>\n",
              "      <th>OTHER</th>\n",
              "      <td>17.0</td>\n",
              "      <td>78.0</td>\n",
              "      <td>35.876812</td>\n",
              "      <td>276</td>\n",
              "    </tr>\n",
              "  </tbody>\n",
              "</table>\n",
              "</div>"
            ],
            "text/plain": [
              "            min    max       mean  count\n",
              "gender                                  \n",
              "-unknown-   1.0  100.0  36.470110  21412\n",
              "FEMALE      1.0  100.0  35.711567  70838\n",
              "MALE        1.0  100.0  36.269660  63465\n",
              "OTHER      17.0   78.0  35.876812    276"
            ]
          },
          "metadata": {
            "tags": []
          },
          "execution_count": 40
        }
      ]
    },
    {
      "cell_type": "code",
      "metadata": {
        "colab": {
          "base_uri": "https://localhost:8080/",
          "height": 551
        },
        "id": "9vkkNgap7dHL",
        "outputId": "46859b56-18cc-466b-cadc-e156702d55e3"
      },
      "source": [
        "train_test_combin['gender'].value_counts().plot(kind='bar', color=colors)"
      ],
      "execution_count": null,
      "outputs": [
        {
          "output_type": "execute_result",
          "data": {
            "text/plain": [
              "<matplotlib.axes._subplots.AxesSubplot at 0x7f88b564f790>"
            ]
          },
          "metadata": {
            "tags": []
          },
          "execution_count": 41
        },
        {
          "output_type": "display_data",
          "data": {
            "image/png": "[encoded data removed]",
            "text/plain": [
              "<Figure size 720x576 with 1 Axes>"
            ]
          },
          "metadata": {
            "tags": []
          }
        }
      ]
    },
    {
      "cell_type": "code",
      "metadata": {
        "colab": {
          "base_uri": "https://localhost:8080/",
          "height": 458
        },
        "id": "Wcvl3tM98KHT",
        "outputId": "9d421c43-ca10-4a15-c96c-56c029b00658"
      },
      "source": [
        "plt.figure(figsize=(10,6))\n",
        "cd_count_idx = train_test_combin['gender'].value_counts().index\n",
        "sns.countplot(data = train_test_combin, x = 'gender', order = cd_count_idx, color = sns.color_palette()[0])\n",
        "plt.xlabel('gender')\n",
        "plt.ylabel('Count')\n",
        "plt.title('gender')\n",
        "plt.xticks(rotation=90)\n",
        "\n",
        "cd_count_val = train_test_combin['gender'].value_counts()\n",
        "\n",
        "for i in range(cd_count_val.shape[0]):\n",
        "    count = cd_count_val[i]\n",
        "    percentage ='{:0.1f}%'.format(100 * count / len(train_test_combin))\n",
        "    plt.text(i, count+1000, percentage, ha='center')"
      ],
      "execution_count": null,
      "outputs": [
        {
          "output_type": "display_data",
          "data": {
            "image/png": "[encoded data removed]",
            "text/plain": [
              "<Figure size 720x432 with 1 Axes>"
            ]
          },
          "metadata": {
            "tags": []
          }
        }
      ]
    },
    {
      "cell_type": "code",
      "metadata": {
        "colab": {
          "base_uri": "https://localhost:8080/",
          "height": 258
        },
        "id": "0iXzo9koP44J",
        "outputId": "8f5bc09e-e5df-4e93-ef3f-31bea2712a88"
      },
      "source": [
        "train_test_combin.head()"
      ],
      "execution_count": null,
      "outputs": [
        {
          "output_type": "execute_result",
          "data": {
            "text/html": [
              "<div>\n",
              "<style scoped>\n",
              "    .dataframe tbody tr th:only-of-type {\n",
              "        vertical-align: middle;\n",
              "    }\n",
              "\n",
              "    .dataframe tbody tr th {\n",
              "        vertical-align: top;\n",
              "    }\n",
              "\n",
              "    .dataframe thead th {\n",
              "        text-align: right;\n",
              "    }\n",
              "</style>\n",
              "<table border=\"1\" class=\"dataframe\">\n",
              "  <thead>\n",
              "    <tr style=\"text-align: right;\">\n",
              "      <th></th>\n",
              "      <th>id</th>\n",
              "      <th>date_account_created</th>\n",
              "      <th>timestamp_first_active</th>\n",
              "      <th>date_first_booking</th>\n",
              "      <th>gender</th>\n",
              "      <th>age</th>\n",
              "      <th>signup_method</th>\n",
              "      <th>signup_flow</th>\n",
              "      <th>language</th>\n",
              "      <th>affiliate_channel</th>\n",
              "      <th>affiliate_provider</th>\n",
              "      <th>first_affiliate_tracked</th>\n",
              "      <th>signup_app</th>\n",
              "      <th>first_device_type</th>\n",
              "      <th>first_browser</th>\n",
              "      <th>country_destination</th>\n",
              "    </tr>\n",
              "  </thead>\n",
              "  <tbody>\n",
              "    <tr>\n",
              "      <th>0</th>\n",
              "      <td>gxn3p5htnn</td>\n",
              "      <td>2010-06-28</td>\n",
              "      <td>2009-03-19 04:32:55</td>\n",
              "      <td>NaT</td>\n",
              "      <td>-unknown-</td>\n",
              "      <td>NaN</td>\n",
              "      <td>facebook</td>\n",
              "      <td>0</td>\n",
              "      <td>en</td>\n",
              "      <td>direct</td>\n",
              "      <td>direct</td>\n",
              "      <td>untracked</td>\n",
              "      <td>Web</td>\n",
              "      <td>Mac Desktop</td>\n",
              "      <td>Chrome</td>\n",
              "      <td>NDF</td>\n",
              "    </tr>\n",
              "    <tr>\n",
              "      <th>1</th>\n",
              "      <td>820tgsjxq7</td>\n",
              "      <td>2011-05-25</td>\n",
              "      <td>2009-05-23 17:48:09</td>\n",
              "      <td>NaT</td>\n",
              "      <td>MALE</td>\n",
              "      <td>38.0</td>\n",
              "      <td>facebook</td>\n",
              "      <td>0</td>\n",
              "      <td>en</td>\n",
              "      <td>seo</td>\n",
              "      <td>google</td>\n",
              "      <td>untracked</td>\n",
              "      <td>Web</td>\n",
              "      <td>Mac Desktop</td>\n",
              "      <td>Chrome</td>\n",
              "      <td>NDF</td>\n",
              "    </tr>\n",
              "    <tr>\n",
              "      <th>2</th>\n",
              "      <td>4ft3gnwmtx</td>\n",
              "      <td>2010-09-28</td>\n",
              "      <td>2009-06-09 23:12:47</td>\n",
              "      <td>2010-08-02</td>\n",
              "      <td>FEMALE</td>\n",
              "      <td>56.0</td>\n",
              "      <td>basic</td>\n",
              "      <td>3</td>\n",
              "      <td>en</td>\n",
              "      <td>direct</td>\n",
              "      <td>direct</td>\n",
              "      <td>untracked</td>\n",
              "      <td>Web</td>\n",
              "      <td>Windows Desktop</td>\n",
              "      <td>IE</td>\n",
              "      <td>US</td>\n",
              "    </tr>\n",
              "    <tr>\n",
              "      <th>3</th>\n",
              "      <td>bjjt8pjhuk</td>\n",
              "      <td>2011-12-05</td>\n",
              "      <td>2009-10-31 06:01:29</td>\n",
              "      <td>2012-09-08</td>\n",
              "      <td>FEMALE</td>\n",
              "      <td>42.0</td>\n",
              "      <td>facebook</td>\n",
              "      <td>0</td>\n",
              "      <td>en</td>\n",
              "      <td>direct</td>\n",
              "      <td>direct</td>\n",
              "      <td>untracked</td>\n",
              "      <td>Web</td>\n",
              "      <td>Mac Desktop</td>\n",
              "      <td>Firefox</td>\n",
              "      <td>other</td>\n",
              "    </tr>\n",
              "    <tr>\n",
              "      <th>4</th>\n",
              "      <td>87mebub9p4</td>\n",
              "      <td>2010-09-14</td>\n",
              "      <td>2009-12-08 06:11:05</td>\n",
              "      <td>2010-02-18</td>\n",
              "      <td>-unknown-</td>\n",
              "      <td>41.0</td>\n",
              "      <td>basic</td>\n",
              "      <td>0</td>\n",
              "      <td>en</td>\n",
              "      <td>direct</td>\n",
              "      <td>direct</td>\n",
              "      <td>untracked</td>\n",
              "      <td>Web</td>\n",
              "      <td>Mac Desktop</td>\n",
              "      <td>Chrome</td>\n",
              "      <td>US</td>\n",
              "    </tr>\n",
              "  </tbody>\n",
              "</table>\n",
              "</div>"
            ],
            "text/plain": [
              "           id date_account_created  ... first_browser country_destination\n",
              "0  gxn3p5htnn           2010-06-28  ...        Chrome                 NDF\n",
              "1  820tgsjxq7           2011-05-25  ...        Chrome                 NDF\n",
              "2  4ft3gnwmtx           2010-09-28  ...            IE                  US\n",
              "3  bjjt8pjhuk           2011-12-05  ...       Firefox               other\n",
              "4  87mebub9p4           2010-09-14  ...        Chrome                  US\n",
              "\n",
              "[5 rows x 16 columns]"
            ]
          },
          "metadata": {
            "tags": []
          },
          "execution_count": 43
        }
      ]
    },
    {
      "cell_type": "code",
      "metadata": {
        "id": "U1-_fuoLPsHb"
      },
      "source": [
        "#timestamp_first_active\n",
        "\n",
        "# Splitting date into Day-Month-Year\n",
        "# account created\n",
        "train_test_combin['dac_year'] = train_test_combin.date_account_created.dt.year\n",
        "train_test_combin['dac_month'] = train_test_combin.date_account_created.dt.month\n",
        "train_test_combin['dac_day'] = train_test_combin.date_account_created.dt.day"
      ],
      "execution_count": null,
      "outputs": []
    },
    {
      "cell_type": "code",
      "metadata": {
        "colab": {
          "base_uri": "https://localhost:8080/",
          "height": 537
        },
        "id": "Sk1kEo9FPvis",
        "outputId": "8c39a20f-a938-450a-ef40-c285d189c155"
      },
      "source": [
        "train_test_combin.dac_year.value_counts(sort=False).plot(kind='bar', title='User Accounts Created Per Year')"
      ],
      "execution_count": null,
      "outputs": [
        {
          "output_type": "execute_result",
          "data": {
            "text/plain": [
              "<matplotlib.axes._subplots.AxesSubplot at 0x7f88b5643b90>"
            ]
          },
          "metadata": {
            "tags": []
          },
          "execution_count": 45
        },
        {
          "output_type": "display_data",
          "data": {
            "image/png": "[encoded data removed]",
            "text/plain": [
              "<Figure size 720x576 with 1 Axes>"
            ]
          },
          "metadata": {
            "tags": []
          }
        }
      ]
    },
    {
      "cell_type": "code",
      "metadata": {
        "colab": {
          "base_uri": "https://localhost:8080/",
          "height": 539
        },
        "id": "eevq_4fBPxRv",
        "outputId": "e558e076-5ba9-44de-bafb-479e0dcf3899"
      },
      "source": [
        "train_test_combin.country_destination.value_counts(normalize=True).plot(kind='bar',title='Countries Visited by Users')"
      ],
      "execution_count": null,
      "outputs": [
        {
          "output_type": "execute_result",
          "data": {
            "text/plain": [
              "<matplotlib.axes._subplots.AxesSubplot at 0x7f88b52e78d0>"
            ]
          },
          "metadata": {
            "tags": []
          },
          "execution_count": 46
        },
        {
          "output_type": "display_data",
          "data": {
            "image/png": "[encoded data removed]",
            "text/plain": [
              "<Figure size 720x576 with 1 Axes>"
            ]
          },
          "metadata": {
            "tags": []
          }
        }
      ]
    },
    {
      "cell_type": "code",
      "metadata": {
        "id": "l8ohAP4kVmWL"
      },
      "source": [
        "X_train_data = train.drop(['id','date_account_created','date_first_booking','timestamp_first_active', 'country_destination'], axis=1)\n",
        "X_test_data = test.drop(['id','date_account_created','date_first_booking','timestamp_first_active'], axis=1)\n",
        "train_test_combin = train_test_combin.drop(['id', 'date_account_created','date_first_booking','timestamp_first_active','country_destination'], axis=1)"
      ],
      "execution_count": null,
      "outputs": []
    },
    {
      "cell_type": "code",
      "metadata": {
        "id": "rSl7xBNzVn7_"
      },
      "source": [
        "# Replace unknown with NAN to avoid error \n",
        "train_test_combin.gender.replace('-unknown-', np.nan, inplace=True)\n",
        "train_test_combin.first_browser.replace('-unknown-', np.nan, inplace=True)"
      ],
      "execution_count": null,
      "outputs": []
    },
    {
      "cell_type": "code",
      "metadata": {
        "id": "iqSSKH8mVuKq"
      },
      "source": [
        "# Create Fetures categorical columns \n",
        "\n",
        "features = ['gender', 'signup_method', 'signup_flow', 'language',\n",
        "                'affiliate_channel', 'affiliate_provider',\n",
        "                'first_affiliate_tracked', 'signup_app',\n",
        "                'first_device_type', 'first_browser']\n",
        "\n",
        "# Get Dummies Convert categorical variable into dummy/indicator variables.\n",
        "\n",
        "train_test_combin = pd.get_dummies(train_test_combin,columns=features)"
      ],
      "execution_count": null,
      "outputs": []
    },
    {
      "cell_type": "code",
      "metadata": {
        "colab": {
          "base_uri": "https://localhost:8080/",
          "height": 270
        },
        "id": "zK3b0Mi-VwrF",
        "outputId": "3c98d8ab-5753-4310-9a8c-a5dd78ba54b4"
      },
      "source": [
        "train_test_combin.head()"
      ],
      "execution_count": null,
      "outputs": [
        {
          "output_type": "execute_result",
          "data": {
            "text/html": [
              "<div>\n",
              "<style scoped>\n",
              "    .dataframe tbody tr th:only-of-type {\n",
              "        vertical-align: middle;\n",
              "    }\n",
              "\n",
              "    .dataframe tbody tr th {\n",
              "        vertical-align: top;\n",
              "    }\n",
              "\n",
              "    .dataframe thead th {\n",
              "        text-align: right;\n",
              "    }\n",
              "</style>\n",
              "<table border=\"1\" class=\"dataframe\">\n",
              "  <thead>\n",
              "    <tr style=\"text-align: right;\">\n",
              "      <th></th>\n",
              "      <th>age</th>\n",
              "      <th>dac_year</th>\n",
              "      <th>dac_month</th>\n",
              "      <th>dac_day</th>\n",
              "      <th>gender_FEMALE</th>\n",
              "      <th>gender_MALE</th>\n",
              "      <th>gender_OTHER</th>\n",
              "      <th>signup_method_basic</th>\n",
              "      <th>signup_method_facebook</th>\n",
              "      <th>signup_method_google</th>\n",
              "      <th>signup_method_weibo</th>\n",
              "      <th>signup_flow_0</th>\n",
              "      <th>signup_flow_1</th>\n",
              "      <th>signup_flow_2</th>\n",
              "      <th>signup_flow_3</th>\n",
              "      <th>signup_flow_4</th>\n",
              "      <th>signup_flow_5</th>\n",
              "      <th>signup_flow_6</th>\n",
              "      <th>signup_flow_8</th>\n",
              "      <th>signup_flow_10</th>\n",
              "      <th>signup_flow_12</th>\n",
              "      <th>signup_flow_14</th>\n",
              "      <th>signup_flow_15</th>\n",
              "      <th>signup_flow_16</th>\n",
              "      <th>signup_flow_20</th>\n",
              "      <th>signup_flow_21</th>\n",
              "      <th>signup_flow_23</th>\n",
              "      <th>signup_flow_24</th>\n",
              "      <th>signup_flow_25</th>\n",
              "      <th>language_-unknown-</th>\n",
              "      <th>language_ca</th>\n",
              "      <th>language_cs</th>\n",
              "      <th>language_da</th>\n",
              "      <th>language_de</th>\n",
              "      <th>language_el</th>\n",
              "      <th>language_en</th>\n",
              "      <th>language_es</th>\n",
              "      <th>language_fi</th>\n",
              "      <th>language_fr</th>\n",
              "      <th>language_hr</th>\n",
              "      <th>...</th>\n",
              "      <th>first_browser_Crazy Browser</th>\n",
              "      <th>first_browser_Epic</th>\n",
              "      <th>first_browser_Firefox</th>\n",
              "      <th>first_browser_Flock</th>\n",
              "      <th>first_browser_Google Earth</th>\n",
              "      <th>first_browser_Googlebot</th>\n",
              "      <th>first_browser_IBrowse</th>\n",
              "      <th>first_browser_IE</th>\n",
              "      <th>first_browser_IE Mobile</th>\n",
              "      <th>first_browser_IceDragon</th>\n",
              "      <th>first_browser_IceWeasel</th>\n",
              "      <th>first_browser_Iron</th>\n",
              "      <th>first_browser_Kindle Browser</th>\n",
              "      <th>first_browser_Maxthon</th>\n",
              "      <th>first_browser_Mobile Firefox</th>\n",
              "      <th>first_browser_Mobile Safari</th>\n",
              "      <th>first_browser_Mozilla</th>\n",
              "      <th>first_browser_NetNewsWire</th>\n",
              "      <th>first_browser_Nintendo Browser</th>\n",
              "      <th>first_browser_OmniWeb</th>\n",
              "      <th>first_browser_Opera</th>\n",
              "      <th>first_browser_Opera Mini</th>\n",
              "      <th>first_browser_Opera Mobile</th>\n",
              "      <th>first_browser_Outlook 2007</th>\n",
              "      <th>first_browser_PS Vita browser</th>\n",
              "      <th>first_browser_Pale Moon</th>\n",
              "      <th>first_browser_Palm Pre web browser</th>\n",
              "      <th>first_browser_RockMelt</th>\n",
              "      <th>first_browser_Safari</th>\n",
              "      <th>first_browser_SeaMonkey</th>\n",
              "      <th>first_browser_Silk</th>\n",
              "      <th>first_browser_SiteKiosk</th>\n",
              "      <th>first_browser_SlimBrowser</th>\n",
              "      <th>first_browser_Sogou Explorer</th>\n",
              "      <th>first_browser_Stainless</th>\n",
              "      <th>first_browser_TenFourFox</th>\n",
              "      <th>first_browser_TheWorld Browser</th>\n",
              "      <th>first_browser_UC Browser</th>\n",
              "      <th>first_browser_Yandex.Browser</th>\n",
              "      <th>first_browser_wOSBrowser</th>\n",
              "    </tr>\n",
              "  </thead>\n",
              "  <tbody>\n",
              "    <tr>\n",
              "      <th>0</th>\n",
              "      <td>NaN</td>\n",
              "      <td>2010</td>\n",
              "      <td>6</td>\n",
              "      <td>28</td>\n",
              "      <td>0</td>\n",
              "      <td>0</td>\n",
              "      <td>0</td>\n",
              "      <td>0</td>\n",
              "      <td>1</td>\n",
              "      <td>0</td>\n",
              "      <td>0</td>\n",
              "      <td>1</td>\n",
              "      <td>0</td>\n",
              "      <td>0</td>\n",
              "      <td>0</td>\n",
              "      <td>0</td>\n",
              "      <td>0</td>\n",
              "      <td>0</td>\n",
              "      <td>0</td>\n",
              "      <td>0</td>\n",
              "      <td>0</td>\n",
              "      <td>0</td>\n",
              "      <td>0</td>\n",
              "      <td>0</td>\n",
              "      <td>0</td>\n",
              "      <td>0</td>\n",
              "      <td>0</td>\n",
              "      <td>0</td>\n",
              "      <td>0</td>\n",
              "      <td>0</td>\n",
              "      <td>0</td>\n",
              "      <td>0</td>\n",
              "      <td>0</td>\n",
              "      <td>0</td>\n",
              "      <td>0</td>\n",
              "      <td>1</td>\n",
              "      <td>0</td>\n",
              "      <td>0</td>\n",
              "      <td>0</td>\n",
              "      <td>0</td>\n",
              "      <td>...</td>\n",
              "      <td>0</td>\n",
              "      <td>0</td>\n",
              "      <td>0</td>\n",
              "      <td>0</td>\n",
              "      <td>0</td>\n",
              "      <td>0</td>\n",
              "      <td>0</td>\n",
              "      <td>0</td>\n",
              "      <td>0</td>\n",
              "      <td>0</td>\n",
              "      <td>0</td>\n",
              "      <td>0</td>\n",
              "      <td>0</td>\n",
              "      <td>0</td>\n",
              "      <td>0</td>\n",
              "      <td>0</td>\n",
              "      <td>0</td>\n",
              "      <td>0</td>\n",
              "      <td>0</td>\n",
              "      <td>0</td>\n",
              "      <td>0</td>\n",
              "      <td>0</td>\n",
              "      <td>0</td>\n",
              "      <td>0</td>\n",
              "      <td>0</td>\n",
              "      <td>0</td>\n",
              "      <td>0</td>\n",
              "      <td>0</td>\n",
              "      <td>0</td>\n",
              "      <td>0</td>\n",
              "      <td>0</td>\n",
              "      <td>0</td>\n",
              "      <td>0</td>\n",
              "      <td>0</td>\n",
              "      <td>0</td>\n",
              "      <td>0</td>\n",
              "      <td>0</td>\n",
              "      <td>0</td>\n",
              "      <td>0</td>\n",
              "      <td>0</td>\n",
              "    </tr>\n",
              "    <tr>\n",
              "      <th>1</th>\n",
              "      <td>38.0</td>\n",
              "      <td>2011</td>\n",
              "      <td>5</td>\n",
              "      <td>25</td>\n",
              "      <td>0</td>\n",
              "      <td>1</td>\n",
              "      <td>0</td>\n",
              "      <td>0</td>\n",
              "      <td>1</td>\n",
              "      <td>0</td>\n",
              "      <td>0</td>\n",
              "      <td>1</td>\n",
              "      <td>0</td>\n",
              "      <td>0</td>\n",
              "      <td>0</td>\n",
              "      <td>0</td>\n",
              "      <td>0</td>\n",
              "      <td>0</td>\n",
              "      <td>0</td>\n",
              "      <td>0</td>\n",
              "      <td>0</td>\n",
              "      <td>0</td>\n",
              "      <td>0</td>\n",
              "      <td>0</td>\n",
              "      <td>0</td>\n",
              "      <td>0</td>\n",
              "      <td>0</td>\n",
              "      <td>0</td>\n",
              "      <td>0</td>\n",
              "      <td>0</td>\n",
              "      <td>0</td>\n",
              "      <td>0</td>\n",
              "      <td>0</td>\n",
              "      <td>0</td>\n",
              "      <td>0</td>\n",
              "      <td>1</td>\n",
              "      <td>0</td>\n",
              "      <td>0</td>\n",
              "      <td>0</td>\n",
              "      <td>0</td>\n",
              "      <td>...</td>\n",
              "      <td>0</td>\n",
              "      <td>0</td>\n",
              "      <td>0</td>\n",
              "      <td>0</td>\n",
              "      <td>0</td>\n",
              "      <td>0</td>\n",
              "      <td>0</td>\n",
              "      <td>0</td>\n",
              "      <td>0</td>\n",
              "      <td>0</td>\n",
              "      <td>0</td>\n",
              "      <td>0</td>\n",
              "      <td>0</td>\n",
              "      <td>0</td>\n",
              "      <td>0</td>\n",
              "      <td>0</td>\n",
              "      <td>0</td>\n",
              "      <td>0</td>\n",
              "      <td>0</td>\n",
              "      <td>0</td>\n",
              "      <td>0</td>\n",
              "      <td>0</td>\n",
              "      <td>0</td>\n",
              "      <td>0</td>\n",
              "      <td>0</td>\n",
              "      <td>0</td>\n",
              "      <td>0</td>\n",
              "      <td>0</td>\n",
              "      <td>0</td>\n",
              "      <td>0</td>\n",
              "      <td>0</td>\n",
              "      <td>0</td>\n",
              "      <td>0</td>\n",
              "      <td>0</td>\n",
              "      <td>0</td>\n",
              "      <td>0</td>\n",
              "      <td>0</td>\n",
              "      <td>0</td>\n",
              "      <td>0</td>\n",
              "      <td>0</td>\n",
              "    </tr>\n",
              "    <tr>\n",
              "      <th>2</th>\n",
              "      <td>56.0</td>\n",
              "      <td>2010</td>\n",
              "      <td>9</td>\n",
              "      <td>28</td>\n",
              "      <td>1</td>\n",
              "      <td>0</td>\n",
              "      <td>0</td>\n",
              "      <td>1</td>\n",
              "      <td>0</td>\n",
              "      <td>0</td>\n",
              "      <td>0</td>\n",
              "      <td>0</td>\n",
              "      <td>0</td>\n",
              "      <td>0</td>\n",
              "      <td>1</td>\n",
              "      <td>0</td>\n",
              "      <td>0</td>\n",
              "      <td>0</td>\n",
              "      <td>0</td>\n",
              "      <td>0</td>\n",
              "      <td>0</td>\n",
              "      <td>0</td>\n",
              "      <td>0</td>\n",
              "      <td>0</td>\n",
              "      <td>0</td>\n",
              "      <td>0</td>\n",
              "      <td>0</td>\n",
              "      <td>0</td>\n",
              "      <td>0</td>\n",
              "      <td>0</td>\n",
              "      <td>0</td>\n",
              "      <td>0</td>\n",
              "      <td>0</td>\n",
              "      <td>0</td>\n",
              "      <td>0</td>\n",
              "      <td>1</td>\n",
              "      <td>0</td>\n",
              "      <td>0</td>\n",
              "      <td>0</td>\n",
              "      <td>0</td>\n",
              "      <td>...</td>\n",
              "      <td>0</td>\n",
              "      <td>0</td>\n",
              "      <td>0</td>\n",
              "      <td>0</td>\n",
              "      <td>0</td>\n",
              "      <td>0</td>\n",
              "      <td>0</td>\n",
              "      <td>1</td>\n",
              "      <td>0</td>\n",
              "      <td>0</td>\n",
              "      <td>0</td>\n",
              "      <td>0</td>\n",
              "      <td>0</td>\n",
              "      <td>0</td>\n",
              "      <td>0</td>\n",
              "      <td>0</td>\n",
              "      <td>0</td>\n",
              "      <td>0</td>\n",
              "      <td>0</td>\n",
              "      <td>0</td>\n",
              "      <td>0</td>\n",
              "      <td>0</td>\n",
              "      <td>0</td>\n",
              "      <td>0</td>\n",
              "      <td>0</td>\n",
              "      <td>0</td>\n",
              "      <td>0</td>\n",
              "      <td>0</td>\n",
              "      <td>0</td>\n",
              "      <td>0</td>\n",
              "      <td>0</td>\n",
              "      <td>0</td>\n",
              "      <td>0</td>\n",
              "      <td>0</td>\n",
              "      <td>0</td>\n",
              "      <td>0</td>\n",
              "      <td>0</td>\n",
              "      <td>0</td>\n",
              "      <td>0</td>\n",
              "      <td>0</td>\n",
              "    </tr>\n",
              "    <tr>\n",
              "      <th>3</th>\n",
              "      <td>42.0</td>\n",
              "      <td>2011</td>\n",
              "      <td>12</td>\n",
              "      <td>5</td>\n",
              "      <td>1</td>\n",
              "      <td>0</td>\n",
              "      <td>0</td>\n",
              "      <td>0</td>\n",
              "      <td>1</td>\n",
              "      <td>0</td>\n",
              "      <td>0</td>\n",
              "      <td>1</td>\n",
              "      <td>0</td>\n",
              "      <td>0</td>\n",
              "      <td>0</td>\n",
              "      <td>0</td>\n",
              "      <td>0</td>\n",
              "      <td>0</td>\n",
              "      <td>0</td>\n",
              "      <td>0</td>\n",
              "      <td>0</td>\n",
              "      <td>0</td>\n",
              "      <td>0</td>\n",
              "      <td>0</td>\n",
              "      <td>0</td>\n",
              "      <td>0</td>\n",
              "      <td>0</td>\n",
              "      <td>0</td>\n",
              "      <td>0</td>\n",
              "      <td>0</td>\n",
              "      <td>0</td>\n",
              "      <td>0</td>\n",
              "      <td>0</td>\n",
              "      <td>0</td>\n",
              "      <td>0</td>\n",
              "      <td>1</td>\n",
              "      <td>0</td>\n",
              "      <td>0</td>\n",
              "      <td>0</td>\n",
              "      <td>0</td>\n",
              "      <td>...</td>\n",
              "      <td>0</td>\n",
              "      <td>0</td>\n",
              "      <td>1</td>\n",
              "      <td>0</td>\n",
              "      <td>0</td>\n",
              "      <td>0</td>\n",
              "      <td>0</td>\n",
              "      <td>0</td>\n",
              "      <td>0</td>\n",
              "      <td>0</td>\n",
              "      <td>0</td>\n",
              "      <td>0</td>\n",
              "      <td>0</td>\n",
              "      <td>0</td>\n",
              "      <td>0</td>\n",
              "      <td>0</td>\n",
              "      <td>0</td>\n",
              "      <td>0</td>\n",
              "      <td>0</td>\n",
              "      <td>0</td>\n",
              "      <td>0</td>\n",
              "      <td>0</td>\n",
              "      <td>0</td>\n",
              "      <td>0</td>\n",
              "      <td>0</td>\n",
              "      <td>0</td>\n",
              "      <td>0</td>\n",
              "      <td>0</td>\n",
              "      <td>0</td>\n",
              "      <td>0</td>\n",
              "      <td>0</td>\n",
              "      <td>0</td>\n",
              "      <td>0</td>\n",
              "      <td>0</td>\n",
              "      <td>0</td>\n",
              "      <td>0</td>\n",
              "      <td>0</td>\n",
              "      <td>0</td>\n",
              "      <td>0</td>\n",
              "      <td>0</td>\n",
              "    </tr>\n",
              "    <tr>\n",
              "      <th>4</th>\n",
              "      <td>41.0</td>\n",
              "      <td>2010</td>\n",
              "      <td>9</td>\n",
              "      <td>14</td>\n",
              "      <td>0</td>\n",
              "      <td>0</td>\n",
              "      <td>0</td>\n",
              "      <td>1</td>\n",
              "      <td>0</td>\n",
              "      <td>0</td>\n",
              "      <td>0</td>\n",
              "      <td>1</td>\n",
              "      <td>0</td>\n",
              "      <td>0</td>\n",
              "      <td>0</td>\n",
              "      <td>0</td>\n",
              "      <td>0</td>\n",
              "      <td>0</td>\n",
              "      <td>0</td>\n",
              "      <td>0</td>\n",
              "      <td>0</td>\n",
              "      <td>0</td>\n",
              "      <td>0</td>\n",
              "      <td>0</td>\n",
              "      <td>0</td>\n",
              "      <td>0</td>\n",
              "      <td>0</td>\n",
              "      <td>0</td>\n",
              "      <td>0</td>\n",
              "      <td>0</td>\n",
              "      <td>0</td>\n",
              "      <td>0</td>\n",
              "      <td>0</td>\n",
              "      <td>0</td>\n",
              "      <td>0</td>\n",
              "      <td>1</td>\n",
              "      <td>0</td>\n",
              "      <td>0</td>\n",
              "      <td>0</td>\n",
              "      <td>0</td>\n",
              "      <td>...</td>\n",
              "      <td>0</td>\n",
              "      <td>0</td>\n",
              "      <td>0</td>\n",
              "      <td>0</td>\n",
              "      <td>0</td>\n",
              "      <td>0</td>\n",
              "      <td>0</td>\n",
              "      <td>0</td>\n",
              "      <td>0</td>\n",
              "      <td>0</td>\n",
              "      <td>0</td>\n",
              "      <td>0</td>\n",
              "      <td>0</td>\n",
              "      <td>0</td>\n",
              "      <td>0</td>\n",
              "      <td>0</td>\n",
              "      <td>0</td>\n",
              "      <td>0</td>\n",
              "      <td>0</td>\n",
              "      <td>0</td>\n",
              "      <td>0</td>\n",
              "      <td>0</td>\n",
              "      <td>0</td>\n",
              "      <td>0</td>\n",
              "      <td>0</td>\n",
              "      <td>0</td>\n",
              "      <td>0</td>\n",
              "      <td>0</td>\n",
              "      <td>0</td>\n",
              "      <td>0</td>\n",
              "      <td>0</td>\n",
              "      <td>0</td>\n",
              "      <td>0</td>\n",
              "      <td>0</td>\n",
              "      <td>0</td>\n",
              "      <td>0</td>\n",
              "      <td>0</td>\n",
              "      <td>0</td>\n",
              "      <td>0</td>\n",
              "      <td>0</td>\n",
              "    </tr>\n",
              "  </tbody>\n",
              "</table>\n",
              "<p>5 rows × 155 columns</p>\n",
              "</div>"
            ],
            "text/plain": [
              "    age  dac_year  ...  first_browser_Yandex.Browser  first_browser_wOSBrowser\n",
              "0   NaN      2010  ...                             0                         0\n",
              "1  38.0      2011  ...                             0                         0\n",
              "2  56.0      2010  ...                             0                         0\n",
              "3  42.0      2011  ...                             0                         0\n",
              "4  41.0      2010  ...                             0                         0\n",
              "\n",
              "[5 rows x 155 columns]"
            ]
          },
          "metadata": {
            "tags": []
          },
          "execution_count": 50
        }
      ]
    },
    {
      "cell_type": "markdown",
      "metadata": {
        "id": "Eeo1dIJ0V9-_"
      },
      "source": [
        "# model"
      ]
    },
    {
      "cell_type": "markdown",
      "metadata": {
        "id": "Lb5wEbiCX6tk"
      },
      "source": [
        "1, xgboost"
      ]
    },
    {
      "cell_type": "code",
      "metadata": {
        "id": "3X-A46AXVynK"
      },
      "source": [
        "from xgboost.sklearn import XGBClassifier\n",
        "from sklearn.preprocessing import LabelEncoder"
      ],
      "execution_count": null,
      "outputs": []
    },
    {
      "cell_type": "code",
      "metadata": {
        "id": "DHypqvt0WCNW"
      },
      "source": [
        "train_df_rows_no = train.shape[0]  \n",
        "\n",
        "# Splitting the data into train and test again for the classifier\n",
        "# rows number of train data will be used for splitting\n",
        "\n",
        "# convert train_test_combin dataset into list\n",
        "all_data_list = train_test_combin.values\n",
        "X_train = all_data_list[:train_df_rows_no] # 213451\n",
        "X_test = all_data_list[train_df_rows_no:] # 213451\n",
        "\n",
        "#Create labels\n",
        "#labels = train_df['country_destination'].values\n",
        "labler = LabelEncoder()\n",
        "y = labler.fit_transform(train['country_destination'].values)\n",
        "\n",
        "# Implementation of the classifier (decision tree)\n",
        "xgb = XGBClassifier(max_depth=6, learning_rate=0.3, n_estimators=22,\n",
        "                    objective='multi:softprob', subsample=0.6, colsample_bytree=0.6, seed=0)               \n",
        "xgb.fit(X_train, y)\n",
        "y_pred = xgb.predict_proba(X_test) "
      ],
      "execution_count": null,
      "outputs": []
    },
    {
      "cell_type": "code",
      "metadata": {
        "id": "ma7WXb_rWEGu"
      },
      "source": [
        "#Taking the 5 classes with highest probabilities\n",
        "# the requirements is to predict 5 predicts for each ID (user)\n",
        "# so we will predict 5 times and save the result for each user \n",
        "\n",
        "test_ids = test['id']\n",
        "ids = []  #list of ids\n",
        "cts = []  #list of countries\n",
        "for i in range(len(test_ids)):\n",
        "    idx = test_ids[i]\n",
        "    ids += [idx] * 5\n",
        "    #save 5 results for each user \n",
        "    cts += labler.inverse_transform(np.argsort(y_pred[i])[::-1])[:5].tolist()\n",
        "\n",
        "#Generate submission\n",
        "sub = pd.DataFrame(np.column_stack((ids, cts)), columns=['id', 'country'])\n",
        "sub.to_csv('submission.csv',index=False)"
      ],
      "execution_count": null,
      "outputs": []
    },
    {
      "cell_type": "code",
      "metadata": {
        "colab": {
          "base_uri": "https://localhost:8080/",
          "height": 359
        },
        "id": "eOg6Xz5zWN1K",
        "outputId": "a449645a-e118-49b6-bb92-9e53d784c081"
      },
      "source": [
        "submission = pd.read_csv('submission.csv')\n",
        "submission.head(10)"
      ],
      "execution_count": null,
      "outputs": [
        {
          "output_type": "execute_result",
          "data": {
            "text/html": [
              "<div>\n",
              "<style scoped>\n",
              "    .dataframe tbody tr th:only-of-type {\n",
              "        vertical-align: middle;\n",
              "    }\n",
              "\n",
              "    .dataframe tbody tr th {\n",
              "        vertical-align: top;\n",
              "    }\n",
              "\n",
              "    .dataframe thead th {\n",
              "        text-align: right;\n",
              "    }\n",
              "</style>\n",
              "<table border=\"1\" class=\"dataframe\">\n",
              "  <thead>\n",
              "    <tr style=\"text-align: right;\">\n",
              "      <th></th>\n",
              "      <th>id</th>\n",
              "      <th>country</th>\n",
              "    </tr>\n",
              "  </thead>\n",
              "  <tbody>\n",
              "    <tr>\n",
              "      <th>0</th>\n",
              "      <td>5uwns89zht</td>\n",
              "      <td>NDF</td>\n",
              "    </tr>\n",
              "    <tr>\n",
              "      <th>1</th>\n",
              "      <td>5uwns89zht</td>\n",
              "      <td>US</td>\n",
              "    </tr>\n",
              "    <tr>\n",
              "      <th>2</th>\n",
              "      <td>5uwns89zht</td>\n",
              "      <td>other</td>\n",
              "    </tr>\n",
              "    <tr>\n",
              "      <th>3</th>\n",
              "      <td>5uwns89zht</td>\n",
              "      <td>FR</td>\n",
              "    </tr>\n",
              "    <tr>\n",
              "      <th>4</th>\n",
              "      <td>5uwns89zht</td>\n",
              "      <td>ES</td>\n",
              "    </tr>\n",
              "    <tr>\n",
              "      <th>5</th>\n",
              "      <td>jtl0dijy2j</td>\n",
              "      <td>NDF</td>\n",
              "    </tr>\n",
              "    <tr>\n",
              "      <th>6</th>\n",
              "      <td>jtl0dijy2j</td>\n",
              "      <td>US</td>\n",
              "    </tr>\n",
              "    <tr>\n",
              "      <th>7</th>\n",
              "      <td>jtl0dijy2j</td>\n",
              "      <td>other</td>\n",
              "    </tr>\n",
              "    <tr>\n",
              "      <th>8</th>\n",
              "      <td>jtl0dijy2j</td>\n",
              "      <td>FR</td>\n",
              "    </tr>\n",
              "    <tr>\n",
              "      <th>9</th>\n",
              "      <td>jtl0dijy2j</td>\n",
              "      <td>GB</td>\n",
              "    </tr>\n",
              "  </tbody>\n",
              "</table>\n",
              "</div>"
            ],
            "text/plain": [
              "           id country\n",
              "0  5uwns89zht     NDF\n",
              "1  5uwns89zht      US\n",
              "2  5uwns89zht   other\n",
              "3  5uwns89zht      FR\n",
              "4  5uwns89zht      ES\n",
              "5  jtl0dijy2j     NDF\n",
              "6  jtl0dijy2j      US\n",
              "7  jtl0dijy2j   other\n",
              "8  jtl0dijy2j      FR\n",
              "9  jtl0dijy2j      GB"
            ]
          },
          "metadata": {
            "tags": []
          },
          "execution_count": 58
        }
      ]
    },
    {
      "cell_type": "markdown",
      "metadata": {
        "id": "Mia8MuoGfghj"
      },
      "source": [
        "3. tensorflow\n",
        "https://www.kaggle.com/ma7555/in-depth-analysis-and-a-keras-dense-model"
      ]
    },
    {
      "cell_type": "code",
      "metadata": {
        "id": "52Ar_3YxflBO"
      },
      "source": [
        "from tensorflow.keras.models import Sequential\n",
        "from tensorflow.keras.layers import Dense\n",
        "from tensorflow.keras.utils import to_categorical"
      ],
      "execution_count": null,
      "outputs": []
    },
    {
      "cell_type": "code",
      "metadata": {
        "colab": {
          "base_uri": "https://localhost:8080/"
        },
        "id": "PQEbTgAggEay",
        "outputId": "68e487ea-6a08-4155-8ca6-61cbb9835bef"
      },
      "source": [
        "# check for different columns between train/test datasets\n",
        "print(np.setdiff1d(train.columns, test.columns, assume_unique=True))"
      ],
      "execution_count": null,
      "outputs": [
        {
          "output_type": "stream",
          "text": [
            "['country_destination']\n"
          ],
          "name": "stdout"
        }
      ]
    },
    {
      "cell_type": "code",
      "metadata": {
        "colab": {
          "base_uri": "https://localhost:8080/",
          "height": 244
        },
        "id": "FF22WAuZgiUz",
        "outputId": "8fff483c-eb59-4055-b948-71dcbb24b3f8"
      },
      "source": [
        "# Resplitting into train/test and calculating accuracy for random guess\n",
        "new_train = df.iloc[:len(train)]\n",
        "new_test = df.iloc[len(new_train):]\n",
        "print('If you randomly guess using the same distribution, you should have an accuracy around {}%'.format(round(target_labels.value_counts(normalize=True).nlargest(1).values[0]*100, 2)))"
      ],
      "execution_count": null,
      "outputs": [
        {
          "output_type": "error",
          "ename": "NameError",
          "evalue": "ignored",
          "traceback": [
            "\u001b[0;31m---------------------------------------------------------------------------\u001b[0m",
            "\u001b[0;31mNameError\u001b[0m                                 Traceback (most recent call last)",
            "\u001b[0;32m<ipython-input-57-36e3952945ee>\u001b[0m in \u001b[0;36m<module>\u001b[0;34m()\u001b[0m\n\u001b[1;32m      1\u001b[0m \u001b[0;31m# Resplitting into train/test and calculating accuracy for random guess\u001b[0m\u001b[0;34m\u001b[0m\u001b[0;34m\u001b[0m\u001b[0;34m\u001b[0m\u001b[0m\n\u001b[0;32m----> 2\u001b[0;31m \u001b[0mnew_train\u001b[0m \u001b[0;34m=\u001b[0m \u001b[0mdf\u001b[0m\u001b[0;34m.\u001b[0m\u001b[0miloc\u001b[0m\u001b[0;34m[\u001b[0m\u001b[0;34m:\u001b[0m\u001b[0mlen\u001b[0m\u001b[0;34m(\u001b[0m\u001b[0mtrain\u001b[0m\u001b[0;34m)\u001b[0m\u001b[0;34m]\u001b[0m\u001b[0;34m\u001b[0m\u001b[0;34m\u001b[0m\u001b[0m\n\u001b[0m\u001b[1;32m      3\u001b[0m \u001b[0mnew_test\u001b[0m \u001b[0;34m=\u001b[0m \u001b[0mdf\u001b[0m\u001b[0;34m.\u001b[0m\u001b[0miloc\u001b[0m\u001b[0;34m[\u001b[0m\u001b[0mlen\u001b[0m\u001b[0;34m(\u001b[0m\u001b[0mnew_train\u001b[0m\u001b[0;34m)\u001b[0m\u001b[0;34m:\u001b[0m\u001b[0;34m]\u001b[0m\u001b[0;34m\u001b[0m\u001b[0;34m\u001b[0m\u001b[0m\n\u001b[1;32m      4\u001b[0m \u001b[0mprint\u001b[0m\u001b[0;34m(\u001b[0m\u001b[0;34m'If you randomly guess using the same distribution, you should have an accuracy around {}%'\u001b[0m\u001b[0;34m.\u001b[0m\u001b[0mformat\u001b[0m\u001b[0;34m(\u001b[0m\u001b[0mround\u001b[0m\u001b[0;34m(\u001b[0m\u001b[0mtarget_labels\u001b[0m\u001b[0;34m.\u001b[0m\u001b[0mvalue_counts\u001b[0m\u001b[0;34m(\u001b[0m\u001b[0mnormalize\u001b[0m\u001b[0;34m=\u001b[0m\u001b[0;32mTrue\u001b[0m\u001b[0;34m)\u001b[0m\u001b[0;34m.\u001b[0m\u001b[0mnlargest\u001b[0m\u001b[0;34m(\u001b[0m\u001b[0;36m1\u001b[0m\u001b[0;34m)\u001b[0m\u001b[0;34m.\u001b[0m\u001b[0mvalues\u001b[0m\u001b[0;34m[\u001b[0m\u001b[0;36m0\u001b[0m\u001b[0;34m]\u001b[0m\u001b[0;34m*\u001b[0m\u001b[0;36m100\u001b[0m\u001b[0;34m,\u001b[0m \u001b[0;36m2\u001b[0m\u001b[0;34m)\u001b[0m\u001b[0;34m)\u001b[0m\u001b[0;34m)\u001b[0m\u001b[0;34m\u001b[0m\u001b[0;34m\u001b[0m\u001b[0m\n",
            "\u001b[0;31mNameError\u001b[0m: name 'df' is not defined"
          ]
        }
      ]
    },
    {
      "cell_type": "code",
      "metadata": {
        "id": "LCPPx5okfmvP"
      },
      "source": [
        "nclasses = len(np.unique(target_labels))\n",
        "nfeatures = np.size(new_train, axis=1)\n",
        "\n",
        "target_labels_keras = to_categorical(target_labels)\n",
        "\n",
        "# keras model\n",
        "model = Sequential()\n",
        "model.add(Dense(nfeatures, activation='elu', kernel_initializer='he_normal', input_shape=(nfeatures,)))\n",
        "model.add(Dense(150, activation='elu', kernel_initializer='he_normal'))\n",
        "model.add(Dense(100, activation='elu', kernel_initializer='he_normal'))\n",
        "model.add(Dense(50, activation='elu', kernel_initializer='he_normal'))\n",
        "model.add(Dense(20, activation='elu', kernel_initializer='he_normal'))\n",
        "model.add(Dense(15, activation='elu', kernel_initializer='he_normal'))\n",
        "model.add(Dense(nclasses, activation='softmax', kernel_initializer='he_normal'))\n",
        "\n",
        "# compile model\n",
        "model.compile(optimizer='adam', loss='categorical_crossentropy', metrics=['accuracy'])"
      ],
      "execution_count": null,
      "outputs": []
    },
    {
      "cell_type": "code",
      "metadata": {
        "id": "Ff73xaARfprX"
      },
      "source": [
        "#fit model\n",
        "model.fit(new_train, target_labels_keras, validation_split=0.15, epochs=15)"
      ],
      "execution_count": null,
      "outputs": []
    },
    {
      "cell_type": "markdown",
      "metadata": {
        "id": "rq-Xgiy7YBRe"
      },
      "source": [
        "2. nDCG\n",
        "https://www.kaggle.com/c/airbnb-recruiting-new-user-bookings/discussion/17624"
      ]
    },
    {
      "cell_type": "code",
      "metadata": {
        "id": "fVBf2RS8chKe"
      },
      "source": [
        "\n",
        "# import required package\n",
        "from sklearn.metrics import ndcg_score, dcg_score\n",
        "import numpy as np\n",
        "  \n",
        "# Relevance scores in Ideal order\n",
        "true_relevance = np.asarray([[3, 2, 1, 0, 0]])\n",
        "  \n",
        "# Relevance scores in output order\n",
        "relevance_score = np.asarray([[3, 2, 0, 0, 1]])\n",
        "  \n",
        "# DCG score\n",
        "dcg = dcg_score(true_relevance, relevance_score)\n",
        "print(\"DCG score : \", dcg)\n",
        "  \n",
        "# IDCG score\n",
        "idcg = dcg_score(true_relevance, true_relevance)\n",
        "print(\"IDCG score : \", idcg)\n",
        "  \n",
        "# Normalized DCG score\n",
        "ndcg = dcg / idcg\n",
        "print(\"nDCG score : \", ndcg)\n",
        "  \n",
        "# or we can use the scikit-learn ndcg_score package\n",
        "print(\"nDCG score (from function) : \", ndcg_score(\n",
        "    true_relevance, relevance_score))"
      ],
      "execution_count": null,
      "outputs": []
    },
    {
      "cell_type": "code",
      "metadata": {
        "id": "JfuVhXeRd6qS"
      },
      "source": [
        ""
      ],
      "execution_count": null,
      "outputs": []
    }
  ]
}